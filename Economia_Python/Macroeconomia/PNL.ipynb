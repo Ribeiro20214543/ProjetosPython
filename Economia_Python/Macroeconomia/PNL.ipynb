{
 "cells": [
  {
   "cell_type": "raw",
   "id": "ae5c7c1d",
   "metadata": {},
   "source": [
    "Com base nas informações a seguir calcule o valor das exportações líquidas, o PIB e o PNL: \n",
    ". Compras governamentais $ 120 bilhões, \n",
    ". Depreciação $ 40 bilhões, \n",
    ". Consumo\t$ 400 bilhões, \n",
    ". Investimento em negócios $ 60 bilhões, \n",
    ". Exportações $ 100 bilhões, \n",
    ". Importações $ 120 bilhões, \n",
    ". Receita vinda do resto do mundo $ 10 bilhões e \n",
    ". Pagamentos para o resto do mundo $ 8 bilhões."
   ]
  },
  {
   "cell_type": "code",
   "execution_count": 4,
   "id": "0871a284",
   "metadata": {},
   "outputs": [],
   "source": [
    "import pandas as pd"
   ]
  },
  {
   "cell_type": "code",
   "execution_count": 5,
   "id": "271fd1cd",
   "metadata": {},
   "outputs": [
    {
     "name": "stdout",
     "output_type": "stream",
     "text": [
      "Digite o total de consumo: $ 400\n",
      "Digite o total de investimento: $ 60\n",
      "Digite o total de compras do governo: $ 120\n",
      "Digite o total de exportações: $ 100\n",
      "Digite o total de importações: $ 120\n",
      "Digite o total de receitas vinda do resto do mundo: $ 10\n",
      "Digite o total de pagamentos para o resto do mundo: $ 8\n",
      "Digite o total de depreciação: $ 40\n"
     ]
    }
   ],
   "source": [
    "# Solicitando os dados a serem considerados para o cálculo ao usuário\n",
    "\n",
    "c = float(input('Digite o total de consumo: $ '))\n",
    "i = float(input('Digite o total de investimento: $ '))\n",
    "g = float(input('Digite o total de compras do governo: $ '))\n",
    "x = float(input('Digite o total de exportações: $ '))\n",
    "m = float(input('Digite o total de importações: $ '))\n",
    "rrm = float(input('Digite o total de receitas vinda do resto do mundo: $ '))\n",
    "prm = float(input('Digite o total de pagamentos para o resto do mundo: $ '))\n",
    "d = float(input('Digite o total de depreciação: $ '))"
   ]
  },
  {
   "cell_type": "code",
   "execution_count": 6,
   "id": "bc26767c",
   "metadata": {},
   "outputs": [],
   "source": [
    "#calculando exportações líquidas\n",
    "\n",
    "t = x - m"
   ]
  },
  {
   "cell_type": "code",
   "execution_count": 7,
   "id": "9cb634d8",
   "metadata": {},
   "outputs": [],
   "source": [
    "#calculando PIB\n",
    "\n",
    "pib = c + i + g + t"
   ]
  },
  {
   "cell_type": "code",
   "execution_count": 8,
   "id": "8f384bf5",
   "metadata": {},
   "outputs": [],
   "source": [
    "#calculando o PNL\n",
    "\n",
    "pnl = pib + rrm - prm - d"
   ]
  },
  {
   "cell_type": "code",
   "execution_count": 9,
   "id": "adfdfbe1",
   "metadata": {},
   "outputs": [],
   "source": [
    "#Criando um dicionário DataFrame\n",
    "\n",
    "data = {\n",
    "'Componentes': ['Compras governamentais', 'Depreciação', 'Consumo', 'Investimento em negócios', 'Exportações', 'Importações', 'Receita vinda do resto do mundo', 'Pagamentos para o resto do mundo'],\n",
    "'Valores em Bilhões': ['$ {}'.format(g), '$ {}'.format(d), '$ {}'.format(c), '$ {}'.format(i), '$ {}'.format(x), '$ {}'.format(m), '$ {}'.format(rrm), '$ {}'.format(prm)]\n",
    "}"
   ]
  },
  {
   "cell_type": "code",
   "execution_count": 10,
   "id": "e621e324",
   "metadata": {},
   "outputs": [],
   "source": [
    "#Criando o DataFrame\n",
    "\n",
    "df = pd.DataFrame(data, columns=['Componentes', 'Valores em Bilhões'])"
   ]
  },
  {
   "cell_type": "code",
   "execution_count": 11,
   "id": "b099fbe0",
   "metadata": {},
   "outputs": [
    {
     "data": {
      "text/html": [
       "<div>\n",
       "<style scoped>\n",
       "    .dataframe tbody tr th:only-of-type {\n",
       "        vertical-align: middle;\n",
       "    }\n",
       "\n",
       "    .dataframe tbody tr th {\n",
       "        vertical-align: top;\n",
       "    }\n",
       "\n",
       "    .dataframe thead th {\n",
       "        text-align: right;\n",
       "    }\n",
       "</style>\n",
       "<table border=\"1\" class=\"dataframe\">\n",
       "  <thead>\n",
       "    <tr style=\"text-align: right;\">\n",
       "      <th></th>\n",
       "      <th>Componentes</th>\n",
       "      <th>Valores em Bilhões</th>\n",
       "    </tr>\n",
       "  </thead>\n",
       "  <tbody>\n",
       "    <tr>\n",
       "      <th>0</th>\n",
       "      <td>Compras governamentais</td>\n",
       "      <td>$ 120.0</td>\n",
       "    </tr>\n",
       "    <tr>\n",
       "      <th>1</th>\n",
       "      <td>Depreciação</td>\n",
       "      <td>$ 40.0</td>\n",
       "    </tr>\n",
       "    <tr>\n",
       "      <th>2</th>\n",
       "      <td>Consumo</td>\n",
       "      <td>$ 400.0</td>\n",
       "    </tr>\n",
       "    <tr>\n",
       "      <th>3</th>\n",
       "      <td>Investimento em negócios</td>\n",
       "      <td>$ 60.0</td>\n",
       "    </tr>\n",
       "    <tr>\n",
       "      <th>4</th>\n",
       "      <td>Exportações</td>\n",
       "      <td>$ 100.0</td>\n",
       "    </tr>\n",
       "    <tr>\n",
       "      <th>5</th>\n",
       "      <td>Importações</td>\n",
       "      <td>$ 120.0</td>\n",
       "    </tr>\n",
       "    <tr>\n",
       "      <th>6</th>\n",
       "      <td>Receita vinda do resto do mundo</td>\n",
       "      <td>$ 10.0</td>\n",
       "    </tr>\n",
       "    <tr>\n",
       "      <th>7</th>\n",
       "      <td>Pagamentos para o resto do mundo</td>\n",
       "      <td>$ 8.0</td>\n",
       "    </tr>\n",
       "  </tbody>\n",
       "</table>\n",
       "</div>"
      ],
      "text/plain": [
       "                        Componentes Valores em Bilhões\n",
       "0            Compras governamentais            $ 120.0\n",
       "1                       Depreciação             $ 40.0\n",
       "2                           Consumo            $ 400.0\n",
       "3          Investimento em negócios             $ 60.0\n",
       "4                       Exportações            $ 100.0\n",
       "5                       Importações            $ 120.0\n",
       "6   Receita vinda do resto do mundo             $ 10.0\n",
       "7  Pagamentos para o resto do mundo              $ 8.0"
      ]
     },
     "metadata": {},
     "output_type": "display_data"
    }
   ],
   "source": [
    "#Imprimindo o DataFrame\n",
    "\n",
    "display(df)"
   ]
  },
  {
   "cell_type": "code",
   "execution_count": 12,
   "id": "6ce2d653",
   "metadata": {},
   "outputs": [
    {
     "name": "stdout",
     "output_type": "stream",
     "text": [
      "O valor das exportações líquidas é de $ -20 bilhões na moeda local.\n"
     ]
    }
   ],
   "source": [
    "#Imprimindo o VALOR DAS EXPORTAÇÕES LÍQUIDAS\n",
    "\n",
    "print('O valor das exportações líquidas é de $ {:.0f} bilhões na moeda local.'.format(t))"
   ]
  },
  {
   "cell_type": "code",
   "execution_count": 13,
   "id": "aaf141cb",
   "metadata": {},
   "outputs": [
    {
     "name": "stdout",
     "output_type": "stream",
     "text": [
      "O seu PIB é de $ 560 trilhões na moeda local.\n"
     ]
    }
   ],
   "source": [
    "#Imprimindo o PIB\n",
    "\n",
    "print('O seu PIB é de $ {:.0f} trilhões na moeda local.'.format(pib))"
   ]
  },
  {
   "cell_type": "code",
   "execution_count": 14,
   "id": "3bb72426",
   "metadata": {},
   "outputs": [
    {
     "name": "stdout",
     "output_type": "stream",
     "text": [
      "O seu PNL é de $ 522 trilhões na moeda local.\n"
     ]
    }
   ],
   "source": [
    "#Imprimindo o PNL\n",
    "\n",
    "print('O seu PNL é de $ {:.0f} trilhões na moeda local.'.format(pnl))"
   ]
  }
 ],
 "metadata": {
  "kernelspec": {
   "display_name": "Python 3",
   "language": "python",
   "name": "python3"
  },
  "language_info": {
   "codemirror_mode": {
    "name": "ipython",
    "version": 3
   },
   "file_extension": ".py",
   "mimetype": "text/x-python",
   "name": "python",
   "nbconvert_exporter": "python",
   "pygments_lexer": "ipython3",
   "version": "3.8.8"
  }
 },
 "nbformat": 4,
 "nbformat_minor": 5
}
