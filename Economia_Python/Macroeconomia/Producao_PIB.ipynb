{
 "cells": [
  {
   "cell_type": "raw",
   "id": "d4741379",
   "metadata": {},
   "source": [
    "O país A tem Bens duráveis de $ 2.9 bilhões, Bens não duráveis de $ 2.3 bilhões, Serviços de $ 10.8 bilhões, Estrutura de $ 1.3 bilhões e Variação nos estoques de $ 0.1 bilhões. Qual é o valor em moeda local do PIB?"
   ]
  },
  {
   "cell_type": "code",
   "execution_count": 1,
   "id": "b8ae1100",
   "metadata": {},
   "outputs": [],
   "source": [
    "import pandas as pd"
   ]
  },
  {
   "cell_type": "code",
   "execution_count": 2,
   "id": "bab8bff4",
   "metadata": {},
   "outputs": [
    {
     "name": "stdout",
     "output_type": "stream",
     "text": [
      "Digite o total de Bens durávies: $ 2.9\n",
      "Digite o total de Bens não duráveis: $ 2.3\n",
      "Digite o total de Serviços: $ 10.8\n",
      "Digite o total de Estruturas $ 1.3\n",
      "Digite o total da Variação nos estoques: $ 0.1\n"
     ]
    }
   ],
   "source": [
    "#Calculando o PIB pela ótica da produção\n",
    "# Solicitando os dados a serem considerados para o cálculo ao usuário\n",
    "\n",
    "bd = float(input('Digite o total de Bens durávies: $ '))\n",
    "bn = float(input('Digite o total de Bens não duráveis: $ '))\n",
    "s = float(input('Digite o total de Serviços: $ '))\n",
    "e = float(input('Digite o total de Estruturas $ '))\n",
    "v = float(input('Digite o total da Variação nos estoques: $ '))"
   ]
  },
  {
   "cell_type": "code",
   "execution_count": 3,
   "id": "6394dae1",
   "metadata": {},
   "outputs": [],
   "source": [
    "#calculando PIB\n",
    "\n",
    "pib = bd + bn + s + e + v"
   ]
  },
  {
   "cell_type": "code",
   "execution_count": 34,
   "id": "d388f647",
   "metadata": {},
   "outputs": [],
   "source": [
    "#Criando um dicionário DataFrame\n",
    "\n",
    "data = {\n",
    "'Componentes': ['Bens duráveis', 'Bens não duráveis', 'Serviços', 'Estruturas', 'Variação nos estoques', 'PIB total'],\n",
    "'Fornecedor': ['$ {}'.format(bd), '$ {}'.format(bn), '$ {}'.format(s), '$ {}'.format(e), '$ {}'.format(v), '$ {:.1f}'.format(pib)]\n",
    "}"
   ]
  },
  {
   "cell_type": "code",
   "execution_count": 35,
   "id": "2750b13d",
   "metadata": {},
   "outputs": [],
   "source": [
    "#Criando o DataFrame\n",
    "\n",
    "df = pd.DataFrame(data, columns=['Componentes','Fornecedor'])"
   ]
  },
  {
   "cell_type": "code",
   "execution_count": 36,
   "id": "9fae5b9d",
   "metadata": {},
   "outputs": [
    {
     "data": {
      "text/html": [
       "<div>\n",
       "<style scoped>\n",
       "    .dataframe tbody tr th:only-of-type {\n",
       "        vertical-align: middle;\n",
       "    }\n",
       "\n",
       "    .dataframe tbody tr th {\n",
       "        vertical-align: top;\n",
       "    }\n",
       "\n",
       "    .dataframe thead th {\n",
       "        text-align: right;\n",
       "    }\n",
       "</style>\n",
       "<table border=\"1\" class=\"dataframe\">\n",
       "  <thead>\n",
       "    <tr style=\"text-align: right;\">\n",
       "      <th></th>\n",
       "      <th>Componentes</th>\n",
       "      <th>Fornecedor</th>\n",
       "    </tr>\n",
       "  </thead>\n",
       "  <tbody>\n",
       "    <tr>\n",
       "      <th>0</th>\n",
       "      <td>Bens duráveis</td>\n",
       "      <td>$ 2.9</td>\n",
       "    </tr>\n",
       "    <tr>\n",
       "      <th>1</th>\n",
       "      <td>Bens não duráveis</td>\n",
       "      <td>$ 2.3</td>\n",
       "    </tr>\n",
       "    <tr>\n",
       "      <th>2</th>\n",
       "      <td>Serviços</td>\n",
       "      <td>$ 10.8</td>\n",
       "    </tr>\n",
       "    <tr>\n",
       "      <th>3</th>\n",
       "      <td>Estruturas</td>\n",
       "      <td>$ 1.3</td>\n",
       "    </tr>\n",
       "    <tr>\n",
       "      <th>4</th>\n",
       "      <td>Variação nos estoques</td>\n",
       "      <td>$ 0.1</td>\n",
       "    </tr>\n",
       "    <tr>\n",
       "      <th>5</th>\n",
       "      <td>PIB total</td>\n",
       "      <td>$ 17.4</td>\n",
       "    </tr>\n",
       "  </tbody>\n",
       "</table>\n",
       "</div>"
      ],
      "text/plain": [
       "             Componentes Fornecedor\n",
       "0          Bens duráveis      $ 2.9\n",
       "1      Bens não duráveis      $ 2.3\n",
       "2               Serviços     $ 10.8\n",
       "3             Estruturas      $ 1.3\n",
       "4  Variação nos estoques      $ 0.1\n",
       "5              PIB total     $ 17.4"
      ]
     },
     "metadata": {},
     "output_type": "display_data"
    }
   ],
   "source": [
    "#Imprimindo o DataFrame\n",
    "\n",
    "display(df)"
   ]
  },
  {
   "cell_type": "code",
   "execution_count": 17,
   "id": "04c47f3a",
   "metadata": {},
   "outputs": [
    {
     "name": "stdout",
     "output_type": "stream",
     "text": [
      "O seu PIB, pela ótica da produção, foi de $ 17.4 trilhões na moeda local.\n"
     ]
    }
   ],
   "source": [
    "#Imprimindo o PIB\n",
    "\n",
    "print('O seu PIB, pela ótica da produção, foi de $ {:.1f} trilhões na moeda local.'.format(pib))"
   ]
  },
  {
   "cell_type": "code",
   "execution_count": null,
   "id": "12982206",
   "metadata": {},
   "outputs": [],
   "source": []
  }
 ],
 "metadata": {
  "kernelspec": {
   "display_name": "Python 3",
   "language": "python",
   "name": "python3"
  },
  "language_info": {
   "codemirror_mode": {
    "name": "ipython",
    "version": 3
   },
   "file_extension": ".py",
   "mimetype": "text/x-python",
   "name": "python",
   "nbconvert_exporter": "python",
   "pygments_lexer": "ipython3",
   "version": "3.8.8"
  }
 },
 "nbformat": 4,
 "nbformat_minor": 5
}
