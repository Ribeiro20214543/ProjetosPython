{
 "cells": [
  {
   "cell_type": "raw",
   "id": "018ef938",
   "metadata": {},
   "source": [
    "O país A tem exportações de $ 20 bilhões, compras governamentais de $ 1 bilhão, investimentos de empresas de $ 50 bilhões, importações de $ 40 bilhões e gasto de consumo de $ 2 bilhões. Qual é o valor do seu PIB na moeda local?"
   ]
  },
  {
   "cell_type": "code",
   "execution_count": 27,
   "id": "4b2f3434",
   "metadata": {},
   "outputs": [],
   "source": [
    "import pandas as pd"
   ]
  },
  {
   "cell_type": "code",
   "execution_count": 28,
   "id": "f46d052b",
   "metadata": {},
   "outputs": [
    {
     "name": "stdout",
     "output_type": "stream",
     "text": [
      "Digite o total de despesas do consumo: $ 2\n",
      "Digite o total de despesas de investimento: $ 50\n",
      "Digite o total de despesas do governo: $ 1\n",
      "Digite o total de exportações: $ 20\n",
      "Digite o total de importações: $ 40\n"
     ]
    }
   ],
   "source": [
    "# Calculando o PIB pela ótica da demanda\n",
    "# Solicitando os dados a serem considerados para o cálculo ao usuário\n",
    "\n",
    "c = float(input('Digite o total de despesas do consumo: $ '))\n",
    "i = float(input('Digite o total de despesas de investimento: $ '))\n",
    "g = float(input('Digite o total de despesas do governo: $ '))\n",
    "x = float(input('Digite o total de exportações: $ '))\n",
    "m = float(input('Digite o total de importações: $ '))"
   ]
  },
  {
   "cell_type": "code",
   "execution_count": 29,
   "id": "9af93cd1",
   "metadata": {},
   "outputs": [],
   "source": [
    "#calculando exportações líquidas\n",
    "\n",
    "t = x - m"
   ]
  },
  {
   "cell_type": "code",
   "execution_count": 30,
   "id": "0092ae82",
   "metadata": {},
   "outputs": [],
   "source": [
    "#calculando PIB\n",
    "\n",
    "pib = c + i + g + t"
   ]
  },
  {
   "cell_type": "code",
   "execution_count": 31,
   "id": "f366bc36",
   "metadata": {},
   "outputs": [],
   "source": [
    "#Criando um dicionário DataFrame\n",
    "\n",
    "data = {\n",
    "'Componentes': ['Consumo', 'Investimento', 'Governo', 'Exportações', 'Importações', 'PIB total'],\n",
    "'Demanda': ['$ {}'.format(c), '$ {}'.format(i), '$ {}'.format(g), '$ {}'.format(x), '$ {}'.format(m), '$ {}'.format(pib)]\n",
    "}"
   ]
  },
  {
   "cell_type": "code",
   "execution_count": 32,
   "id": "39433276",
   "metadata": {},
   "outputs": [],
   "source": [
    "#Criando o DataFrame\n",
    "\n",
    "df = pd.DataFrame(data, columns=['Componentes', 'Demanda'])"
   ]
  },
  {
   "cell_type": "code",
   "execution_count": 33,
   "id": "aecc033e",
   "metadata": {},
   "outputs": [
    {
     "data": {
      "text/html": [
       "<div>\n",
       "<style scoped>\n",
       "    .dataframe tbody tr th:only-of-type {\n",
       "        vertical-align: middle;\n",
       "    }\n",
       "\n",
       "    .dataframe tbody tr th {\n",
       "        vertical-align: top;\n",
       "    }\n",
       "\n",
       "    .dataframe thead th {\n",
       "        text-align: right;\n",
       "    }\n",
       "</style>\n",
       "<table border=\"1\" class=\"dataframe\">\n",
       "  <thead>\n",
       "    <tr style=\"text-align: right;\">\n",
       "      <th></th>\n",
       "      <th>Componentes</th>\n",
       "      <th>Demanda</th>\n",
       "    </tr>\n",
       "  </thead>\n",
       "  <tbody>\n",
       "    <tr>\n",
       "      <th>0</th>\n",
       "      <td>Consumo</td>\n",
       "      <td>$ 2.0</td>\n",
       "    </tr>\n",
       "    <tr>\n",
       "      <th>1</th>\n",
       "      <td>Investimento</td>\n",
       "      <td>$ 50.0</td>\n",
       "    </tr>\n",
       "    <tr>\n",
       "      <th>2</th>\n",
       "      <td>Governo</td>\n",
       "      <td>$ 1.0</td>\n",
       "    </tr>\n",
       "    <tr>\n",
       "      <th>3</th>\n",
       "      <td>Exportações</td>\n",
       "      <td>$ 20.0</td>\n",
       "    </tr>\n",
       "    <tr>\n",
       "      <th>4</th>\n",
       "      <td>Importações</td>\n",
       "      <td>$ 40.0</td>\n",
       "    </tr>\n",
       "    <tr>\n",
       "      <th>5</th>\n",
       "      <td>PIB total</td>\n",
       "      <td>$ 33.0</td>\n",
       "    </tr>\n",
       "  </tbody>\n",
       "</table>\n",
       "</div>"
      ],
      "text/plain": [
       "    Componentes Demanda\n",
       "0       Consumo   $ 2.0\n",
       "1  Investimento  $ 50.0\n",
       "2       Governo   $ 1.0\n",
       "3   Exportações  $ 20.0\n",
       "4   Importações  $ 40.0\n",
       "5     PIB total  $ 33.0"
      ]
     },
     "metadata": {},
     "output_type": "display_data"
    }
   ],
   "source": [
    "#Imprimindo o DataFrame\n",
    "\n",
    "display(df)"
   ]
  },
  {
   "cell_type": "code",
   "execution_count": 34,
   "id": "b0746913",
   "metadata": {},
   "outputs": [
    {
     "name": "stdout",
     "output_type": "stream",
     "text": [
      "O seu PIB,  pela ótica da demanda, foi de $ 33 trilhões na moeda local.\n"
     ]
    }
   ],
   "source": [
    "#Imprimindo o PIB\n",
    "\n",
    "print('O seu PIB,  pela ótica da demanda, foi de $ {:.0f} trilhões na moeda local.'.format(pib))"
   ]
  }
 ],
 "metadata": {
  "kernelspec": {
   "display_name": "Python 3",
   "language": "python",
   "name": "python3"
  },
  "language_info": {
   "codemirror_mode": {
    "name": "ipython",
    "version": 3
   },
   "file_extension": ".py",
   "mimetype": "text/x-python",
   "name": "python",
   "nbconvert_exporter": "python",
   "pygments_lexer": "ipython3",
   "version": "3.8.8"
  }
 },
 "nbformat": 4,
 "nbformat_minor": 5
}
