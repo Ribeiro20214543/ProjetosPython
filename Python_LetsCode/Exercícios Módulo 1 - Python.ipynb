{
 "cells": [
  {
   "cell_type": "markdown",
   "metadata": {
    "id": "jRUIUoARyhe2"
   },
   "source": [
    "# **Exercícios Módulo 1 - Python**"
   ]
  },
  {
   "cell_type": "markdown",
   "metadata": {
    "id": "z9QPxuwcyjt0"
   },
   "source": [
    "1. Faça um programa que peça um valor monetário e diminua-o em 15%.\n",
    "\n",
    "Seu\n",
    "programa deve imprimir a mensagem “O novo valor é [valor]”."
   ]
  },
  {
   "cell_type": "code",
   "execution_count": null,
   "metadata": {
    "colab": {
     "base_uri": "https://localhost:8080/"
    },
    "executionInfo": {
     "elapsed": 4183,
     "status": "ok",
     "timestamp": 1640783876759,
     "user": {
      "displayName": "patrick_ribeiro@ymail.com",
      "photoUrl": "https://lh3.googleusercontent.com/a/default-user=s64",
      "userId": "00913320575128451211"
     },
     "user_tz": 180
    },
    "id": "LHWJYCZnzzxV",
    "outputId": "b3fd1b2e-bfd2-4c6a-e917-52f487b36691"
   },
   "outputs": [
    {
     "name": "stdout",
     "output_type": "stream",
     "text": [
      "Digite um valor monetário: 80\n",
      "O novo valor é  68.0\n"
     ]
    }
   ],
   "source": [
    "#Solução\n",
    "valor_monetario = float(input('Digite um valor monetário: '))\n",
    "desconto = (100 - 15)/100 #Calculando 15%\n",
    "valor = valor_monetario * desconto # Calculando diminuição de 15%\n",
    "print(\"O novo valor é \", valor)"
   ]
  },
  {
   "cell_type": "markdown",
   "metadata": {
    "id": "D-rnxwdzynv8"
   },
   "source": [
    "2. Faça um programa que leia a validade das informações:\n",
    "\n",
    "* a. Idade: entre 0 e 150;\n",
    "* b. Salário: maior que 0;\n",
    "* c. Sexo: M, F ou Outro;\n",
    "\n",
    "O programa deve imprimir uma mensagem de erro para cada informação inválida."
   ]
  },
  {
   "cell_type": "code",
   "execution_count": null,
   "metadata": {
    "colab": {
     "base_uri": "https://localhost:8080/"
    },
    "executionInfo": {
     "elapsed": 11076,
     "status": "ok",
     "timestamp": 1640779799871,
     "user": {
      "displayName": "patrick_ribeiro@ymail.com",
      "photoUrl": "https://lh3.googleusercontent.com/a/default-user=s64",
      "userId": "00913320575128451211"
     },
     "user_tz": 180
    },
    "id": "o_m2vCZPz0Xb",
    "outputId": "15b85c6a-1f79-4316-8675-ea43ad97649d"
   },
   "outputs": [
    {
     "name": "stdout",
     "output_type": "stream",
     "text": [
      "Digite sua idade: 41\n",
      "Digite seu salario: 0\n",
      "O valor digitado não é válido. Digite seu salário: 100\n",
      "Digite M para masculino, F para feminino, ou digite Outro: M\n"
     ]
    }
   ],
   "source": [
    "#Solução\n",
    "idade = int(input('Digite sua idade: '))\n",
    "while idade <= 0 or idade >= 150:\n",
    "  idade = int(input('O valor digitado não é válido. Digite sua idade: '))\n",
    "\n",
    "salario = int(input('Digite seu salario: '))\n",
    "while salario <= 0:\n",
    "  salario = int(input('O valor digitado não é válido. Digite seu salário: '))\n",
    "\n",
    "sexo = input('Digite M para masculino, F para feminino, ou digite Outro: ')\n",
    "while sexo != 'M' and  sexo != 'F' and sexo != 'Outro':\n",
    "  sexo = input('A entrada digitada não é válida. Digite M, F ou Otro: ')\n",
    "\n"
   ]
  },
  {
   "cell_type": "markdown",
   "metadata": {
    "id": "9FTQf_Ctyq2c"
   },
   "source": [
    "3. Vamos fazer um programa para verificar quem é o assassino de um crime.\n",
    "\n",
    "Para descobrir o assassino, a polícia faz um pequeno questionário com 5\n",
    "perguntas onde a resposta só pode ser sim ou não:\n",
    "\n",
    "* a. Mora perto da vítima?\n",
    "* b. Já trabalhou com a vítima?\n",
    "* c. Telefonou para a vítima?\n",
    "* d. Esteve no local do crime?\n",
    "* e. Devia para a vítima?\n",
    "\n",
    "Cada resposta sim dá um ponto para o suspeito. \n",
    "\n",
    "A polícia considera que os suspeitos com 5 pontos são os assassinos, com 4 a 3 pontos são cúmplices e 2 pontos são apenas suspeitos, necessitando outras investigações.\n",
    "\n",
    "Valores iguais ou abaixo de 1 são liberados"
   ]
  },
  {
   "cell_type": "code",
   "execution_count": null,
   "metadata": {
    "colab": {
     "base_uri": "https://localhost:8080/"
    },
    "executionInfo": {
     "elapsed": 9532,
     "status": "ok",
     "timestamp": 1640790903296,
     "user": {
      "displayName": "patrick_ribeiro@ymail.com",
      "photoUrl": "https://lh3.googleusercontent.com/a/default-user=s64",
      "userId": "00913320575128451211"
     },
     "user_tz": 180
    },
    "id": "KAzgug6Lz08y",
    "outputId": "7e63986c-51a6-421f-a72e-1b1935892042"
   },
   "outputs": [
    {
     "name": "stdout",
     "output_type": "stream",
     "text": [
      "Responda apenas SIM ou NÃO\n",
      "a. Mora perto da vítima? SIM\n",
      "b. Já trabalhou com a vítima? SIM\n",
      "c. Telefonou para a vítima? SIM\n",
      "d. Esteve no local do crime? SIM\n",
      "e. Devia para a vítima? SIM\n",
      "Você é o assassino!\n"
     ]
    }
   ],
   "source": [
    "#Solução\n",
    "print('Responda apenas SIM ou NÃO')\n",
    "sim = 0\n",
    "\n",
    "questao = input('a. Mora perto da vítima? ')\n",
    "if questao == 'SIM' or questao == 'sim':\n",
    "  sim = sim + 1\n",
    "questao = input('b. Já trabalhou com a vítima? ')\n",
    "if questao == 'SIM' or questao == 'sim':\n",
    "  sim = sim + 1\n",
    "questao = input('c. Telefonou para a vítima? ')\n",
    "if questao == 'SIM' or questao == 'sim':\n",
    "  sim = sim + 1\n",
    "questao = input('d. Esteve no local do crime? ')\n",
    "if questao == 'SIM' or questao == 'sim':\n",
    "  sim = sim + 1\n",
    "questao = input('e. Devia para a vítima? ')\n",
    "if questao == 'SIM' or questao == 'sim':\n",
    "  sim = sim + 1\n",
    "\n",
    "pontos = sim\n",
    "if pontos == 5:\n",
    "  print('Você é o assassino!')\n",
    "elif  pontos <= 4 and pontos >= 3:\n",
    "  print('Você é cúmplice!')\n",
    "elif pontos == 2:\n",
    "  print('Você é suspeito, será necessário outras investigações.')\n",
    "elif pontos <= 1:\n",
    "  print('Você está liberado!')\n",
    "else:\n",
    "  print('Você está liberado!')\n",
    "\n",
    "\n",
    "\n",
    "\n"
   ]
  },
  {
   "cell_type": "code",
   "execution_count": null,
   "metadata": {
    "colab": {
     "base_uri": "https://localhost:8080/",
     "height": 130
    },
    "executionInfo": {
     "elapsed": 390,
     "status": "error",
     "timestamp": 1640786540883,
     "user": {
      "displayName": "patrick_ribeiro@ymail.com",
      "photoUrl": "https://lh3.googleusercontent.com/a/default-user=s64",
      "userId": "00913320575128451211"
     },
     "user_tz": 180
    },
    "id": "4ugk3lCZhLpn",
    "outputId": "f85901f1-95b0-4a45-80f8-880e4fc43d0a"
   },
   "outputs": [
    {
     "ename": "SyntaxError",
     "evalue": "ignored",
     "output_type": "error",
     "traceback": [
      "\u001b[0;36m  File \u001b[0;32m\"<ipython-input-63-a2cd4de73638>\"\u001b[0;36m, line \u001b[0;32m11\u001b[0m\n\u001b[0;31m    while pontos != questao_e:\u001b[0m\n\u001b[0m        ^\u001b[0m\n\u001b[0;31mSyntaxError\u001b[0m\u001b[0;31m:\u001b[0m invalid syntax\n"
     ]
    }
   ],
   "source": [
    "#Solução\n",
    "print('Responda apenas SIM ou NÃO')\n",
    "\n",
    "pontos = 0\n",
    "questao_a = input('Mora perto da vítima? ')\n",
    "\n",
    "questao_b = input('Já trabalhou com a vítima? ')\n",
    "questao_c = input('Telefonou para a vítima? ')\n",
    "questao_d = input('Esteve no local do crime? ')\n",
    "questao_e = input('Devia para a vítima? '\n",
    "\n",
    "\n",
    "\n",
    "\n"
   ]
  },
  {
   "cell_type": "markdown",
   "metadata": {
    "id": "8JxESaRIyuZ9"
   },
   "source": [
    " 4. Faça um programa que imprima a tabuada do 9 (de 9 x 1 a 9 x 10) usando loops."
   ]
  },
  {
   "cell_type": "code",
   "execution_count": null,
   "metadata": {
    "colab": {
     "base_uri": "https://localhost:8080/"
    },
    "executionInfo": {
     "elapsed": 405,
     "status": "ok",
     "timestamp": 1640783545256,
     "user": {
      "displayName": "patrick_ribeiro@ymail.com",
      "photoUrl": "https://lh3.googleusercontent.com/a/default-user=s64",
      "userId": "00913320575128451211"
     },
     "user_tz": 180
    },
    "id": "Dl6E1J1tz1oy",
    "outputId": "f8d2cbb8-0eff-41ff-86ab-ee01af86ff45"
   },
   "outputs": [
    {
     "name": "stdout",
     "output_type": "stream",
     "text": [
      "9 x 1 : 9\n",
      "9 x 2 : 18\n",
      "9 x 3 : 27\n",
      "9 x 4 : 36\n",
      "9 x 5 : 45\n",
      "9 x 6 : 54\n",
      "9 x 7 : 63\n",
      "9 x 8 : 72\n",
      "9 x 9 : 81\n",
      "9 x 10 : 90\n"
     ]
    }
   ],
   "source": [
    "#Solução\n",
    "numero = 1\n",
    "tabuada = 9\n",
    "while numero <= 10:\n",
    " print(tabuada, \"x\", numero,\":\", tabuada * numero) \n",
    " numero = numero + 1\n"
   ]
  }
 ],
 "metadata": {
  "colab": {
   "authorship_tag": "ABX9TyMpKmTR8Xpv4ahk7WE6uvIz",
   "collapsed_sections": [],
   "name": "Exercícios Módulo 1 - Python.ipynb",
   "provenance": []
  },
  "kernelspec": {
   "display_name": "Python 3",
   "language": "python",
   "name": "python3"
  },
  "language_info": {
   "codemirror_mode": {
    "name": "ipython",
    "version": 3
   },
   "file_extension": ".py",
   "mimetype": "text/x-python",
   "name": "python",
   "nbconvert_exporter": "python",
   "pygments_lexer": "ipython3",
   "version": "3.8.8"
  }
 },
 "nbformat": 4,
 "nbformat_minor": 1
}
