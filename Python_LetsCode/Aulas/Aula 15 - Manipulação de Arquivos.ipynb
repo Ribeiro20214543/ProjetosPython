{
 "cells": [
  {
   "cell_type": "markdown",
   "metadata": {
    "id": "x2Ca43PK9SYo"
   },
   "source": [
    "# **Aula 15 - Manipulação de Arquivos**"
   ]
  },
  {
   "cell_type": "markdown",
   "metadata": {
    "id": "dy5KDxGZ9WyA"
   },
   "source": [
    "# **Arquivos em Python**\n",
    "O Python possui algumas funções prontas para manipular arquivos binários puros (onde, conhecendo a estrutura interna de qualquer formato, podemos salvar qualquer tipo de arquivo) e para manipular arquivos de texto (onde os binários são decodificados como strings).\n",
    "\n",
    "Focaremos no básico de manipulação de arquivo de texto, pois, na prática, quando formos trabalhar com arquivos mais complexos, é provável que usaremos bibliotecas específicas para lidar com eles, e elas já terão funções próprias para ler e salvar esses arquivos da maneira correta."
   ]
  },
  {
   "cell_type": "markdown",
   "metadata": {
    "id": "V6eDOUOf9bWn"
   },
   "source": [
    "# **Abrindo e fechando arquivos**\n",
    "Podemos criar arquivos novos ou abrir arquivos já existentes utilizando a **função open**. Ela possui 2 argumentos: o caminho do arquivo e o modo de operação."
   ]
  },
  {
   "cell_type": "markdown",
   "metadata": {
    "id": "L6eFzRz49gd3"
   },
   "source": [
    "\n",
    "read           ( **r**  )                 lê um arquivo existente\n",
    "\n",
    "write\t         (  **w**   )                 cria um novo arquivo\n",
    "\n",
    "append  (\t**a**  )  abre um arquivo existente para adicionar informações ao seu final\n",
    "\n",
    "update  (\t**+**\t)    ao ser combinado com outros modos, permite alteração de arquivo já existente (ex: r+ abre um arquivo existente e permite modificá-lo)\n",
    "\n",
    "\n",
    "Após abrirmos (ou criarmos) um arquivo, podemos realizar diversas operações. Ao final de todas elas, devemos fechar o nosso arquivo usando a função close. Essa etapa é importante por 2 motivos:\n",
    "\n",
    "1. Se alteramos o arquivo mas não o fechamos, as alterações não serão salvas;\n",
    "2. Se esquecemos de fechar um arquivo, outros programas podem ter problemas ao acessá-lo."
   ]
  },
  {
   "cell_type": "markdown",
   "metadata": {
    "id": "AV4pYx2l9y6x"
   },
   "source": [
    "# **Roteiro básico**\n",
    "Vamos seguir os seguintes passos para manipular nossos arquivos:\n",
    "\n",
    "1. Abrir ou criar um arquivo:"
   ]
  },
  {
   "cell_type": "code",
   "execution_count": 1,
   "metadata": {
    "executionInfo": {
     "elapsed": 5,
     "status": "ok",
     "timestamp": 1641130087342,
     "user": {
      "displayName": "patrick_ribeiro@ymail.com",
      "photoUrl": "https://lh3.googleusercontent.com/a/default-user=s64",
      "userId": "00913320575128451211"
     },
     "user_tz": 180
    },
    "id": "oTpmtg5t-aDI"
   },
   "outputs": [],
   "source": [
    "arquivocriado = open(\"criado.txt\", \"w\")"
   ]
  },
  {
   "cell_type": "markdown",
   "metadata": {
    "id": "FseLfl4p-c5G"
   },
   "source": [
    "A linha de comando acima abre (ou cria se não existe) um arquivo chamado \"criado.txt\" para escrita (\"w\", de write) e guarda na variável \"arquivocriado\" as informações para manipulá-lo."
   ]
  },
  {
   "cell_type": "code",
   "execution_count": null,
   "metadata": {
    "id": "RLiICSjL-fo9"
   },
   "outputs": [],
   "source": [
    "arquivolido = open(\"teste.txt\", \"r\")"
   ]
  },
  {
   "cell_type": "markdown",
   "metadata": {
    "id": "S2aCYw3Z-hPm"
   },
   "source": [
    "A linha acima lê (\"r\", de read) um arquivo já existente chamado \"teste.txt\" e guarda na variável \"arquivolido\" as informações para manipulá-lo.\n",
    "\n",
    "2. Carregar os dados do arquivo (leitura)"
   ]
  },
  {
   "cell_type": "code",
   "execution_count": null,
   "metadata": {
    "id": "qh6YIl03-jhO"
   },
   "outputs": [],
   "source": [
    "dados = arquivolido.read()\n",
    "print(dados)"
   ]
  },
  {
   "cell_type": "markdown",
   "metadata": {
    "id": "pSsXgU20-k83"
   },
   "source": [
    "A função read() retorna todo o conteúdo do arquivo como uma string.\n",
    "\n",
    "Precisamos carregar o conteúdo do arquivo em algum formato que sabemos trabalhar. A read() carrega o conteúdo de um arquivo de texto em uma string.\n",
    "\n",
    "3. Manipular os dados do arquivo (escrita)"
   ]
  },
  {
   "cell_type": "code",
   "execution_count": null,
   "metadata": {
    "id": "EdaLfOnJ-oK9"
   },
   "outputs": [],
   "source": [
    "arquivocriado.write(\"linha 1\")\n",
    "arquivocriado.write(\"linha 2\")\n",
    "arquivocriado.write(\"linha 3\")"
   ]
  },
  {
   "cell_type": "markdown",
   "metadata": {
    "id": "oawNIita-o1P"
   },
   "source": [
    "Em casos mais complexos, iremos manipular o conteudo LIDO no passo anterior para posteriormente reescrevê-lo. Em outros mais simples, podemos escrever diretamente no arquivo.\n",
    "\n",
    "4. Fechar o arquivo"
   ]
  },
  {
   "cell_type": "code",
   "execution_count": null,
   "metadata": {
    "id": "HWLIrWOa-sVG"
   },
   "outputs": [],
   "source": [
    "arquivocriado.close()\n",
    "arquivolido.close()"
   ]
  },
  {
   "cell_type": "markdown",
   "metadata": {
    "id": "rnX14GQ1-tvt"
   },
   "source": [
    "Essa etapa é muito importante para garantir a integridade dos novos dados no arquivo. As modificações são salvas somente ao fechar o arquivo."
   ]
  },
  {
   "cell_type": "markdown",
   "metadata": {
    "id": "tzXXJ-rE-uR_"
   },
   "source": [
    "# **Comando with**\n",
    "Um jeito mais inteligente de se trabalhar com arquivos é utilizar a sintaxe do \"with\". Ele garante que após a finalização do bloco, o arquivo será fechado."
   ]
  },
  {
   "cell_type": "code",
   "execution_count": 1,
   "metadata": {
    "id": "z4-VTusr-w8m"
   },
   "outputs": [
    {
     "ename": "FileNotFoundError",
     "evalue": "[Errno 2] No such file or directory: 'teste.txt'",
     "output_type": "error",
     "traceback": [
      "\u001b[0;31m---------------------------------------------------------------------------\u001b[0m",
      "\u001b[0;31mFileNotFoundError\u001b[0m                         Traceback (most recent call last)",
      "\u001b[0;32m<ipython-input-1-c01434d223a6>\u001b[0m in \u001b[0;36m<module>\u001b[0;34m\u001b[0m\n\u001b[0;32m----> 1\u001b[0;31m \u001b[0;32mwith\u001b[0m \u001b[0mopen\u001b[0m\u001b[0;34m(\u001b[0m\u001b[0;34m'teste.txt'\u001b[0m\u001b[0;34m,\u001b[0m \u001b[0;34m'r'\u001b[0m\u001b[0;34m)\u001b[0m \u001b[0;32mas\u001b[0m \u001b[0marquivolido\u001b[0m\u001b[0;34m:\u001b[0m\u001b[0;34m\u001b[0m\u001b[0;34m\u001b[0m\u001b[0m\n\u001b[0m\u001b[1;32m      2\u001b[0m    \u001b[0mdados\u001b[0m \u001b[0;34m=\u001b[0m \u001b[0marquivolido\u001b[0m\u001b[0;34m.\u001b[0m\u001b[0mread\u001b[0m\u001b[0;34m(\u001b[0m\u001b[0;34m)\u001b[0m\u001b[0;34m\u001b[0m\u001b[0;34m\u001b[0m\u001b[0m\n\u001b[1;32m      3\u001b[0m    \u001b[0mprint\u001b[0m\u001b[0;34m(\u001b[0m\u001b[0mdados\u001b[0m\u001b[0;34m)\u001b[0m\u001b[0;34m\u001b[0m\u001b[0;34m\u001b[0m\u001b[0m\n",
      "\u001b[0;31mFileNotFoundError\u001b[0m: [Errno 2] No such file or directory: 'teste.txt'"
     ]
    }
   ],
   "source": [
    "with open('teste.txt', 'r') as arquivolido:\n",
    "   dados = arquivolido.read()\n",
    "   print(dados)"
   ]
  },
  {
   "cell_type": "markdown",
   "metadata": {
    "id": "eiX46diH-xvn"
   },
   "source": [
    "É possível ler o arquivo linha a linha, como no exemplo:"
   ]
  },
  {
   "cell_type": "code",
   "execution_count": null,
   "metadata": {
    "id": "SShlf4f_-y9P"
   },
   "outputs": [],
   "source": [
    "with open('teste.txt', 'r') as arquivolido:\n",
    "   linha = arquivolido.readline()\n",
    "   while linha != '':\n",
    "       print(linha, end='')\n",
    "       linha = arquivolido.readline()\n",
    "\n",
    "\n",
    "# OU\n",
    "\n",
    "with open('teste.txt', 'r') as arquivolido:\n",
    "    for linha in arquivolido:\n",
    "        print(linha, end='')\n"
   ]
  },
  {
   "cell_type": "markdown",
   "metadata": {
    "id": "K_QMIPUe-31V"
   },
   "source": [
    "O mesmo pode ser feito para escrever no arquivo:"
   ]
  },
  {
   "cell_type": "code",
   "execution_count": null,
   "metadata": {
    "id": "rZi0D4rE-4Xo"
   },
   "outputs": [],
   "source": [
    "with open('teste.txt', 'r') as arquivolido:\n",
    "    with open('copiateste.txt', 'w') as arquivocriado:\n",
    "        for linha in arquivolido:\n",
    "            arquivocriado.write(linha)"
   ]
  },
  {
   "cell_type": "markdown",
   "metadata": {
    "id": "5l0onind-6Cn"
   },
   "source": [
    "No comando acima, as linhas do arquivo \"teste.txt\" são copiadas e salvas no arquivo \"copiateste.txt\"."
   ]
  }
 ],
 "metadata": {
  "colab": {
   "authorship_tag": "ABX9TyMpvpUgegeVrPnASCDw+Ll/",
   "collapsed_sections": [],
   "name": "Aula 15 - Manipulação de Arquivos.ipynb",
   "provenance": []
  },
  "kernelspec": {
   "display_name": "Python 3",
   "language": "python",
   "name": "python3"
  },
  "language_info": {
   "codemirror_mode": {
    "name": "ipython",
    "version": 3
   },
   "file_extension": ".py",
   "mimetype": "text/x-python",
   "name": "python",
   "nbconvert_exporter": "python",
   "pygments_lexer": "ipython3",
   "version": "3.8.8"
  }
 },
 "nbformat": 4,
 "nbformat_minor": 1
}
