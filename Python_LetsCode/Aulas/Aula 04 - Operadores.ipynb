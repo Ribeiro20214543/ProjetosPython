{
 "cells": [
  {
   "cell_type": "markdown",
   "metadata": {
    "id": "RiAY7VVBrUcj"
   },
   "source": [
    "#**Aula 04 - Operadores**"
   ]
  },
  {
   "cell_type": "markdown",
   "metadata": {
    "id": "taP8Fu3frh8N"
   },
   "source": [
    "##**Operadores aritméticos**"
   ]
  },
  {
   "cell_type": "code",
   "execution_count": 1,
   "metadata": {
    "colab": {
     "base_uri": "https://localhost:8080/"
    },
    "executionInfo": {
     "elapsed": 10,
     "status": "ok",
     "timestamp": 1640772781293,
     "user": {
      "displayName": "patrick_ribeiro@ymail.com",
      "photoUrl": "https://lh3.googleusercontent.com/a/default-user=s64",
      "userId": "00913320575128451211"
     },
     "user_tz": 180
    },
    "id": "-XQpjHAkrQ5v",
    "outputId": "5a3bf066-7b4d-4503-f410-517ab146e4a0"
   },
   "outputs": [
    {
     "name": "stdout",
     "output_type": "stream",
     "text": [
      "5 -1 6 0.6666666666666666 0 8 2\n"
     ]
    }
   ],
   "source": [
    "# Podemos fazer operações aritméticas simples\n",
    "a = 2 + 3  # Soma\n",
    "b = 2 - 3  # Subtração\n",
    "c = 2 * 3  # Multiplicação\n",
    "d = 2 / 3  # Divisão\n",
    "e = 2 // 3 # Divisão inteira\n",
    "f = 2 ** 3 # Potência\n",
    "g = 2 % 3  # Resto de divisão\n",
    "\n",
    "print (a, b, c, d, e, f, g)"
   ]
  },
  {
   "cell_type": "code",
   "execution_count": 2,
   "metadata": {
    "colab": {
     "base_uri": "https://localhost:8080/"
    },
    "executionInfo": {
     "elapsed": 309,
     "status": "ok",
     "timestamp": 1640772801550,
     "user": {
      "displayName": "patrick_ribeiro@ymail.com",
      "photoUrl": "https://lh3.googleusercontent.com/a/default-user=s64",
      "userId": "00913320575128451211"
     },
     "user_tz": 180
    },
    "id": "tMivE1eorf_J",
    "outputId": "5d775bcf-cdc9-432a-f531-bb1fc4704471"
   },
   "outputs": [
    {
     "name": "stdout",
     "output_type": "stream",
     "text": [
      "6 0\n"
     ]
    }
   ],
   "source": [
    "# Podemos fazer operações dentro do print\n",
    "\n",
    "print (a+1, b+1)"
   ]
  },
  {
   "cell_type": "markdown",
   "metadata": {
    "id": "Yk8El_0groSI"
   },
   "source": [
    "##**Operadores relacionais**"
   ]
  },
  {
   "cell_type": "code",
   "execution_count": 3,
   "metadata": {
    "colab": {
     "base_uri": "https://localhost:8080/"
    },
    "executionInfo": {
     "elapsed": 401,
     "status": "ok",
     "timestamp": 1640772850544,
     "user": {
      "displayName": "patrick_ribeiro@ymail.com",
      "photoUrl": "https://lh3.googleusercontent.com/a/default-user=s64",
      "userId": "00913320575128451211"
     },
     "user_tz": 180
    },
    "id": "E7MHHJflrq6i",
    "outputId": "2fe5f79c-0cfc-4553-90c0-d02e70038168"
   },
   "outputs": [
    {
     "name": "stdout",
     "output_type": "stream",
     "text": [
      "True\n",
      "False\n"
     ]
    }
   ],
   "source": [
    "comparacao1 = 5 > 3\n",
    "print(comparacao1)\n",
    "comparacao2 = 5 < 3\n",
    "print(comparacao2)"
   ]
  },
  {
   "cell_type": "markdown",
   "metadata": {
    "id": "uDlGsjMerzKK"
   },
   "source": [
    "O Python possui 6 operadores relacionais:\n",
    "\n",
    "Maior que: >\n",
    "Maior ou igual: >=\n",
    "Menor que: <\n",
    "Menor ou igual: <=\n",
    "Igual: ==\n",
    "Diferente: !=\n",
    "\n",
    "Note que o operador para comparar se 2 valores são iguais é ==, e não =. Isso ocorre porque o operador = é o nosso operador de atribuição: ele diz que a variável à sua esquerda deve receber o valor da expressão à direita. O operador == irá testar se o valor à sua esquerda é igual ao valor à sua direita e irá responder True ou False, como todos os outros operadores de comparação."
   ]
  },
  {
   "cell_type": "markdown",
   "metadata": {
    "id": "Hr3KJOOrr3vp"
   },
   "source": [
    "##**Operadores lógicos**"
   ]
  },
  {
   "cell_type": "markdown",
   "metadata": {
    "id": "7H6BQ1GBr-A4"
   },
   "source": [
    "**and**: verdadeiro se condição 1 for verdadeira e condição 2 for verdadeira"
   ]
  },
  {
   "cell_type": "code",
   "execution_count": 7,
   "metadata": {
    "colab": {
     "base_uri": "https://localhost:8080/"
    },
    "executionInfo": {
     "elapsed": 384,
     "status": "ok",
     "timestamp": 1640773028054,
     "user": {
      "displayName": "patrick_ribeiro@ymail.com",
      "photoUrl": "https://lh3.googleusercontent.com/a/default-user=s64",
      "userId": "00913320575128451211"
     },
     "user_tz": 180
    },
    "id": "U2c72xDmr6Lu",
    "outputId": "80655328-243c-4a4c-c0ca-ce170c9bf3df"
   },
   "outputs": [
    {
     "name": "stdout",
     "output_type": "stream",
     "text": [
      "True\n",
      "False\n"
     ]
    }
   ],
   "source": [
    "comparacao1 = 5 > 3 and 6 > 3 #VERDADEIO E VERDADEIRO = VERDADEIRO\n",
    "print(comparacao1)\n",
    "comparacao2 = 5 < 3 and 6 > 3 #FALSO E VERDADEIRO = FALSO\n",
    "print(comparacao2)\n"
   ]
  },
  {
   "cell_type": "markdown",
   "metadata": {
    "id": "Pd9HehnBsifD"
   },
   "source": [
    "**or**: verdadeiro se condição 1 for verdadeira ou condição 2 for verdadeira"
   ]
  },
  {
   "cell_type": "code",
   "execution_count": 8,
   "metadata": {
    "colab": {
     "base_uri": "https://localhost:8080/"
    },
    "executionInfo": {
     "elapsed": 282,
     "status": "ok",
     "timestamp": 1640773113314,
     "user": {
      "displayName": "patrick_ribeiro@ymail.com",
      "photoUrl": "https://lh3.googleusercontent.com/a/default-user=s64",
      "userId": "00913320575128451211"
     },
     "user_tz": 180
    },
    "id": "AN-ToWjFsiqI",
    "outputId": "e2ca2f38-bde7-4f53-fd79-101c7223d7ca"
   },
   "outputs": [
    {
     "name": "stdout",
     "output_type": "stream",
     "text": [
      "True\n",
      "True\n"
     ]
    }
   ],
   "source": [
    "comparacao1 = 5 > 3 or 6 > 3 #VERDADEIRA E VERDADEIRO = VERDADEIRO\n",
    "print(comparacao1)\n",
    "comparacao2 = 5 < 3 or 6 > 3 #VERDEIRO E FALSO = VERDADEIRO\n",
    "print(comparacao2)"
   ]
  },
  {
   "cell_type": "markdown",
   "metadata": {
    "id": "_wrE66Czs0sx"
   },
   "source": [
    "Também é possível negar uma expressão lógica usando o **not**. "
   ]
  },
  {
   "cell_type": "code",
   "execution_count": 12,
   "metadata": {
    "colab": {
     "base_uri": "https://localhost:8080/"
    },
    "executionInfo": {
     "elapsed": 313,
     "status": "ok",
     "timestamp": 1640773483961,
     "user": {
      "displayName": "patrick_ribeiro@ymail.com",
      "photoUrl": "https://lh3.googleusercontent.com/a/default-user=s64",
      "userId": "00913320575128451211"
     },
     "user_tz": 180
    },
    "id": "R9gwGGE2s04x",
    "outputId": "4bdc3c6d-fc04-4d7c-c6bf-6ed5706e8038"
   },
   "outputs": [
    {
     "name": "stdout",
     "output_type": "stream",
     "text": [
      "True\n",
      "False\n",
      "False\n",
      "True\n"
     ]
    }
   ],
   "source": [
    "comparacao1 = 5 > 3 #Verdadeira\n",
    "print(comparacao1)\n",
    "comparacao1 = not(5 > 3) #Agora é  falsa\n",
    "print(comparacao1)\n",
    "comparacao2 = 5 < 3 #Falsa\n",
    "print(comparacao2)\n",
    "comparacao2 = not(5 < 3) #Agora é verdadeira\n",
    "print(comparacao2)\n"
   ]
  }
 ],
 "metadata": {
  "colab": {
   "authorship_tag": "ABX9TyP6iqNww1Y5zjPbklnZfY7f",
   "collapsed_sections": [],
   "name": "Aula 04 - Operadores.ipynb",
   "provenance": []
  },
  "kernelspec": {
   "display_name": "Python 3",
   "language": "python",
   "name": "python3"
  },
  "language_info": {
   "codemirror_mode": {
    "name": "ipython",
    "version": 3
   },
   "file_extension": ".py",
   "mimetype": "text/x-python",
   "name": "python",
   "nbconvert_exporter": "python",
   "pygments_lexer": "ipython3",
   "version": "3.8.8"
  }
 },
 "nbformat": 4,
 "nbformat_minor": 1
}
