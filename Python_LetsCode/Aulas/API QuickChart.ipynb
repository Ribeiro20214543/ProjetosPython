{
 "cells": [
  {
   "cell_type": "markdown",
   "metadata": {
    "id": "OL3e83L_AsNI"
   },
   "source": [
    "\n",
    "# API QuickChart**"
   ]
  },
  {
   "cell_type": "markdown",
   "metadata": {
    "id": "QdtlP6jfetXB"
   },
   "source": [
    "API QuickChart - Documentaçaõ para ciração de gráfico em Python"
   ]
  },
  {
   "cell_type": "markdown",
   "metadata": {
    "id": "pnbpXwGpeo3z"
   },
   "source": [
    "https://quickchart.io/documentation/"
   ]
  },
  {
   "cell_type": "code",
   "execution_count": null,
   "metadata": {
    "id": "TAT0KiV4ezAR"
   },
   "outputs": [],
   "source": [
    "{\n",
    "  type: 'bar',                                // Tipo de gráfico (bar = barras)\n",
    "  data: {\n",
    "    labels: [2012, 2013, 2014, 2015, 2016],   // Eixo X labels\n",
    "    datasets: [{\n",
    "      label: 'Users',                         // 'Users' dataset\n",
    "      data: [120, 60, 50, 180, 120]           // Eixo \n",
    "    }]\n",
    "  }\n",
    "}"
   ]
  },
  {
   "cell_type": "code",
   "execution_count": null,
   "metadata": {
    "id": "GrJuJjwdfK1J"
   },
   "outputs": [],
   "source": [
    "def get_datasets(y, labels):\n",
    "    if type(y [0]) == list:\n",
    "      datasets = []\n",
    "      for i in range(len(y)):\n",
    "        datasets.aapend({\n",
    "        'label': labels[i],\n",
    "        'data': y [i]\n",
    "        })\n",
    "      return datasets\n",
    "    else:\n",
    "      return [\n",
    "          {\n",
    "              'label':labels[0],\n",
    "              'data': y\n",
    "          }\n",
    "      ]\n"
   ]
  },
  {
   "cell_type": "code",
   "execution_count": null,
   "metadata": {
    "id": "Ce1u37cEgUN6"
   },
   "outputs": [],
   "source": [
    "def set_title(title= ''):\n",
    "  if title != '': \n",
    "    display = 'true'\n",
    "  else: \n",
    "    display = 'false'\n",
    "  return {\n",
    "      'title': title,\n",
    "      'display':display\n",
    "  }"
   ]
  },
  {
   "cell_type": "code",
   "execution_count": null,
   "metadata": {
    "id": "nwsMn8uygu_W"
   },
   "outputs": [],
   "source": [
    "def reate_chart(x, y, labels, kind='bar', title=''):\n",
    "\n",
    "  datasets = get_datasets(y, labels)\n",
    "  options = set_title(title)\n",
    "\n",
    "  chart = {\n",
    "      'type': kind,\n",
    "      'data':{\n",
    "          'labels':x,\n",
    "          'datasets': datasets\n",
    "      },\n",
    "      'options': options\n",
    "  }\n",
    "\n",
    "  return chart"
   ]
  },
  {
   "cell_type": "code",
   "execution_count": null,
   "metadata": {
    "id": "3FOFMsPthZii"
   },
   "outputs": [],
   "source": [
    "from os import setresgid\n",
    "def get_api_chart(chart):\n",
    "  url_base = 'https://quichart.io/chart'\n",
    "  resp = r.get(f'{url_base}?c={str(chart)}')\n",
    "  return resp.content"
   ]
  },
  {
   "cell_type": "code",
   "execution_count": null,
   "metadata": {
    "id": "KbzTPZxBh_7F"
   },
   "outputs": [],
   "source": [
    "def save_image(path, content):\n",
    "  with open(path, 'wb') as image:  # a letra b é de binário\n",
    "    image.write(content)  \n"
   ]
  },
  {
   "cell_type": "code",
   "execution_count": null,
   "metadata": {
    "id": "hGyKE_FpiR_Z"
   },
   "outputs": [],
   "source": [
    "from PIL import Image\n",
    "from IPython.display import display"
   ]
  },
  {
   "cell_type": "code",
   "execution_count": null,
   "metadata": {
    "id": "ZkQLoaQEifM0"
   },
   "outputs": [],
   "source": [
    "def display_image(path):\n",
    "    img_pil = Image.open(path)\n",
    "    display(img_pil)\n"
   ]
  },
  {
   "cell_type": "code",
   "execution_count": null,
   "metadata": {
    "colab": {
     "base_uri": "https://localhost:8080/",
     "height": 235
    },
    "executionInfo": {
     "elapsed": 303,
     "status": "error",
     "timestamp": 1641207179217,
     "user": {
      "displayName": "patrick_ribeiro@ymail.com",
      "photoUrl": "https://lh3.googleusercontent.com/a/default-user=s64",
      "userId": "00913320575128451211"
     },
     "user_tz": 180
    },
    "id": "xx7582vFiw9F",
    "outputId": "48dc2276-128c-4f4a-9724-c171ec99baab"
   },
   "outputs": [],
   "source": [
    "y_data_1 = []\n",
    "for obs in final_data[1::10]:\n",
    "    y_data_1.append(obs[CONFIRMADOS])\n",
    "\n",
    "y_data_2 = []\n",
    "for obs in final_data[1::10]:\n",
    "    y_data_2.append(obs[RECUPERADOS])\n",
    "\n",
    "labels = ['Confirmados', 'Recuperados']\n",
    "\n",
    "x = []\n",
    "for obs in final_data[1::10]:\n",
    "    x.append(obs[DATA].strftime('%d/%m/%Y'))\n",
    "\n",
    "chart = create_chart(x[y_data_1, y_data_2], labels, title='Gráfico confirmados vc recuperados')\n",
    "chart_content = get_api_chart(chart)\n",
    "save_image('meu-primeiro-grafico.png', chart_content)\n",
    "display_image('meu-primeiro-grafico.png')"
   ]
  }
 ],
 "metadata": {
  "colab": {
   "authorship_tag": "ABX9TyN5SdI8fGtEA/y4/xoLOUlR",
   "name": "Projeto | Parte 2.ipynb",
   "provenance": []
  },
  "kernelspec": {
   "display_name": "Python 3",
   "language": "python",
   "name": "python3"
  },
  "language_info": {
   "codemirror_mode": {
    "name": "ipython",
    "version": 3
   },
   "file_extension": ".py",
   "mimetype": "text/x-python",
   "name": "python",
   "nbconvert_exporter": "python",
   "pygments_lexer": "ipython3",
   "version": "3.8.8"
  }
 },
 "nbformat": 4,
 "nbformat_minor": 1
}
