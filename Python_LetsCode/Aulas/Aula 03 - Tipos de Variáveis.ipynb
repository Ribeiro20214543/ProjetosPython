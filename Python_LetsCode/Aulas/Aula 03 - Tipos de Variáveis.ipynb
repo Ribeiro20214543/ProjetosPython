{
 "cells": [
  {
   "cell_type": "markdown",
   "metadata": {
    "id": "8Bo2rDKIpj69"
   },
   "source": [
    "# **Aula 03 - Tipos de Variáveis**"
   ]
  },
  {
   "cell_type": "markdown",
   "metadata": {
    "id": "3FJo6k9LpyaZ"
   },
   "source": [
    "##**Variáveis**\n",
    "Variáveis são pedacinhos de memória onde armazenamos valores. Sempre que referenciamos o nome de uma variável, o valor é acessado. Definimos uma variável dando um nome a ela e usando o sinal de igual (=) para atribuir um valor."
   ]
  },
  {
   "cell_type": "code",
   "execution_count": 1,
   "metadata": {
    "executionInfo": {
     "elapsed": 352,
     "status": "ok",
     "timestamp": 1640772456758,
     "user": {
      "displayName": "patrick_ribeiro@ymail.com",
      "photoUrl": "https://lh3.googleusercontent.com/a/default-user=s64",
      "userId": "00913320575128451211"
     },
     "user_tz": 180
    },
    "id": "EwnQOlAwpfdH"
   },
   "outputs": [],
   "source": [
    "x = -10 # uma variável do tipo inteiro (int)\n",
    "y = 3.14 # uma variável do tipo real (float)\n",
    "escola = \"Let's Code\" # uma variável literal (string)\n",
    "primeiraAula = True # uma variável lógica (booleana)"
   ]
  },
  {
   "cell_type": "markdown",
   "metadata": {
    "id": "BMk0xFEGqQJ2"
   },
   "source": [
    "Note que o operador igual (=) NÃO possui o mesmo comportamento da matemática. Na matemática, ele é um operador bidirecional:\n",
    "\n",
    "x = 2y seria a mesma coisa que 2y = x.\n",
    " \n",
    "No Python, ele é o que chamamos de um operador de ATRIBUIÇÃO: A expressão à direita do sinal é resolvida e seu resultado é armazenado na variável à esquerda.\n"
   ]
  },
  {
   "cell_type": "markdown",
   "metadata": {
    "id": "p78AeULuqnmi"
   },
   "source": [
    "##**Comentários**"
   ]
  },
  {
   "cell_type": "code",
   "execution_count": 3,
   "metadata": {
    "executionInfo": {
     "elapsed": 273,
     "status": "ok",
     "timestamp": 1640772597556,
     "user": {
      "displayName": "patrick_ribeiro@ymail.com",
      "photoUrl": "https://lh3.googleusercontent.com/a/default-user=s64",
      "userId": "00913320575128451211"
     },
     "user_tz": 180
    },
    "id": "tetUzn43qbOO"
   },
   "outputs": [],
   "source": [
    "# Linhas iniciadas com # são comentários.\n",
    "# Comentários são ignorados pelo Python e servem para explicar o código."
   ]
  },
  {
   "cell_type": "code",
   "execution_count": 2,
   "metadata": {
    "colab": {
     "base_uri": "https://localhost:8080/",
     "height": 35
    },
    "executionInfo": {
     "elapsed": 270,
     "status": "ok",
     "timestamp": 1640772594684,
     "user": {
      "displayName": "patrick_ribeiro@ymail.com",
      "photoUrl": "https://lh3.googleusercontent.com/a/default-user=s64",
      "userId": "00913320575128451211"
     },
     "user_tz": 180
    },
    "id": "5-RcuHOVqtLl",
    "outputId": "ea71edc0-bab2-408a-cd73-db07494ce733"
   },
   "outputs": [
    {
     "data": {
      "application/vnd.google.colaboratory.intrinsic+json": {
       "type": "string"
      },
      "text/plain": [
       "'\\nO símbolo # é um comentário de apenas 1 linha.\\nUsando 3 aspas simples consecutivas é possível abrir um bloco de comentário\\nde múltiplas linhas. O bloco se encerra com outras 3 aspas simples.\\n'"
      ]
     },
     "execution_count": 2,
     "metadata": {},
     "output_type": "execute_result"
    }
   ],
   "source": [
    "''' O símbolo # é um comentário de apenas 1 linha. \n",
    "Usando 3 aspas simples consecutivas é possível abrir um bloco de comentário de múltiplas linhas. \n",
    "O bloco se encerra com outras 3 aspas simples. '''"
   ]
  }
 ],
 "metadata": {
  "colab": {
   "authorship_tag": "ABX9TyN6Eq3BtpnOQxkTJGfQ4a50",
   "name": "Aula 03 - Tipos de Variáveis.ipynb",
   "provenance": []
  },
  "kernelspec": {
   "display_name": "Python 3",
   "language": "python",
   "name": "python3"
  },
  "language_info": {
   "codemirror_mode": {
    "name": "ipython",
    "version": 3
   },
   "file_extension": ".py",
   "mimetype": "text/x-python",
   "name": "python",
   "nbconvert_exporter": "python",
   "pygments_lexer": "ipython3",
   "version": "3.8.8"
  }
 },
 "nbformat": 4,
 "nbformat_minor": 1
}
