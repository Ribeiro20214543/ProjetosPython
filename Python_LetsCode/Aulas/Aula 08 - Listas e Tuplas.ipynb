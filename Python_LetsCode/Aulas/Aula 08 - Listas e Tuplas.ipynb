{
 "cells": [
  {
   "cell_type": "markdown",
   "metadata": {
    "id": "J5Sdn71d-Fl1"
   },
   "source": [
    "# **Aula 08 - Listas e Tuplas**"
   ]
  },
  {
   "cell_type": "markdown",
   "metadata": {
    "id": "TzNCDtAg_e6D"
   },
   "source": [
    "# **Listas**"
   ]
  },
  {
   "cell_type": "markdown",
   "metadata": {
    "id": "ZOSCoK6e-JSk"
   },
   "source": [
    "**Listas** são coleções de objetos em Python. Ao invés de declarar 1 variável para cada valor que gostaríamos de armazenar, podemos criar uma lista para armazenar vários valores."
   ]
  },
  {
   "cell_type": "code",
   "execution_count": null,
   "metadata": {
    "id": "ZoxIP1Qj9_vS"
   },
   "outputs": [],
   "source": [
    "# Criando uma lista vazia.\n",
    "listavazia = []"
   ]
  },
  {
   "cell_type": "code",
   "execution_count": 1,
   "metadata": {
    "executionInfo": {
     "elapsed": 4,
     "status": "ok",
     "timestamp": 1641235226679,
     "user": {
      "displayName": "patrick_ribeiro@ymail.com",
      "photoUrl": "https://lh3.googleusercontent.com/a/default-user=s64",
      "userId": "00913320575128451211"
     },
     "user_tz": 180
    },
    "id": "Gz6O9aQY-N-J"
   },
   "outputs": [],
   "source": [
    "# Criando uma lista com alguns valores.\n",
    "numeros = [1, 3, 7, 8, 9]"
   ]
  },
  {
   "cell_type": "code",
   "execution_count": null,
   "metadata": {
    "id": "0IDSXc7h-Rbz"
   },
   "outputs": [],
   "source": [
    "# Listas podem mesclar diferentes tipos de valores.\n",
    "listamista = [14, \"let's code\", 0.1, True]"
   ]
  },
  {
   "cell_type": "code",
   "execution_count": null,
   "metadata": {
    "colab": {
     "base_uri": "https://localhost:8080/"
    },
    "executionInfo": {
     "elapsed": 298,
     "status": "ok",
     "timestamp": 1640878400389,
     "user": {
      "displayName": "patrick_ribeiro@ymail.com",
      "photoUrl": "https://lh3.googleusercontent.com/a/default-user=s64",
      "userId": "00913320575128451211"
     },
     "user_tz": 180
    },
    "id": "YtkVbDYE-Vgr",
    "outputId": "4646aa62-08cd-4f12-85bc-f3b0632fa309"
   },
   "outputs": [
    {
     "name": "stdout",
     "output_type": "stream",
     "text": [
      "1\n",
      "3\n",
      "7\n",
      "8\n",
      "9\n"
     ]
    }
   ],
   "source": [
    "# Acessamos cada elemento da lista através de um índice entre colchetes.\n",
    "# Os índices começam em 0.\n",
    "print(numeros[0])\n",
    "print(numeros[1])\n",
    "print(numeros[2])\n",
    "print(numeros[3])\n",
    "print(numeros[4])"
   ]
  },
  {
   "cell_type": "code",
   "execution_count": null,
   "metadata": {
    "colab": {
     "base_uri": "https://localhost:8080/"
    },
    "executionInfo": {
     "elapsed": 259,
     "status": "ok",
     "timestamp": 1640878409758,
     "user": {
      "displayName": "patrick_ribeiro@ymail.com",
      "photoUrl": "https://lh3.googleusercontent.com/a/default-user=s64",
      "userId": "00913320575128451211"
     },
     "user_tz": 180
    },
    "id": "gUH1VdsY-Xx0",
    "outputId": "3369f4a6-7667-4ed9-d890-84d128ef95ea"
   },
   "outputs": [
    {
     "name": "stdout",
     "output_type": "stream",
     "text": [
      "[1, 3, 5, 8, 9]\n"
     ]
    }
   ],
   "source": [
    "# Listas são mutáveis: podemos alterar o valor de seus itens.\n",
    "numeros[2] = 5\n",
    "print(numeros)"
   ]
  },
  {
   "cell_type": "code",
   "execution_count": null,
   "metadata": {
    "colab": {
     "base_uri": "https://localhost:8080/"
    },
    "executionInfo": {
     "elapsed": 270,
     "status": "ok",
     "timestamp": 1640878418057,
     "user": {
      "displayName": "patrick_ribeiro@ymail.com",
      "photoUrl": "https://lh3.googleusercontent.com/a/default-user=s64",
      "userId": "00913320575128451211"
     },
     "user_tz": 180
    },
    "id": "3zDf2s1q-ZrE",
    "outputId": "a22605ce-3468-4ba6-b36f-887bbc00e8dd"
   },
   "outputs": [
    {
     "name": "stdout",
     "output_type": "stream",
     "text": [
      "1\n",
      "3\n",
      "5\n",
      "8\n",
      "9\n"
     ]
    }
   ],
   "source": [
    "# Um jeito inteligente de trabalhar com listas é utilizando loops.\n",
    "indice = 0\n",
    "while indice < 5:\n",
    "    print(numeros[indice])\n",
    "    indice = indice + 1"
   ]
  },
  {
   "cell_type": "markdown",
   "metadata": {
    "id": "SlQ70N7k-cld"
   },
   "source": [
    "# **Funções de listas**\n",
    "Algumas funções podem nos ajudar a trabalhar com listas. Ao percorrermos nossa lista com um while, poderíamos usar len() caso não soubéssemos o comprimento da lista."
   ]
  },
  {
   "cell_type": "code",
   "execution_count": null,
   "metadata": {
    "colab": {
     "base_uri": "https://localhost:8080/"
    },
    "executionInfo": {
     "elapsed": 254,
     "status": "ok",
     "timestamp": 1640878444803,
     "user": {
      "displayName": "patrick_ribeiro@ymail.com",
      "photoUrl": "https://lh3.googleusercontent.com/a/default-user=s64",
      "userId": "00913320575128451211"
     },
     "user_tz": 180
    },
    "id": "H5fwn_h8-fLT",
    "outputId": "cdba0e48-8252-4683-ba0f-4eafe9dd67c0"
   },
   "outputs": [
    {
     "name": "stdout",
     "output_type": "stream",
     "text": [
      "1\n",
      "3\n",
      "5\n",
      "8\n",
      "9\n"
     ]
    }
   ],
   "source": [
    "indice = 0\n",
    "while indice < len(numeros):\n",
    "    print(numeros[indice])\n",
    "    indice = indice + 1"
   ]
  },
  {
   "cell_type": "markdown",
   "metadata": {
    "id": "aVFyZZ2x-lZ0"
   },
   "source": [
    "# função  **lista.append()**, que coloca um elemento novo ao final da lista."
   ]
  },
  {
   "cell_type": "code",
   "execution_count": null,
   "metadata": {
    "colab": {
     "base_uri": "https://localhost:8080/"
    },
    "executionInfo": {
     "elapsed": 29824,
     "status": "ok",
     "timestamp": 1640878581657,
     "user": {
      "displayName": "patrick_ribeiro@ymail.com",
      "photoUrl": "https://lh3.googleusercontent.com/a/default-user=s64",
      "userId": "00913320575128451211"
     },
     "user_tz": 180
    },
    "id": "SKOn-YCM-iAU",
    "outputId": "392e3888-936e-472c-f9f0-cb8d199021dc"
   },
   "outputs": [
    {
     "name": "stdout",
     "output_type": "stream",
     "text": [
      "Deseja adicionar um animal à lista (s/n)? s\n",
      "Digite o nome do animal: gato\n",
      "Deseja adicionar um animal à lista (s/n)? s\n",
      "Digite o nome do animal: pato\n",
      "Deseja adicionar um animal à lista (s/n)? n\n",
      "['gato', 'pato']\n"
     ]
    }
   ],
   "source": [
    "animais = []\n",
    "resposta = 's'\n",
    "while resposta == 's' or resposta == 'S':\n",
    "    resposta = input('Deseja adicionar um animal à lista (s/n)? ')\n",
    "    if (resposta == 's' or resposta == 'S'):\n",
    "        animal = input('Digite o nome do animal: ')\n",
    "        animais.append(animal) # adiciona o novo animal à lista\n",
    "print(animais)"
   ]
  },
  {
   "cell_type": "markdown",
   "metadata": {
    "id": "GyfCTgcK-vVt"
   },
   "source": [
    "# função **lista.remove()** deleta um elemento da lista. (mas dá erro se o elemento não existir)."
   ]
  },
  {
   "cell_type": "code",
   "execution_count": null,
   "metadata": {
    "colab": {
     "base_uri": "https://localhost:8080/"
    },
    "executionInfo": {
     "elapsed": 5076,
     "status": "ok",
     "timestamp": 1640878591472,
     "user": {
      "displayName": "patrick_ribeiro@ymail.com",
      "photoUrl": "https://lh3.googleusercontent.com/a/default-user=s64",
      "userId": "00913320575128451211"
     },
     "user_tz": 180
    },
    "id": "WZmCJDTE-yHs",
    "outputId": "f691a8ae-f219-4666-b10c-c05dfdd79ab0"
   },
   "outputs": [
    {
     "name": "stdout",
     "output_type": "stream",
     "text": [
      "Digite o animal a ser deletado da lista: pato\n"
     ]
    }
   ],
   "source": [
    "animal = input('Digite o animal a ser deletado da lista: ')\n",
    "animais.remove(animal)"
   ]
  },
  {
   "cell_type": "markdown",
   "metadata": {
    "id": "lOovcpLM-0kc"
   },
   "source": [
    "# função **lista.count()** conta quantas vezes um elemento aparece."
   ]
  },
  {
   "cell_type": "code",
   "execution_count": null,
   "metadata": {
    "colab": {
     "base_uri": "https://localhost:8080/"
    },
    "executionInfo": {
     "elapsed": 276,
     "status": "ok",
     "timestamp": 1640878594072,
     "user": {
      "displayName": "patrick_ribeiro@ymail.com",
      "photoUrl": "https://lh3.googleusercontent.com/a/default-user=s64",
      "userId": "00913320575128451211"
     },
     "user_tz": 180
    },
    "id": "H81IG_rk-4tl",
    "outputId": "3e7595ea-427b-43c3-aad8-e2c6710b1ac6"
   },
   "outputs": [
    {
     "name": "stdout",
     "output_type": "stream",
     "text": [
      "['Ronaldo', 'Rivaldo', 'Ronaldo', 'Adriano']\n",
      "Quantidade de Ronaldos:  2\n"
     ]
    }
   ],
   "source": [
    "jogadores = ['Ronaldo', 'Rivaldo', 'Ronaldo', 'Adriano']\n",
    "ronaldos = jogadores.count('Ronaldo')\n",
    "print(jogadores)\n",
    "print('Quantidade de Ronaldos: ', ronaldos)"
   ]
  },
  {
   "cell_type": "markdown",
   "metadata": {
    "id": "4Tb0q-_e_HXE"
   },
   "source": [
    "# função **lista.index()** busca em um elemento e fala em qual posição ele aparece."
   ]
  },
  {
   "cell_type": "code",
   "execution_count": null,
   "metadata": {
    "colab": {
     "base_uri": "https://localhost:8080/"
    },
    "executionInfo": {
     "elapsed": 259,
     "status": "ok",
     "timestamp": 1640878630384,
     "user": {
      "displayName": "patrick_ribeiro@ymail.com",
      "photoUrl": "https://lh3.googleusercontent.com/a/default-user=s64",
      "userId": "00913320575128451211"
     },
     "user_tz": 180
    },
    "id": "j_603im8_Mhz",
    "outputId": "af3f7722-758c-4821-a6de-fdff316a866c"
   },
   "outputs": [
    {
     "name": "stdout",
     "output_type": "stream",
     "text": [
      "Rivaldo está na posição  1\n"
     ]
    }
   ],
   "source": [
    "rivaldo = jogadores.index('Rivaldo')\n",
    "print(\"Rivaldo está na posição \", rivaldo)"
   ]
  },
  {
   "cell_type": "markdown",
   "metadata": {
    "id": "Q5zGz_U7_O3j"
   },
   "source": [
    "# função **lista.sort()** ordena uma lista."
   ]
  },
  {
   "cell_type": "code",
   "execution_count": null,
   "metadata": {
    "colab": {
     "base_uri": "https://localhost:8080/"
    },
    "executionInfo": {
     "elapsed": 258,
     "status": "ok",
     "timestamp": 1640878658698,
     "user": {
      "displayName": "patrick_ribeiro@ymail.com",
      "photoUrl": "https://lh3.googleusercontent.com/a/default-user=s64",
      "userId": "00913320575128451211"
     },
     "user_tz": 180
    },
    "id": "Bz1HVPOZ_TPG",
    "outputId": "725f3d1c-a7be-4f2a-a869-2076c1f4032a"
   },
   "outputs": [
    {
     "name": "stdout",
     "output_type": "stream",
     "text": [
      "jogadores em ordem alfabética:  ['Adriano', 'Rivaldo', 'Ronaldo', 'Ronaldo']\n"
     ]
    }
   ],
   "source": [
    "jogadores.sort()\n",
    "print(\"jogadores em ordem alfabética: \", jogadores)"
   ]
  },
  {
   "cell_type": "markdown",
   "metadata": {
    "id": "fcW0Q3z-_V7E"
   },
   "source": [
    "# funções **max(lista)** e **min(lista)** obtém, respectivamente, o maior e o menor valor."
   ]
  },
  {
   "cell_type": "code",
   "execution_count": null,
   "metadata": {
    "colab": {
     "base_uri": "https://localhost:8080/"
    },
    "executionInfo": {
     "elapsed": 251,
     "status": "ok",
     "timestamp": 1640878690961,
     "user": {
      "displayName": "patrick_ribeiro@ymail.com",
      "photoUrl": "https://lh3.googleusercontent.com/a/default-user=s64",
      "userId": "00913320575128451211"
     },
     "user_tz": 180
    },
    "id": "HRa0Wd9-_anL",
    "outputId": "7a0cd83e-c830-4df4-8298-58b67db6eade"
   },
   "outputs": [
    {
     "name": "stdout",
     "output_type": "stream",
     "text": [
      "[3, 1, 4, 1, 5, 9, 2, 6, 5]\n",
      "Maior =  9 e menor =  1\n"
     ]
    }
   ],
   "source": [
    "digitos = [3, 1, 4, 1, 5, 9, 2, 6, 5]\n",
    "maior = max(digitos)\n",
    "menor = min(digitos)\n",
    "print(digitos)\n",
    "print(\"Maior = \", maior, \"e menor = \", menor)"
   ]
  },
  {
   "cell_type": "markdown",
   "metadata": {
    "id": "4Loin6wv_i81"
   },
   "source": [
    "# **Tuplas**"
   ]
  },
  {
   "cell_type": "markdown",
   "metadata": {
    "id": "1Hnwy1P5_qbU"
   },
   "source": [
    "# Uma **tupla** é uma coleção de objetos que lembra muito as listas."
   ]
  },
  {
   "cell_type": "code",
   "execution_count": null,
   "metadata": {
    "id": "R6PcqSpi_w3M"
   },
   "outputs": [],
   "source": [
    "# Ao invés de colchetes, usamos parênteses para declarar as tuplas:\n",
    "numeros = (1,2,3,5,7,11)"
   ]
  },
  {
   "cell_type": "code",
   "execution_count": null,
   "metadata": {
    "id": "lDaQI3hf_zSk"
   },
   "outputs": [],
   "source": [
    "# Podemos declarar sem parênteses também:\n",
    "numeros = 1,2,3,5,7,11"
   ]
  },
  {
   "cell_type": "code",
   "execution_count": null,
   "metadata": {
    "colab": {
     "base_uri": "https://localhost:8080/"
    },
    "executionInfo": {
     "elapsed": 7,
     "status": "ok",
     "timestamp": 1640878794766,
     "user": {
      "displayName": "patrick_ribeiro@ymail.com",
      "photoUrl": "https://lh3.googleusercontent.com/a/default-user=s64",
      "userId": "00913320575128451211"
     },
     "user_tz": 180
    },
    "id": "6zWpigEE_09N",
    "outputId": "c0305a9f-5260-4c68-fba9-c6e38b4dd682"
   },
   "outputs": [
    {
     "name": "stdout",
     "output_type": "stream",
     "text": [
      "7\n",
      "<class 'tuple'>\n"
     ]
    }
   ],
   "source": [
    "# Para acessar um valor, utilizamos a mesma sintaxe das listas:\n",
    "print(numeros[4])\n",
    "print(type(numeros))"
   ]
  },
  {
   "cell_type": "code",
   "execution_count": null,
   "metadata": {
    "colab": {
     "base_uri": "https://localhost:8080/",
     "height": 200
    },
    "executionInfo": {
     "elapsed": 370,
     "status": "error",
     "timestamp": 1640879130014,
     "user": {
      "displayName": "patrick_ribeiro@ymail.com",
      "photoUrl": "https://lh3.googleusercontent.com/a/default-user=s64",
      "userId": "00913320575128451211"
     },
     "user_tz": 180
    },
    "id": "gZwvWL25_4ET",
    "outputId": "64dba13c-011c-4dde-9253-f34ee2ca669a"
   },
   "outputs": [
    {
     "ename": "TypeError",
     "evalue": "ignored",
     "output_type": "error",
     "traceback": [
      "\u001b[0;31m---------------------------------------------------------------------------\u001b[0m",
      "\u001b[0;31mTypeError\u001b[0m                                 Traceback (most recent call last)",
      "\u001b[0;32m<ipython-input-23-88249dc37c72>\u001b[0m in \u001b[0;36m<module>\u001b[0;34m()\u001b[0m\n\u001b[1;32m      3\u001b[0m \u001b[0mDescomentar\u001b[0m \u001b[0ma\u001b[0m \u001b[0mlinha\u001b[0m \u001b[0mabaixo\u001b[0m \u001b[0mprovocará\u001b[0m \u001b[0merro\u001b[0m \u001b[0mde\u001b[0m \u001b[0mexecução\u001b[0m\u001b[0;34m:\u001b[0m\u001b[0;34m\u001b[0m\u001b[0;34m\u001b[0m\u001b[0m\n\u001b[1;32m      4\u001b[0m '''\n\u001b[0;32m----> 5\u001b[0;31m \u001b[0mnumeros\u001b[0m\u001b[0;34m[\u001b[0m\u001b[0;36m4\u001b[0m\u001b[0;34m]\u001b[0m \u001b[0;34m=\u001b[0m \u001b[0;36m8\u001b[0m\u001b[0;34m\u001b[0m\u001b[0;34m\u001b[0m\u001b[0m\n\u001b[0m",
      "\u001b[0;31mTypeError\u001b[0m: 'tuple' object does not support item assignment"
     ]
    }
   ],
   "source": [
    "'''\n",
    "Porém, tuplas são imutáveis: não é possível adicionar ou modificar valores.\n",
    "Observe que a linha abaixo provocará erro de execução se não for comentada:\n",
    "'''\n",
    "numeros[4] = 8"
   ]
  },
  {
   "cell_type": "code",
   "execution_count": null,
   "metadata": {
    "colab": {
     "base_uri": "https://localhost:8080/"
    },
    "executionInfo": {
     "elapsed": 272,
     "status": "ok",
     "timestamp": 1640878874134,
     "user": {
      "displayName": "patrick_ribeiro@ymail.com",
      "photoUrl": "https://lh3.googleusercontent.com/a/default-user=s64",
      "userId": "00913320575128451211"
     },
     "user_tz": 180
    },
    "id": "59Vi-t59AH4t",
    "outputId": "68ca6a1a-6b6c-4a0b-ee71-3e5444a5427b"
   },
   "outputs": [
    {
     "name": "stdout",
     "output_type": "stream",
     "text": [
      "(3, 1, 4, 1, 5, 9, 2, 6, 5)\n"
     ]
    }
   ],
   "source": [
    "# Podemos gerar uma tupla a partir de uma lista...\n",
    "lista1 = [3, 1, 4, 1, 5, 9, 2, 6, 5]\n",
    "tupla1 = tuple(lista1)\n",
    "print(tupla1)"
   ]
  },
  {
   "cell_type": "code",
   "execution_count": null,
   "metadata": {
    "colab": {
     "base_uri": "https://localhost:8080/"
    },
    "executionInfo": {
     "elapsed": 248,
     "status": "ok",
     "timestamp": 1640878880785,
     "user": {
      "displayName": "patrick_ribeiro@ymail.com",
      "photoUrl": "https://lh3.googleusercontent.com/a/default-user=s64",
      "userId": "00913320575128451211"
     },
     "user_tz": 180
    },
    "id": "cgLBGgYtAKBc",
    "outputId": "9a11ec09-1f54-45d1-bc75-bbe4ae0f3cd0"
   },
   "outputs": [
    {
     "name": "stdout",
     "output_type": "stream",
     "text": [
      "[1, 6, 1, 8]\n"
     ]
    }
   ],
   "source": [
    "# ...ou uma lista a partir de uma tupla:\n",
    "tupla2 = [1, 6, 1, 8]\n",
    "lista2 = list(tupla2)\n",
    "print(lista2)"
   ]
  },
  {
   "cell_type": "code",
   "execution_count": null,
   "metadata": {
    "colab": {
     "base_uri": "https://localhost:8080/"
    },
    "executionInfo": {
     "elapsed": 267,
     "status": "ok",
     "timestamp": 1640878895991,
     "user": {
      "displayName": "patrick_ribeiro@ymail.com",
      "photoUrl": "https://lh3.googleusercontent.com/a/default-user=s64",
      "userId": "00913320575128451211"
     },
     "user_tz": 180
    },
    "id": "jH1Y-vH-AMEc",
    "outputId": "4f778e56-e1f1-4071-899a-3a7a0d1384b6"
   },
   "outputs": [
    {
     "name": "stdout",
     "output_type": "stream",
     "text": [
      "O primeiro vale: 1 e o ultimo vale: 11\n"
     ]
    }
   ],
   "source": [
    "# Também pode-se usar o unpacking com uma tupla:\n",
    "a, b, c, d, e, f = numeros # \"desempacota\" a tupla numeros\n",
    "print(\"O primeiro vale:\", a, \"e o ultimo vale:\", f)"
   ]
  }
 ],
 "metadata": {
  "colab": {
   "authorship_tag": "ABX9TyOuxYH3v+BhArDzgPG4Xoh7",
   "collapsed_sections": [],
   "name": "Aula 08 - Listas e Tuplas.ipynb",
   "provenance": []
  },
  "kernelspec": {
   "display_name": "Python 3",
   "language": "python",
   "name": "python3"
  },
  "language_info": {
   "codemirror_mode": {
    "name": "ipython",
    "version": 3
   },
   "file_extension": ".py",
   "mimetype": "text/x-python",
   "name": "python",
   "nbconvert_exporter": "python",
   "pygments_lexer": "ipython3",
   "version": "3.8.8"
  }
 },
 "nbformat": 4,
 "nbformat_minor": 1
}
