{
 "cells": [
  {
   "cell_type": "markdown",
   "metadata": {
    "id": "7IKwGm8iAebX"
   },
   "source": [
    "# **Datetime**"
   ]
  },
  {
   "cell_type": "markdown",
   "metadata": {
    "id": "_zE3EqbUAia_"
   },
   "source": [
    "# **Datetime**\n",
    "Para treinar o uso da biblioteca datetime, execute as funções do código a seguir, tentando prever os seus resultados:"
   ]
  },
  {
   "cell_type": "code",
   "execution_count": 1,
   "metadata": {
    "colab": {
     "base_uri": "https://localhost:8080/"
    },
    "executionInfo": {
     "elapsed": 9,
     "status": "ok",
     "timestamp": 1641205813091,
     "user": {
      "displayName": "patrick_ribeiro@ymail.com",
      "photoUrl": "https://lh3.googleusercontent.com/a/default-user=s64",
      "userId": "00913320575128451211"
     },
     "user_tz": 180
    },
    "id": "kEekfY9hAkQH",
    "outputId": "7c070cc6-8a8f-440d-bcf2-89eac0c9f151"
   },
   "outputs": [
    {
     "name": "stdout",
     "output_type": "stream",
     "text": [
      "2022-01-03 2001-09-11\n",
      "2022-01-03\n",
      "-1927\n",
      "January 03, 2022\n",
      "2016-07-24 00:00:00\n"
     ]
    }
   ],
   "source": [
    "import datetime\n",
    "\n",
    "d = datetime.date(2001, 9, 11)\n",
    "tday = datetime.date.today()\n",
    "print(tday, d)\n",
    "\n",
    "\n",
    "# datetime.timedelta(days=0, seconds=0, microseconds=0, milliseconds=0, minutes=0, hours=0, weeks=0)\n",
    "\n",
    "tdelta = datetime.timedelta(hours=12)\n",
    "print(tday + tdelta)\n",
    "\n",
    "\n",
    "bday = datetime.date(2016, 9, 24)\n",
    "till_bday = bday - tday\n",
    "print(till_bday.days)\n",
    "\n",
    "dt_agora = datetime.datetime.now()\n",
    "print(dt_agora.strftime('%B %d, %Y'))\n",
    "\n",
    "dt_str = 'July 24, 2016'\n",
    "dt = datetime.datetime.strptime(dt_str, '%B %d, %Y')\n",
    "print(dt)\n",
    "\n",
    "# strftime - Datetime para String\n",
    "# strptime - String para Datetime"
   ]
  }
 ],
 "metadata": {
  "colab": {
   "authorship_tag": "ABX9TyM/XxmFeNyuxsjvb9n4dFmU",
   "name": "Projeto | Parte 1.ipynb",
   "provenance": []
  },
  "kernelspec": {
   "display_name": "Python 3",
   "language": "python",
   "name": "python3"
  },
  "language_info": {
   "codemirror_mode": {
    "name": "ipython",
    "version": 3
   },
   "file_extension": ".py",
   "mimetype": "text/x-python",
   "name": "python",
   "nbconvert_exporter": "python",
   "pygments_lexer": "ipython3",
   "version": "3.8.8"
  }
 },
 "nbformat": 4,
 "nbformat_minor": 1
}
