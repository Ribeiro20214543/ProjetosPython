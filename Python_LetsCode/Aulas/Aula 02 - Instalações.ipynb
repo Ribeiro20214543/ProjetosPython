{
 "cells": [
  {
   "cell_type": "markdown",
   "metadata": {
    "id": "hXjlIyCc2xL9"
   },
   "source": [
    "## **Instalando o Python no Windows**\n",
    "\n",
    "https://python.org.br/instalacao-windows/\n"
   ]
  },
  {
   "cell_type": "markdown",
   "metadata": {
    "id": "Sv7zrIKz3JXv"
   },
   "source": [
    "# **Instalando o Python no Linux (debian/ubuntu)**\n",
    "\n",
    "https://python.org.br/instalacao-linux/"
   ]
  },
  {
   "cell_type": "markdown",
   "metadata": {
    "id": "I5g2mwPZ3WVU"
   },
   "source": [
    "# **Instalando o Python no Mac OS X**\n",
    "\n",
    "https://python.org.br/instalacao-mac/"
   ]
  },
  {
   "cell_type": "markdown",
   "metadata": {
    "id": "J7F1pOAD7fho"
   },
   "source": [
    "# **Instalando o Jupyter Notebook**\n",
    "\n",
    "https://jupyter.org/install"
   ]
  },
  {
   "cell_type": "markdown",
   "metadata": {
    "id": "e067WyAo3eqs"
   },
   "source": [
    "# **Comunidade Python Brasil**\n",
    "\n",
    "https://python.org.br/"
   ]
  },
  {
   "cell_type": "markdown",
   "metadata": {
    "id": "lWyk7wau7ZbN"
   },
   "source": []
  }
 ],
 "metadata": {
  "colab": {
   "authorship_tag": "ABX9TyMX3SiWkR/Mi4b7myTlwd9h",
   "collapsed_sections": [],
   "name": "Aula 02 - Instalações",
   "provenance": []
  },
  "kernelspec": {
   "display_name": "Python 3",
   "language": "python",
   "name": "python3"
  },
  "language_info": {
   "codemirror_mode": {
    "name": "ipython",
    "version": 3
   },
   "file_extension": ".py",
   "mimetype": "text/x-python",
   "name": "python",
   "nbconvert_exporter": "python",
   "pygments_lexer": "ipython3",
   "version": "3.8.8"
  }
 },
 "nbformat": 4,
 "nbformat_minor": 1
}
