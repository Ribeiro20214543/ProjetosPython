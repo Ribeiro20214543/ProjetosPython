{
 "cells": [
  {
   "cell_type": "markdown",
   "metadata": {
    "id": "UohYq54Qw5EL"
   },
   "source": [
    "# **Aula 07 - Estruturas de Repetição - While**"
   ]
  },
  {
   "cell_type": "markdown",
   "metadata": {
    "id": "AdmqTVDoxE5C"
   },
   "source": [
    "## **While**"
   ]
  },
  {
   "cell_type": "markdown",
   "metadata": {
    "id": "RVxh3jK-w-W6"
   },
   "source": [
    "O **while** é bastante parecido com um 'if': ele possui uma expressão, e é executado caso ela seja verdadeira. Mas o if é executado apenas uma vez, e depois o código segue adiante.\n",
    "\n",
    "O **while** não: ao final de sua execução, ele torna a testar a expressão, e caso ela seja verdadeira, ele repete sua execução."
   ]
  },
  {
   "cell_type": "code",
   "execution_count": null,
   "metadata": {
    "colab": {
     "base_uri": "https://localhost:8080/"
    },
    "executionInfo": {
     "elapsed": 14886,
     "status": "ok",
     "timestamp": 1640774316588,
     "user": {
      "displayName": "patrick_ribeiro@ymail.com",
      "photoUrl": "https://lh3.googleusercontent.com/a/default-user=s64",
      "userId": "00913320575128451211"
     },
     "user_tz": 180
    },
    "id": "LBbB_yKzw3T7",
    "outputId": "9ad1ad85-75a5-49fb-e143-881923f55618"
   },
   "outputs": [
    {
     "name": "stdout",
     "output_type": "stream",
     "text": [
      "Qual horario é agora? 7\n",
      "Você nao está no horario da madrugada\n",
      "Você nao está no horario da madrugada\n",
      "Digite o numero de pipocas: 5\n",
      "O numero de pipocas é:  5\n",
      "O numero de pipocas é:  4\n",
      "O numero de pipocas é:  3\n",
      "O numero de pipocas é:  2\n",
      "O numero de pipocas é:  1\n"
     ]
    }
   ],
   "source": [
    "horario = int(input('Qual horário é agora? '))\n",
    "\n",
    "# Testando a condição uma única vez com o if:\n",
    "if 0 < horario < 6:\n",
    "    print('Você está no horário da madrugada.')\n",
    "else:\n",
    "    print('Você não está no horário da madrugada.')\n",
    "\n",
    "# Testando a condição em loop com o while:\n",
    "while 0 < horario < 6:\n",
    "    print('Você está no horário da madrugada.')\n",
    "    horario = horario + 1\n",
    "else:\n",
    "    print('Você não está no horário da madrugada')\n",
    "\n",
    "# O while permite continuar decrementando o número de pipocas até chegar em 0:\n",
    "num_pipocas = int(input('Digite o número de pipocas: '))\n",
    "\n",
    "while num_pipocas > 0:\n",
    "    print('O número de pipocas é: ', num_pipocas)\n",
    "    num_pipocas = num_pipocas - 1"
   ]
  },
  {
   "cell_type": "markdown",
   "metadata": {
    "id": "u3KaYfRvxkh4"
   },
   "source": [
    "## **Validação de entrada**\n"
   ]
  },
  {
   "cell_type": "markdown",
   "metadata": {
    "id": "dmqVZlT1xnj3"
   },
   "source": [
    "Uma utilidade interessante do while é obrigar o usuário a digitar apenas entradas válidas."
   ]
  },
  {
   "cell_type": "code",
   "execution_count": null,
   "metadata": {
    "colab": {
     "base_uri": "https://localhost:8080/"
    },
    "executionInfo": {
     "elapsed": 7917,
     "status": "ok",
     "timestamp": 1640774420552,
     "user": {
      "displayName": "patrick_ribeiro@ymail.com",
      "photoUrl": "https://lh3.googleusercontent.com/a/default-user=s64",
      "userId": "00913320575128451211"
     },
     "user_tz": 180
    },
    "id": "OenPtFn5xp4a",
    "outputId": "080c75c5-5cb3-4dc0-88dd-9ec314021761"
   },
   "outputs": [
    {
     "name": "stdout",
     "output_type": "stream",
     "text": [
      "Digite seu salario: 2500\n",
      "O salario que você entrou foi:  2500.0\n"
     ]
    }
   ],
   "source": [
    "# o exemplo abaixo não aceita um salário menor do que o mínimo atual:\n",
    "salario = float(input('Digite seu salario: '))\n",
    "while salario < 998.0:\n",
    "    salario = float(input('Entre com um salario MAIOR DO QUE 998.0: '))\n",
    "else:\n",
    "    print('O salario que você entrou foi: ', salario)"
   ]
  },
  {
   "cell_type": "code",
   "execution_count": null,
   "metadata": {
    "colab": {
     "base_uri": "https://localhost:8080/"
    },
    "executionInfo": {
     "elapsed": 9180,
     "status": "ok",
     "timestamp": 1640779692943,
     "user": {
      "displayName": "patrick_ribeiro@ymail.com",
      "photoUrl": "https://lh3.googleusercontent.com/a/default-user=s64",
      "userId": "00913320575128451211"
     },
     "user_tz": 180
    },
    "id": "urKWLmOBxvrm",
    "outputId": "d3967c27-f507-4a82-a4fa-826cfaa8b64b"
   },
   "outputs": [
    {
     "name": "stdout",
     "output_type": "stream",
     "text": [
      "Digite OK: ok\n",
      "Não foi isso que eu pedi, digite OK: OK\n"
     ]
    }
   ],
   "source": [
    "# o exemplo abaixo só sai do loop quando o usuário digitar \"OK\":\n",
    "resposta = input('Digite OK: ')\n",
    "while resposta != 'OK':\n",
    "    resposta = input('Não foi isso que eu pedi, digite OK: ')"
   ]
  },
  {
   "cell_type": "markdown",
   "metadata": {
    "id": "1rUmTwx9xz6Z"
   },
   "source": [
    "## **Contador**"
   ]
  },
  {
   "cell_type": "markdown",
   "metadata": {
    "id": "vHDSRUjtx5xG"
   },
   "source": [
    "Todo tipo de código que deve se repetir várias vezes pode ser feito com o **while,** como somar vários valores, gerar uma sequência etc. Nestes casos, é normal utilizar um contador:"
   ]
  },
  {
   "cell_type": "code",
   "execution_count": null,
   "metadata": {
    "colab": {
     "base_uri": "https://localhost:8080/"
    },
    "executionInfo": {
     "elapsed": 3350,
     "status": "ok",
     "timestamp": 1640774517297,
     "user": {
      "displayName": "patrick_ribeiro@ymail.com",
      "photoUrl": "https://lh3.googleusercontent.com/a/default-user=s64",
      "userId": "00913320575128451211"
     },
     "user_tz": 180
    },
    "id": "ydUQ5n15x35O",
    "outputId": "f4e81618-4c19-4339-e21a-7b8c2468e377"
   },
   "outputs": [
    {
     "name": "stdout",
     "output_type": "stream",
     "text": [
      "Digite um numero: 8\n",
      "0\n",
      "1\n",
      "2\n",
      "3\n",
      "4\n",
      "5\n",
      "6\n",
      "7\n"
     ]
    }
   ],
   "source": [
    "# Declaramos um contador como 0:\n",
    "contador = 0\n",
    "# Definimos o número de repetições:\n",
    "numero = int(input('Digite um número: '))\n",
    "# Rodamos o while até o contador se igualar ao número de repetições:\n",
    "while contador < numero:\n",
    "    print(contador)\n",
    "    contador = contador + 1"
   ]
  },
  {
   "cell_type": "markdown",
   "metadata": {
    "id": "NA7OuL4CyIG3"
   },
   "source": [
    "## **Break**"
   ]
  },
  {
   "cell_type": "markdown",
   "metadata": {
    "id": "q78AHlE5yLKl"
   },
   "source": [
    "Um jeito de forçar um loop a ser interrompido é utilizando o comando '**break**'. O loop abaixo em tese seria infinito, mas se a condição do if for verificada, o **break **é executado e conseguimos escapar do loop:"
   ]
  },
  {
   "cell_type": "code",
   "execution_count": null,
   "metadata": {
    "colab": {
     "base_uri": "https://localhost:8080/"
    },
    "executionInfo": {
     "elapsed": 4341,
     "status": "ok",
     "timestamp": 1640774574995,
     "user": {
      "displayName": "patrick_ribeiro@ymail.com",
      "photoUrl": "https://lh3.googleusercontent.com/a/default-user=s64",
      "userId": "00913320575128451211"
     },
     "user_tz": 180
    },
    "id": "9NgV69C7yQWN",
    "outputId": "1a49e419-0cc4-4daa-f8f8-4121732782c4"
   },
   "outputs": [
    {
     "name": "stdout",
     "output_type": "stream",
     "text": [
      "Digite OK: OK\n"
     ]
    }
   ],
   "source": [
    "while True:\n",
    "    resposta = input('Digite OK: ')\n",
    "    if resposta == 'OK':\n",
    "        break"
   ]
  }
 ],
 "metadata": {
  "colab": {
   "authorship_tag": "ABX9TyPC7cMun3UN3w+pzF6LyaRL",
   "collapsed_sections": [],
   "name": "Aula 07 - Estruturas de Repetição - While.ipynb",
   "provenance": []
  },
  "kernelspec": {
   "display_name": "Python 3",
   "language": "python",
   "name": "python3"
  },
  "language_info": {
   "codemirror_mode": {
    "name": "ipython",
    "version": 3
   },
   "file_extension": ".py",
   "mimetype": "text/x-python",
   "name": "python",
   "nbconvert_exporter": "python",
   "pygments_lexer": "ipython3",
   "version": "3.8.8"
  }
 },
 "nbformat": 4,
 "nbformat_minor": 1
}
