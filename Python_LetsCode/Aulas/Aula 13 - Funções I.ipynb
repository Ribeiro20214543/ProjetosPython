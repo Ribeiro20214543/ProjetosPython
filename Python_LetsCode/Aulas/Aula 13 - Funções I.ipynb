{
 "cells": [
  {
   "cell_type": "markdown",
   "metadata": {
    "id": "oa0jOL6F7wdZ"
   },
   "source": [
    "# **Aula 13 - Funções I**"
   ]
  },
  {
   "cell_type": "markdown",
   "metadata": {
    "id": "5nRmz_q971dX"
   },
   "source": [
    "# **Funções**\n",
    "Funções são uma espécie de \"subprograma\". Elas são como pequenos pedacinhos de programa que podem ser chamadas pelo nome. Para criar uma função usamos o comando \"def\" e o nome da função. Elas são um bloco de comando assim como if/elif/else, while e for."
   ]
  },
  {
   "cell_type": "code",
   "execution_count": 1,
   "metadata": {
    "executionInfo": {
     "elapsed": 4,
     "status": "ok",
     "timestamp": 1641129420096,
     "user": {
      "displayName": "patrick_ribeiro@ymail.com",
      "photoUrl": "https://lh3.googleusercontent.com/a/default-user=s64",
      "userId": "00913320575128451211"
     },
     "user_tz": 180
    },
    "id": "d6ncrbpS74Qb"
   },
   "outputs": [],
   "source": [
    "def hello():\n",
    "    print(\"Olá, mundo!\")"
   ]
  },
  {
   "cell_type": "markdown",
   "metadata": {
    "id": "cJ4TRp6U75iG"
   },
   "source": [
    "Quando uma função é chamada pelo nome, o fluxo do programa é interrompido. Em seguida, a função inteira é executada, e ao final dela, o programa volta a ser executado do mesmo ponto que parou."
   ]
  },
  {
   "cell_type": "code",
   "execution_count": 2,
   "metadata": {
    "colab": {
     "base_uri": "https://localhost:8080/"
    },
    "executionInfo": {
     "elapsed": 262,
     "status": "ok",
     "timestamp": 1641129432636,
     "user": {
      "displayName": "patrick_ribeiro@ymail.com",
      "photoUrl": "https://lh3.googleusercontent.com/a/default-user=s64",
      "userId": "00913320575128451211"
     },
     "user_tz": 180
    },
    "id": "FFcTPIl-77em",
    "outputId": "1147db34-f2d2-4887-cb30-e27c166beb0b"
   },
   "outputs": [
    {
     "name": "stdout",
     "output_type": "stream",
     "text": [
      "Olá, mundo!\n"
     ]
    }
   ],
   "source": [
    "hello()"
   ]
  },
  {
   "cell_type": "markdown",
   "metadata": {
    "id": "GpeWkMwt7-pf"
   },
   "source": [
    "É possível passarmos informações para uma função. Chamamos essas informações de \"parâmetros\" ou \"argumentos. Na definição da função, daremos nome a esses parâmetros. Dentro da função, eles serão tratados como se fossem variáveis."
   ]
  },
  {
   "cell_type": "code",
   "execution_count": 3,
   "metadata": {
    "executionInfo": {
     "elapsed": 272,
     "status": "ok",
     "timestamp": 1641129446907,
     "user": {
      "displayName": "patrick_ribeiro@ymail.com",
      "photoUrl": "https://lh3.googleusercontent.com/a/default-user=s64",
      "userId": "00913320575128451211"
     },
     "user_tz": 180
    },
    "id": "lrdfKcgv8AQu"
   },
   "outputs": [],
   "source": [
    "def ola(nome):\n",
    "    print(\"Olá\", nome)"
   ]
  },
  {
   "cell_type": "markdown",
   "metadata": {
    "id": "OAF6t2Kx8B9O"
   },
   "source": [
    "Ao chamarmos a nossa funcao, passamos os parâmetros entre parênteses. O nome ou valor passado não precisam ser iguais aos declarados na função! O nome do parâmetro interno da função é um \"apelido\" que a função dará para o valor ou variável que passamos."
   ]
  },
  {
   "cell_type": "code",
   "execution_count": 6,
   "metadata": {
    "colab": {
     "base_uri": "https://localhost:8080/"
    },
    "executionInfo": {
     "elapsed": 4,
     "status": "ok",
     "timestamp": 1641129494688,
     "user": {
      "displayName": "patrick_ribeiro@ymail.com",
      "photoUrl": "https://lh3.googleusercontent.com/a/default-user=s64",
      "userId": "00913320575128451211"
     },
     "user_tz": 180
    },
    "id": "HWe9FSnu8D39",
    "outputId": "f7a48b68-c974-4183-87e4-28c5bef7d61a"
   },
   "outputs": [
    {
     "name": "stdout",
     "output_type": "stream",
     "text": [
      "Olá Maria\n"
     ]
    }
   ],
   "source": [
    "ola(\"Maria\")"
   ]
  },
  {
   "cell_type": "code",
   "execution_count": 5,
   "metadata": {
    "colab": {
     "base_uri": "https://localhost:8080/"
    },
    "executionInfo": {
     "elapsed": 247,
     "status": "ok",
     "timestamp": 1641129493572,
     "user": {
      "displayName": "patrick_ribeiro@ymail.com",
      "photoUrl": "https://lh3.googleusercontent.com/a/default-user=s64",
      "userId": "00913320575128451211"
     },
     "user_tz": 180
    },
    "id": "H5spZRc88Fqf",
    "outputId": "4b949f33-1ef0-44d6-8fc5-e3a8decc76cc"
   },
   "outputs": [
    {
     "name": "stdout",
     "output_type": "stream",
     "text": [
      "Olá João\n"
     ]
    }
   ],
   "source": [
    "aluno = \"João\"\n",
    "ola(aluno)"
   ]
  },
  {
   "cell_type": "markdown",
   "metadata": {
    "id": "MdmLGR018NEf"
   },
   "source": [
    "A função pode receber vários parâmetros separados por vírgula."
   ]
  },
  {
   "cell_type": "code",
   "execution_count": 7,
   "metadata": {
    "colab": {
     "base_uri": "https://localhost:8080/"
    },
    "executionInfo": {
     "elapsed": 7,
     "status": "ok",
     "timestamp": 1641129516589,
     "user": {
      "displayName": "patrick_ribeiro@ymail.com",
      "photoUrl": "https://lh3.googleusercontent.com/a/default-user=s64",
      "userId": "00913320575128451211"
     },
     "user_tz": 180
    },
    "id": "2nOYVRal8Pxn",
    "outputId": "112ecab0-f4fb-4e73-cf36-39ef7a5cfaaf"
   },
   "outputs": [
    {
     "name": "stdout",
     "output_type": "stream",
     "text": [
      "Seu nome é José, você tem 30 anos e mora em Maceió.\n"
     ]
    }
   ],
   "source": [
    "def dadosPessoais(nome, idade, cidade):\n",
    "    print(\"Seu nome é {}, você tem {} anos e mora em {}.\".format(nome, idade, cidade))\n",
    "\n",
    "dadosPessoais(\"José\", 30, \"Maceió\")"
   ]
  },
  {
   "cell_type": "markdown",
   "metadata": {
    "id": "ss_APaCs8THn"
   },
   "source": [
    "Os parâmetros podem ser passados fora de ordem. Porém, para isso precisamos explicitar qual parâmetro estamos passando, para evitar ambiguidade ou erros de interpretação do Python."
   ]
  },
  {
   "cell_type": "code",
   "execution_count": 8,
   "metadata": {
    "colab": {
     "base_uri": "https://localhost:8080/"
    },
    "executionInfo": {
     "elapsed": 290,
     "status": "ok",
     "timestamp": 1641129533671,
     "user": {
      "displayName": "patrick_ribeiro@ymail.com",
      "photoUrl": "https://lh3.googleusercontent.com/a/default-user=s64",
      "userId": "00913320575128451211"
     },
     "user_tz": 180
    },
    "id": "OX6fbbb18Tpn",
    "outputId": "74126b0f-31e5-4910-f343-9efa743e6ae0"
   },
   "outputs": [
    {
     "name": "stdout",
     "output_type": "stream",
     "text": [
      "Seu nome é Ana, você tem 56 anos e mora em Florianópolis.\n"
     ]
    }
   ],
   "source": [
    "dadosPessoais(idade=56, cidade=\"Florianópolis\", nome=\"Ana\")"
   ]
  },
  {
   "cell_type": "markdown",
   "metadata": {
    "id": "epubxxyC8XVo"
   },
   "source": [
    "# **Funções com resposta**\n",
    "Uma função pode ter uma \"resposta\". Por exemplo, nossa função pode ser uma conta, e o resultado da conta pode ser útil em nosso programa. Dizemos que essas funções \"retornam\" um valor. Utilizamos a palavra \"return\" para fazer uma função retornar sua resposta. Quando uma função retorna um valor, ela pode ser usada em expressões matemáticas ou lógicas, ter seu valor atribuído a uma variável, etc."
   ]
  },
  {
   "cell_type": "code",
   "execution_count": 9,
   "metadata": {
    "colab": {
     "base_uri": "https://localhost:8080/"
    },
    "executionInfo": {
     "elapsed": 269,
     "status": "ok",
     "timestamp": 1641129556831,
     "user": {
      "displayName": "patrick_ribeiro@ymail.com",
      "photoUrl": "https://lh3.googleusercontent.com/a/default-user=s64",
      "userId": "00913320575128451211"
     },
     "user_tz": 180
    },
    "id": "EXbICcx58bBm",
    "outputId": "f1a98812-3da6-424f-b611-ea6a5b0f1074"
   },
   "outputs": [
    {
     "name": "stdout",
     "output_type": "stream",
     "text": [
      "A soma dos elementos da lista vale:  15\n",
      "Que soma pequena!\n"
     ]
    }
   ],
   "source": [
    "def somatorio(lista):\n",
    "    soma = 0\n",
    "    for item in lista:\n",
    "        soma = soma + item\n",
    "    return soma\n",
    "\n",
    "numeros = [1, 2, 3, 4, 5]\n",
    "soma_dos_numeros = somatorio(numeros)\n",
    "print(\"A soma dos elementos da lista vale: \", soma_dos_numeros)\n",
    "\n",
    "if somatorio(numeros) > 50:\n",
    "    print(\"Que soma grande!\")\n",
    "else:\n",
    "    print(\"Que soma pequena!\")"
   ]
  },
  {
   "cell_type": "markdown",
   "metadata": {
    "id": "JfSk8p178dyn"
   },
   "source": [
    "# **Funções recursivas**\n",
    "Algumas funções são chamadas funções recursivas. A recursividade (ou recursão) é uma propriedade na qual uma função faz referência a si mesma. Quando a função encontra uma nova referência, ela irá pausar sua execução atual e iniciar a execução da nova instância, para só então retomar sua execução.\n",
    "\n",
    "Assim como nos loops, é necessário ter alguma condição para que as chamadas recursivas sejam interrompidas, evitando que executem para sempre."
   ]
  },
  {
   "cell_type": "code",
   "execution_count": 10,
   "metadata": {
    "colab": {
     "base_uri": "https://localhost:8080/"
    },
    "executionInfo": {
     "elapsed": 248,
     "status": "ok",
     "timestamp": 1641129577316,
     "user": {
      "displayName": "patrick_ribeiro@ymail.com",
      "photoUrl": "https://lh3.googleusercontent.com/a/default-user=s64",
      "userId": "00913320575128451211"
     },
     "user_tz": 180
    },
    "id": "J73Iqn158f9m",
    "outputId": "0f9c21a4-2b2d-49a4-b662-5af051d6cf8b"
   },
   "outputs": [
    {
     "name": "stdout",
     "output_type": "stream",
     "text": [
      "Testando a função recursiva:\n",
      "1\n",
      "2\n",
      "3\n",
      "4\n",
      "5\n",
      "6\n",
      "7\n",
      "8\n",
      "9\n",
      "10\n"
     ]
    }
   ],
   "source": [
    "def funcaoRecursiva(numero):\n",
    "    if (numero != 1):\n",
    "        funcaoRecursiva(numero - 1)\n",
    "    print(numero)\n",
    "\n",
    "print(\"Testando a função recursiva:\")\n",
    "funcaoRecursiva(10)"
   ]
  },
  {
   "cell_type": "markdown",
   "metadata": {
    "id": "WAe0t2XD8h9u"
   },
   "source": [
    "Note que no exemplo acima passamos 10 para a função. Sua execução foi interrompida por uma nova chamada passando 9, depois 8, depois 7... Ao chegar em 1, ele foge da condicional e imprime 1, encerrando a execução. Então a instância que recebeu 2 tambem conclui sua execução, depois a chamada 3, a 4... A 10, que foi a 1a chamada, encerra por último.\n",
    "\n",
    "Dizemos que é um comportamento de pilha - exatamente como uma pilha de pratos sobre a mesa: O primeiro prato que foi colocado sobre a mesa será o último a sair, pois todos os pratos colocados sobre ele precisam ser retirados antes de você poder retirar o último.\n",
    "\n",
    "Problemas recursivos normalmente são problemas do tipo \"dividir para conquistar\": Temos um \"caso base\", ou seja, um ou mais casos onde há uma resposta direta; E temos um \"caso geral\", que é uma versão reduzida do problema original."
   ]
  }
 ],
 "metadata": {
  "colab": {
   "authorship_tag": "ABX9TyMiQRjlv0lVZcjX0gUoYjrR",
   "name": "Aula 13 - Funções I.ipynb",
   "provenance": []
  },
  "kernelspec": {
   "display_name": "Python 3",
   "language": "python",
   "name": "python3"
  },
  "language_info": {
   "codemirror_mode": {
    "name": "ipython",
    "version": 3
   },
   "file_extension": ".py",
   "mimetype": "text/x-python",
   "name": "python",
   "nbconvert_exporter": "python",
   "pygments_lexer": "ipython3",
   "version": "3.8.8"
  }
 },
 "nbformat": 4,
 "nbformat_minor": 1
}
