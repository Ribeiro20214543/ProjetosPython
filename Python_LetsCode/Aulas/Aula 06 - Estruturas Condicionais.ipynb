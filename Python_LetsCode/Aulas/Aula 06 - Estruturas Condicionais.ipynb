{
 "cells": [
  {
   "cell_type": "markdown",
   "metadata": {
    "id": "5Z1Ie40ovPQl"
   },
   "source": [
    "#**Aula 06 - Estruturas Condicionais**"
   ]
  },
  {
   "cell_type": "markdown",
   "metadata": {
    "id": "RDlG8B-2vV9y"
   },
   "source": [
    "##**If**"
   ]
  },
  {
   "cell_type": "markdown",
   "metadata": {
    "id": "kJfKT1kvvagb"
   },
   "source": [
    "O **if** testa uma condição:\n",
    "\n",
    "se ela for verdadeira, seu conteúdo é executado;\n",
    "caso contrário, seu conteúdo é ignorado."
   ]
  },
  {
   "cell_type": "code",
   "execution_count": 2,
   "metadata": {
    "colab": {
     "base_uri": "https://localhost:8080/"
    },
    "executionInfo": {
     "elapsed": 5655,
     "status": "ok",
     "timestamp": 1640773884395,
     "user": {
      "displayName": "patrick_ribeiro@ymail.com",
      "photoUrl": "https://lh3.googleusercontent.com/a/default-user=s64",
      "userId": "00913320575128451211"
     },
     "user_tz": 180
    },
    "id": "EIdlipOxvNIo",
    "outputId": "437a4f67-a16d-4a03-d431-41c594234384"
   },
   "outputs": [
    {
     "name": "stdout",
     "output_type": "stream",
     "text": [
      "Digite sua idade:41\n",
      "Você pode entrar na montanha russa.\n",
      "Obrigado por participar.\n",
      "Digite sua altura, em metros:1.75\n",
      "Você pode entrar na montanha russa.\n",
      "Obrigado por participar.\n"
     ]
    }
   ],
   "source": [
    "idade = int(input('Digite sua idade:'))\n",
    "if idade >= 12:\n",
    "    print('Você pode entrar na montanha russa.')\n",
    "print('Obrigado por participar.')\n",
    "\n",
    "altura = float(input('Digite sua altura, em metros:'))\n",
    "if idade >= 12 and altura >= 1.60:\n",
    "    print('Você pode entrar na montanha russa.')\n",
    "print('Obrigado por participar.')"
   ]
  },
  {
   "cell_type": "markdown",
   "metadata": {
    "id": "MQZM1gjPvt9X"
   },
   "source": [
    "Utilizamos um **'tab'** antes de cada linha pertencente ao if. No exemplo acima, a linha '*obrigado por participar*' sempre será exibida. Já a linha 'V*ocê pode entrar na montanha russa.*' só será exibida se a idade digitada for maior ou igual a 12 e a altura digitada for maior ou igual a 1.60."
   ]
  },
  {
   "cell_type": "markdown",
   "metadata": {
    "id": "hMOobxCtv4w2"
   },
   "source": [
    "## **Else**"
   ]
  },
  {
   "cell_type": "markdown",
   "metadata": {
    "id": "9xz36AAmv68A"
   },
   "source": [
    "Em alguns casos, queremos que o programa escolha entre 2 casos mutuamente exclusivos. Para isso utilizamos o **else.** O **else** não possui condição para verificar. O else sempre vem imediatamente após um if e é executado se o if for ignorado."
   ]
  },
  {
   "cell_type": "code",
   "execution_count": 3,
   "metadata": {
    "colab": {
     "base_uri": "https://localhost:8080/"
    },
    "executionInfo": {
     "elapsed": 7171,
     "status": "ok",
     "timestamp": 1640774000078,
     "user": {
      "displayName": "patrick_ribeiro@ymail.com",
      "photoUrl": "https://lh3.googleusercontent.com/a/default-user=s64",
      "userId": "00913320575128451211"
     },
     "user_tz": 180
    },
    "id": "P-Xwm-VCwCd2",
    "outputId": "f9fbc62b-f653-4a6f-a749-afd49140b0e4"
   },
   "outputs": [
    {
     "name": "stdout",
     "output_type": "stream",
     "text": [
      "Digite sua idade:41\n",
      "Digite sua altura, em metros:1.76\n",
      "Você pode entrar na montanha russa.\n",
      "Obrigado por participar.\n"
     ]
    }
   ],
   "source": [
    "idade = int(input('Digite sua idade:'))\n",
    "altura = float(input('Digite sua altura, em metros:'))\n",
    "if idade >= 12 and altura >= 1.60:\n",
    "    print('Você pode entrar na montanha russa.')\n",
    "else:\n",
    "    print('Você não pode entrar na montanha russa.')\n",
    "print('Obrigado por participar.')"
   ]
  },
  {
   "cell_type": "markdown",
   "metadata": {
    "id": "j4V35UNrwJTk"
   },
   "source": [
    "É possível **\"aninhar\" **diversos** if's e else's.** O programa abaixo só deixa a pessoa entrar no brinquedo se tiver idade e altura mínimas:"
   ]
  },
  {
   "cell_type": "code",
   "execution_count": 5,
   "metadata": {
    "colab": {
     "base_uri": "https://localhost:8080/"
    },
    "executionInfo": {
     "elapsed": 5657,
     "status": "ok",
     "timestamp": 1640774062662,
     "user": {
      "displayName": "patrick_ribeiro@ymail.com",
      "photoUrl": "https://lh3.googleusercontent.com/a/default-user=s64",
      "userId": "00913320575128451211"
     },
     "user_tz": 180
    },
    "id": "VzUUGu-xwNDk",
    "outputId": "a78595d3-e488-4def-9d74-3072b34bfcb5"
   },
   "outputs": [
    {
     "name": "stdout",
     "output_type": "stream",
     "text": [
      "Digite sua idade:41\n",
      "Você gostaria de entrar nesta montanha russa? Sim\n",
      "Ok então\n"
     ]
    }
   ],
   "source": [
    "idade = int(input('Digite sua idade:'))\n",
    "if idade >= 12:\n",
    "    resposta = input('Você gostaria de entrar nesta montanha russa? ')\n",
    "    if (resposta == 'sim'):\n",
    "        print('Por favor, entre!')\n",
    "    else:\n",
    "        print('Ok então')\n",
    "else:\n",
    "    print('Você não tem idade suficiente para entrar nesse brinquedo.')"
   ]
  },
  {
   "cell_type": "markdown",
   "metadata": {
    "id": "8X8OxE6bwW-a"
   },
   "source": [
    "## **Elif**"
   ]
  },
  {
   "cell_type": "markdown",
   "metadata": {
    "id": "WzKA9HHAwZCh"
   },
   "source": [
    "Podemos testar diversos casos mutuamente exclusivos utilizando o **'elif'.**\n",
    "\n",
    "O comando **elif** é a contração de **\"else if\"** - ou seja, **caso um if não seja executado**, você pode propor uma nova condição para ser testada."
   ]
  },
  {
   "cell_type": "code",
   "execution_count": 6,
   "metadata": {
    "colab": {
     "base_uri": "https://localhost:8080/"
    },
    "executionInfo": {
     "elapsed": 10681,
     "status": "ok",
     "timestamp": 1640774129815,
     "user": {
      "displayName": "patrick_ribeiro@ymail.com",
      "photoUrl": "https://lh3.googleusercontent.com/a/default-user=s64",
      "userId": "00913320575128451211"
     },
     "user_tz": 180
    },
    "id": "xQvg8QXtwiC6",
    "outputId": "e7db2321-d81d-4f44-c83d-3835351d2cfa"
   },
   "outputs": [
    {
     "name": "stdout",
     "output_type": "stream",
     "text": [
      "Quantos exercícios de Python vc já fez?5\n",
      "Xiiii...\n"
     ]
    }
   ],
   "source": [
    "exercicios = int(input('Quantos exercícios de Python vc já fez? '))\n",
    "\n",
    "if exercicios > 30:\n",
    "    print('Já está ficando profissional!')\n",
    "elif exercicios > 20:\n",
    "    print('Tá indo bem, bora fazer mais alguns!')\n",
    "elif exercicios > 10:\n",
    "    print('Vamos tirar o atraso?')\n",
    "else:\n",
    "    print('Xiiii...')"
   ]
  },
  {
   "cell_type": "markdown",
   "metadata": {
    "id": "4nydCyQzwr-N"
   },
   "source": [
    "Observe que a união das 3 estruturas **(if-elif-else)** implica que seu código seguirá apenas um dos possíveis caminhos, obrigatoriamente."
   ]
  }
 ],
 "metadata": {
  "colab": {
   "authorship_tag": "ABX9TyOA7g9IsAkH/1w9cTMPGShQ",
   "collapsed_sections": [],
   "name": "Aula 06 - Estruturas Condicionais.ipynb",
   "provenance": []
  },
  "kernelspec": {
   "display_name": "Python 3",
   "language": "python",
   "name": "python3"
  },
  "language_info": {
   "codemirror_mode": {
    "name": "ipython",
    "version": 3
   },
   "file_extension": ".py",
   "mimetype": "text/x-python",
   "name": "python",
   "nbconvert_exporter": "python",
   "pygments_lexer": "ipython3",
   "version": "3.8.8"
  }
 },
 "nbformat": 4,
 "nbformat_minor": 1
}
