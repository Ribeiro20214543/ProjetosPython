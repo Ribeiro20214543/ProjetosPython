{
 "cells": [
  {
   "cell_type": "markdown",
   "metadata": {
    "id": "cfNO4P-k_CEp"
   },
   "source": [
    "# **Aula 16 - Arquivos CSV**"
   ]
  },
  {
   "cell_type": "markdown",
   "metadata": {
    "id": "j14WjDrd_GoO"
   },
   "source": [
    "CSV\n",
    "O formato CSV (Comma Separated Values, ou Valores Separados por Vírgula) é um arquivo de texto que representa dados em forma de tabela de forma simples.\n",
    "\n",
    "Cada linha do arquivo de texto é uma linha da tabela, e as colunas são separadas por vírgulas.\n",
    "\n",
    "1, 2, 3, 4\n",
    "\n",
    "5, 6, 7, 8\n",
    "\n",
    "9, 10, 11, 12\n",
    "\n",
    "Poderíamos manipular estes arquivos diretamente usando as funções de arquivo vistas anteriormente. Um fator complicador é que o formato CSV não é bem padronizado: apesar do nome, é normal que outros separadores sejam usados ao invés de vírgula, como \";\", para permitir que a vírgula seja usada em um campo. Idem para a separação entre linhas. Existe um módulo em Python para manipular arquivos CSV que nos ajuda a tratar essas diferenças. Todo programa que for utilizar o módulo CSV deverá importá-lo em seu início através do comando: import csv"
   ]
  },
  {
   "cell_type": "code",
   "execution_count": 1,
   "metadata": {
    "colab": {
     "base_uri": "https://localhost:8080/"
    },
    "executionInfo": {
     "elapsed": 9,
     "status": "ok",
     "timestamp": 1641296451065,
     "user": {
      "displayName": "patrick_ribeiro@ymail.com",
      "photoUrl": "https://lh3.googleusercontent.com/a/default-user=s64",
      "userId": "00913320575128451211"
     },
     "user_tz": 180
    },
    "id": "UlADZb9B_KFA",
    "outputId": "bce68c35-fb15-427d-8da8-5c4bb79369dd"
   },
   "outputs": [
    {
     "name": "stdout",
     "output_type": "stream",
     "text": [
      "O conteúdo do arquivo é:\n",
      "<_csv.reader object at 0x7f2212eaa350>\n",
      "['1', '2', '3']\n",
      "['4', '5', '6']\n",
      "['7', '8', '9']\n"
     ]
    }
   ],
   "source": [
    "import csv\n",
    "\n",
    "with open('tabelaExemplo.csv', 'w') as arquivo:\n",
    "    escritor = csv.writer(arquivo, delimiter = ';', lineterminator = '\\n') #criando um escritor\n",
    "    lista = [[1, 2, 3], [4, 5, 6], [7, 8, 9]]\n",
    "    escritor.writerows(lista) # writerows escreve cada \"sublista\" da lista como uma linha\n",
    "\n",
    "with open('tabelaExemplo.csv', \"r\") as arquivo:\n",
    "    leitor = csv.reader(arquivo, delimiter = ';', lineterminator = '\\n') #criando um leitor\n",
    "    print(\"O conteúdo do arquivo é:\")\n",
    "    print(leitor)\n",
    "    for linha in leitor:\n",
    "        print(linha)"
   ]
  },
  {
   "cell_type": "markdown",
   "metadata": {
    "id": "TVf25Zka_NNV"
   },
   "source": [
    "# **DictReader e DictWriter**\n",
    "Podemos também trabalhar com dicionários, nos quais a primeira linha é lida como a chave e as demais são os respectivos valores:"
   ]
  },
  {
   "cell_type": "code",
   "execution_count": 4,
   "metadata": {
    "id": "uuav6aBD_QCv"
   },
   "outputs": [
    {
     "ename": "FileNotFoundError",
     "evalue": "[Errno 2] No such file or directory: 'email.csv'",
     "output_type": "error",
     "traceback": [
      "\u001b[0;31m---------------------------------------------------------------------------\u001b[0m",
      "\u001b[0;31mFileNotFoundError\u001b[0m                         Traceback (most recent call last)",
      "\u001b[0;32m<ipython-input-4-210611615cfc>\u001b[0m in \u001b[0;36m<module>\u001b[0;34m\u001b[0m\n\u001b[1;32m      1\u001b[0m \u001b[0;32mimport\u001b[0m \u001b[0mcsv\u001b[0m\u001b[0;34m\u001b[0m\u001b[0;34m\u001b[0m\u001b[0m\n\u001b[1;32m      2\u001b[0m \u001b[0;34m\u001b[0m\u001b[0m\n\u001b[0;32m----> 3\u001b[0;31m \u001b[0;32mwith\u001b[0m \u001b[0mopen\u001b[0m\u001b[0;34m(\u001b[0m\u001b[0;34m'email.csv'\u001b[0m\u001b[0;34m,\u001b[0m \u001b[0;34m'r'\u001b[0m\u001b[0;34m)\u001b[0m \u001b[0;32mas\u001b[0m \u001b[0memails\u001b[0m\u001b[0;34m:\u001b[0m\u001b[0;34m\u001b[0m\u001b[0;34m\u001b[0m\u001b[0m\n\u001b[0m\u001b[1;32m      4\u001b[0m     \u001b[0mleitor\u001b[0m \u001b[0;34m=\u001b[0m \u001b[0mcsv\u001b[0m\u001b[0;34m.\u001b[0m\u001b[0mDictReader\u001b[0m\u001b[0;34m(\u001b[0m\u001b[0memails\u001b[0m\u001b[0;34m,\u001b[0m \u001b[0mdelimiter\u001b[0m\u001b[0;34m=\u001b[0m\u001b[0;34m';'\u001b[0m\u001b[0;34m)\u001b[0m \u001b[0;31m#a primeira linha é lida como um cabeçalho\u001b[0m\u001b[0;34m\u001b[0m\u001b[0;34m\u001b[0m\u001b[0m\n\u001b[1;32m      5\u001b[0m     \u001b[0;32mfor\u001b[0m \u001b[0mlinha\u001b[0m \u001b[0;32min\u001b[0m \u001b[0mleitor\u001b[0m\u001b[0;34m:\u001b[0m\u001b[0;34m\u001b[0m\u001b[0;34m\u001b[0m\u001b[0m\n",
      "\u001b[0;31mFileNotFoundError\u001b[0m: [Errno 2] No such file or directory: 'email.csv'"
     ]
    }
   ],
   "source": [
    "import csv\n",
    "\n",
    "with open('email.csv', 'r') as emails:\n",
    "    leitor = csv.DictReader(emails, delimiter=';') #a primeira linha é lida como um cabeçalho\n",
    "    for linha in leitor:\n",
    "        print(linha['Login email']) #podemos chamar um valor específico de cada linha pela chave no cabeçallho\n",
    "\n",
    "\n",
    "with open('names.csv', 'w', newline='') as csvfile:\n",
    "    chaves = ['first_name', 'last_name'] # definimos o cabeçalho\n",
    "    writer = csv.DictWriter(csvfile, fieldnames=chaves) # especificamos o cabeçalho\n",
    "\n",
    "    writer.writeheader() # escrevemos o cabeçalho\n",
    "    writer.writerow({'first_name': 'Senhor', 'last_name': 'Batata'}) # escrevemos linhas com as chaves e valores\n",
    "    writer.writerow({'first_name': 'Will', 'last_name': 'Smith'})\n",
    "    writer.writerow({'first_name': 'Elon', 'last_name': 'Musk'})"
   ]
  },
  {
   "cell_type": "code",
   "execution_count": null,
   "metadata": {},
   "outputs": [],
   "source": []
  }
 ],
 "metadata": {
  "colab": {
   "authorship_tag": "ABX9TyOx+jFDnN7sdmHDkzM73+GY",
   "name": "Aula 16 - Arquivos CSV.ipynb",
   "provenance": []
  },
  "kernelspec": {
   "display_name": "Python 3",
   "language": "python",
   "name": "python3"
  },
  "language_info": {
   "codemirror_mode": {
    "name": "ipython",
    "version": 3
   },
   "file_extension": ".py",
   "mimetype": "text/x-python",
   "name": "python",
   "nbconvert_exporter": "python",
   "pygments_lexer": "ipython3",
   "version": "3.8.8"
  }
 },
 "nbformat": 4,
 "nbformat_minor": 1
}
