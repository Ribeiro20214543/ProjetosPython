{
 "cells": [
  {
   "cell_type": "markdown",
   "metadata": {
    "id": "0lX0VQt81P2w"
   },
   "source": [
    "# **O que é Python e para que serve?**\n",
    "\n",
    "Lançada no começo dos anos 1990, a Python é uma linguagem de programação de alto nível.  Desenvolvida pelo matemático holandês Guido van Rossum, acabou se tornando popular por suportar tanto a programação orientada a objetos, quanto a programação estruturada.\n",
    "\n",
    "Além de ser parte de um modelo de desenvolvimento comunitário, gerenciado pela organização sem fins lucrativos **Python Software Foundation**, ela foi projetada para ser legível, de fácil manutenção e com suporte avançado a mecanismos de reutilização de software.\n",
    "\n",
    "A adoção da tecnologia nos códigos de gigantes como Instagram, Netflix, Spotify, Reddit, Facebook e Google é um poderoso incentivo para a linguagem.\n",
    "\n",
    "Outra vantagem de aprender Python é a sua versatilidade, que roda tranquilamente em sistemas Windows, MacOs, distribuições Linux, Solaris, Unix e até FreeBSD.\n",
    "**negrito**\n"
   ]
  },
  {
   "cell_type": "markdown",
   "metadata": {
    "id": "pkUSIWPf1TOw"
   },
   "source": [
    "## **Vantagens de programar em Python**\n",
    "\n",
    "De maneira bastante simples e objetiva, podemos elencar as dez principais vantagens de aprender Python:\n",
    "\n",
    "1. Fácil aprendizado;\n",
    "2. Simples de programar;\n",
    "3. Sintaxe intuitiva;\n",
    "4. Open Source;\n",
    "5. Modularização;\n",
    "6. Multiplataforma;\n",
    "7. Grande quantidade de bibliotecas disponíveis;\n",
    "8. Grande comunidade de usuários;\n",
    "9. Documentação extensa;\n",
    "10. Número de oportunidades no mercado de trabalho."
   ]
  },
  {
   "cell_type": "markdown",
   "metadata": {
    "id": "H0x53rTB1ZmH"
   },
   "source": [
    "## **O que pode ser feito em Python?**\n",
    "\n",
    "Um dos principais motivos da sua popularidade é a gama enorme de possibilidades que a linguagem oferece para seus desenvolvedores. Vamos conferir alguns dos principais usos e aplicações:\n",
    "\n",
    "## **Python e a ciência de dados**\n",
    "\n",
    "Começamos por um dos maiores aliados de Python atualmente, a ciência de dados.\n",
    "\n",
    "É possível afirmar que Python é uma das linguagens mais populares entre os cientistas e analistas de dados.\n",
    "\n",
    "Isso porque, Python tem diversas bibliotecas e estruturas para a análise de dados e desenvolvimento de algoritmos, coleta e análise de dados. Entre as principais bibliotecas destacamos: **Pandas, PyBrain, NumPy, SymPy e PyMySQL.**\n",
    "\n",
    "* Gráficos 3D em Python: veja três exemplos de visualizações\n",
    "* Visualização de dados em Python: Matplotlib\n",
    "\n",
    "## **Machine learning e inteligência artificial**\n",
    "\n",
    "Outras duas tendências de alta popularidade no momento que se beneficiam do uso de Python.\n",
    "\n",
    "Através de bibliotecas como **Theano, Scikit-learn, Tensorflow **é possível desenvolver algoritmos de machine learning usando Python.\n",
    "\n",
    "Para aplicações de inteligência artificial o destaque fica para o Keras, uma biblioteca de rede neural open source bastante utilizada para este fim.\n",
    "\n",
    "## **Desenvolvimento da Web**\n",
    "Achou que não era possível utilizar Python para desenvolvimento web? Nada disso.\n",
    "\n",
    "Os frameworks **Django, web2py, Flask, bottle.py, CherryPy e Pyramid** são excelentes opções para desenvolvedores que desejam utilizar Python em seus projetos web.\n",
    "\n",
    "Só para ter uma ideia, **Mozilla, Reddit, Spotify e Yelp **são aplicações que contam com bibliotecas em Python em seu desenvolvimento web."
   ]
  },
  {
   "cell_type": "markdown",
   "metadata": {
    "id": "m20SHPhh1-Lo"
   },
   "source": [
    "## **Quais são as principais bibliotecas de Python?**\n",
    "\n",
    "Existem mais de 125.000 bibliotecas Python atualmente. Cada uma delas focadas em uma área de aplicação. Entre as principais bibliotecas, destacamos:\n",
    "\n",
    "* Pandas\n",
    "* PyBrain\n",
    "* NumPy\n",
    "* SymPy\n",
    "* PyMySQL\n",
    "* Django\n",
    "* web2py\n",
    "* Flask\n",
    "* bottle.py\n",
    "* CherryPy\n",
    "* Pyramid\n",
    "* Theano\n",
    "* Scikit-learn\n",
    "* Tensorflow\n",
    "* Matplotlib\n",
    "* Seaborn\n",
    "* Scikit-learn\n",
    "* PyTorch"
   ]
  },
  {
   "cell_type": "markdown",
   "metadata": {
    "id": "V6xHkqaa2Q29"
   },
   "source": [
    "Fonte: https://king.host/blog/2021/03/python/"
   ]
  }
 ],
 "metadata": {
  "colab": {
   "authorship_tag": "ABX9TyNsnI8zP7aiNBwkPjZUjIxv",
   "collapsed_sections": [],
   "name": "Aula 01 - Por que Python?",
   "provenance": []
  },
  "kernelspec": {
   "display_name": "Python 3",
   "language": "python",
   "name": "python3"
  },
  "language_info": {
   "codemirror_mode": {
    "name": "ipython",
    "version": 3
   },
   "file_extension": ".py",
   "mimetype": "text/x-python",
   "name": "python",
   "nbconvert_exporter": "python",
   "pygments_lexer": "ipython3",
   "version": "3.8.8"
  }
 },
 "nbformat": 4,
 "nbformat_minor": 1
}
