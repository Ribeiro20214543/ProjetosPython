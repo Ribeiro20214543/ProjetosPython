{
 "cells": [
  {
   "cell_type": "markdown",
   "metadata": {
    "id": "TJcaftKJTe4Q"
   },
   "source": [
    "# **Exercícios Módulo 3 - Python**"
   ]
  },
  {
   "cell_type": "markdown",
   "metadata": {
    "id": "ddguksoeTg4l"
   },
   "source": [
    "Para os exercícios 1 ao 3, você precisará do arquivo: alunos.csv. Clique [aqui](https://s3-sa-east-1.amazonaws.com/lcpi/0f8eacaa-25d5-462e-84f4-4937489552d4.csv)\n",
    "para baixá-lo (ao salvar, renomeie o arquivo)."
   ]
  },
  {
   "cell_type": "markdown",
   "metadata": {
    "id": "wNnNlKY5Tj1l"
   },
   "source": [
    "1 - Neste exercício você deve criar um programa que abra o arquivo\n",
    "\"alunos.csv\" e imprima o conteúdo do arquivo linha a linha.\n",
    "Note que esse é o primeiro exercício de uma sequência, então o seu código pode ser reaproveitado nos exercícios seguintes. Dito isso, a recomendação é usar a biblioteca CSV para ler o arquivo mesmo que não seja realmente necessário para esse primeiro item."
   ]
  },
  {
   "cell_type": "code",
   "execution_count": 27,
   "metadata": {
    "colab": {
     "base_uri": "https://localhost:8080/"
    },
    "executionInfo": {
     "elapsed": 312,
     "status": "ok",
     "timestamp": 1641297390082,
     "user": {
      "displayName": "patrick_ribeiro@ymail.com",
      "photoUrl": "https://lh3.googleusercontent.com/a/default-user=s64",
      "userId": "00913320575128451211"
     },
     "user_tz": 180
    },
    "id": "NXuy2Zmq1IsG",
    "outputId": "83fcd234-c11b-47af-fd5d-6965d89a504a"
   },
   "outputs": [],
   "source": [
    "import csv"
   ]
  },
  {
   "cell_type": "code",
   "execution_count": 76,
   "metadata": {},
   "outputs": [
    {
     "name": "stdout",
     "output_type": "stream",
     "text": [
      "['RA', 'Nome', 'Frequencia', 'Prova_1', 'Prova_2', 'Prova_3', 'Prova_4']\n",
      "['110201', 'Antonio Carlos', '20', '6.5', '8.5', '7', '6']\n",
      "['110212', 'Ana Beatriz', '20', '7', '7', '7', '8']\n",
      "['110218', 'Carlos Vernes', '17', '7', '7', '7', '7']\n",
      "['110307', 'Francisco Cunha', '20', '9', '8.5', '8.5', '10']\n",
      "['110275', 'Sandra Rosa', '15', '6.5', '7.5', '7', '7']\n",
      "['110281', 'Juliana Arruda', '18', '7.5', '7', '7.5', '8']\n",
      "['110301', 'Joao Galo', '20', '5', '6.5', '7', '5']\n",
      "['110263', 'José Valente', '20', '10', '10', '10', '10']\n",
      "['110271', 'Maria Ferreira', '19', '9.5', '8', '7', '10']\n",
      "['110236', 'Adriana Tavares', '20', '8', '8', '8', '8']\n"
     ]
    }
   ],
   "source": [
    "with open('alunos.csv','r') as file:\n",
    "    file_csv = csv.reader(file, delimiter = ',') # criando um leitor linha por linha\n",
    "    for i, row in enumerate(file_csv):\n",
    "        print(row)"
   ]
  },
  {
   "cell_type": "markdown",
   "metadata": {
    "id": "E-VtFyzKT1I7"
   },
   "source": [
    "2 - Para o segundo exercício, você deve criar um programa que realize uma\n",
    "cópia do arquivo \"alunos.csv\". Essa cópia deve ser um arquivo chamado\n",
    "\"alunos_copia.csv\".\n",
    "Novamente, aqui você também não precisa utilizar a biblioteca CSV mas se\n",
    "usar, seu código pode ser reutilizado na próxima questão sem muitas\n",
    "modificações."
   ]
  },
  {
   "cell_type": "code",
   "execution_count": 48,
   "metadata": {},
   "outputs": [
    {
     "name": "stdout",
     "output_type": "stream",
     "text": [
      "<_io.TextIOWrapper name='alunos_copia.csv' mode='w' encoding='UTF-8'>\n"
     ]
    }
   ],
   "source": [
    "with open('alunos.csv','r') as file:\n",
    "    with open('alunos_copia.csv', 'w') as file_copy:# criando uma cópia do arquivo\n",
    "        for row in file:\n",
    "            file_copy.write(row)\n",
    "        print(file_copy)"
   ]
  },
  {
   "cell_type": "code",
   "execution_count": 50,
   "metadata": {},
   "outputs": [
    {
     "name": "stdout",
     "output_type": "stream",
     "text": [
      "['RA', 'Nome', 'Frequencia', 'Prova_1', 'Prova_2', 'Prova_3', 'Prova_4']\n",
      "['110201', 'Antonio Carlos', '20', '6.5', '8.5', '7', '6']\n",
      "['110212', 'Ana Beatriz', '20', '7', '7', '7', '8']\n",
      "['110218', 'Carlos Vernes', '17', '7', '7', '7', '7']\n",
      "['110307', 'Francisco Cunha', '20', '9', '8.5', '8.5', '10']\n",
      "['110275', 'Sandra Rosa', '15', '6.5', '7.5', '7', '7']\n",
      "['110281', 'Juliana Arruda', '18', '7.5', '7', '7.5', '8']\n",
      "['110301', 'Joao Galo', '20', '5', '6.5', '7', '5']\n",
      "['110263', 'José Valente', '20', '10', '10', '10', '10']\n",
      "['110271', 'Maria Ferreira', '19', '9.5', '8', '7', '10']\n",
      "['110236', 'Adriana Tavares', '20', '8', '8', '8', '8']\n"
     ]
    }
   ],
   "source": [
    "#lendo arquivo copiado \n",
    "with open('alunos_copia.csv','r') as file_copy:\n",
    "    file_csv = csv.reader(file_copy, delimiter = ',') # criando um leitor linha por linha\n",
    "    for i, row in enumerate(file_csv):\n",
    "        print(row)"
   ]
  },
  {
   "cell_type": "markdown",
   "metadata": {
    "id": "RrDdTIrST_E6"
   },
   "source": [
    "3 - Finalmente chegamos ao último exercício dessa sequência relacionada à\n",
    "manipulação de arquivos.\n",
    "Neste exercício você deve criar um novo arquivo chamado\n",
    "\"alunos_media.csv\". Esse novo arquivo é uma cópia de \"alunos.csv\" porém\n",
    "com uma coluna a mais chamada \"Média\" que vai abrigar os valores das\n",
    "médias das provas de cada aluno da lista.\n",
    "Se você utilizou a biblioteca CSV para realizar os dois primeiros exercícios,\n",
    "muito será reaproveitado aqui. A biblioteca CSV permite a interpretação de\n",
    "cada linha como listas, que são fáceis de manipular."
   ]
  },
  {
   "cell_type": "code",
   "execution_count": 109,
   "metadata": {
    "scrolled": true
   },
   "outputs": [
    {
     "name": "stdout",
     "output_type": "stream",
     "text": [
      "['RA', 'Nome', 'Frequencia', 'Prova_1', 'Prova_2', 'Prova_3', 'Prova_4', 'Media']\n",
      "['110201', 'Antonio Carlos', '20', '6.5', '8.5', '7', '6', '7.0']\n",
      "['110212', 'Ana Beatriz', '20', '7', '7', '7', '8', '7.25']\n",
      "['110218', 'Carlos Vernes', '17', '7', '7', '7', '7', '7.0']\n",
      "['110307', 'Francisco Cunha', '20', '9', '8.5', '8.5', '10', '9.0']\n",
      "['110275', 'Sandra Rosa', '15', '6.5', '7.5', '7', '7', '7.0']\n",
      "['110281', 'Juliana Arruda', '18', '7.5', '7', '7.5', '8', '7.5']\n",
      "['110301', 'Joao Galo', '20', '5', '6.5', '7', '5', '5.875']\n",
      "['110263', 'José Valente', '20', '10', '10', '10', '10', '10.0']\n",
      "['110271', 'Maria Ferreira', '19', '9.5', '8', '7', '10', '8.625']\n",
      "['110236', 'Adriana Tavares', '20', '8', '8', '8', '8', '8.0']\n"
     ]
    }
   ],
   "source": [
    "with open('alunos.csv','r') as file:\n",
    "    with open('alunos_media.csv', 'w') as file_copy:# criando uma cópia do arquivo\n",
    "        for row in file:\n",
    "            file_copy.write(row)\n",
    "        \n",
    "    row_copy = []\n",
    "\n",
    "    with open('alunos_media.csv', 'r') as file_reader:\n",
    "        reader = csv.reader(file_reader, delimiter = ',')\n",
    "        for row in reader:\n",
    "            row.append('Media')\n",
    "            row_copy.append(row)  # Add coluna no cabeçalho\n",
    "            break\n",
    "                \n",
    "        # Calculando e add resultado da média nas linhas\n",
    "        \n",
    "        for row in reader:\n",
    "            media = (float(row[3])+float(row[4])+float(row[5])+float(row[6])) / 4\n",
    "            row.append(str(media))\n",
    "            row_copy.append(row)\n",
    "\n",
    "    with open('alunos_media.csv', 'w', newline='') as file_writer:\n",
    "        writer = csv.writer(file_writer)\n",
    "        writer.writerows(row_copy)\n",
    "        for i, row in enumerate(row_copy):\n",
    "            print(row)"
   ]
  },
  {
   "cell_type": "markdown",
   "metadata": {},
   "source": [
    "4 - Você conhece Star Wars? Se trata, obviamente, da famosa saga espacial\n",
    "criada por George Lucas em 1977 e que deu origem a símbolos do cinema e\n",
    "da cultura pop com o imponente vilão Darth Vader ou o simpático robô\n",
    "R2-D2. A ideia desse exercício é justamente extrair informações do\n",
    "personagem Darth Vader através de uma API de Star Wars chamada SWAPI.\n",
    "Utilize a URL \"https://swapi.dev/api/people/4/\" para fazer a requisição dos\n",
    "dados de Darth Vader e extraia as informações \"name\" (nome), \"height\"\n",
    "(altura), \"mass\" (massa) e \"birth_year\" (ano de nascimento) e imprima cada\n",
    "dado em uma linha.\n",
    "Dica: caso não se lembre de como fazer isso, assista novamente a aula sobre\n",
    "API porque o exemplo da aula pode te ajudar."
   ]
  },
  {
   "cell_type": "code",
   "execution_count": 123,
   "metadata": {},
   "outputs": [
    {
     "name": "stdout",
     "output_type": "stream",
     "text": [
      "Requirement already satisfied: requests in /home/patrick/anaconda3/lib/python3.8/site-packages (2.25.1)\r\n",
      "Requirement already satisfied: idna<3,>=2.5 in /home/patrick/anaconda3/lib/python3.8/site-packages (from requests) (2.10)\r\n",
      "Requirement already satisfied: certifi>=2017.4.17 in /home/patrick/anaconda3/lib/python3.8/site-packages (from requests) (2020.12.5)\r\n",
      "Requirement already satisfied: urllib3<1.27,>=1.21.1 in /home/patrick/anaconda3/lib/python3.8/site-packages (from requests) (1.26.4)\r\n",
      "Requirement already satisfied: chardet<5,>=3.0.2 in /home/patrick/anaconda3/lib/python3.8/site-packages (from requests) (4.0.0)\r\n"
     ]
    }
   ],
   "source": [
    "!pip install requests"
   ]
  },
  {
   "cell_type": "code",
   "execution_count": 5,
   "metadata": {},
   "outputs": [],
   "source": [
    "import requests"
   ]
  },
  {
   "cell_type": "code",
   "execution_count": 6,
   "metadata": {},
   "outputs": [
    {
     "name": "stdout",
     "output_type": "stream",
     "text": [
      "200\n"
     ]
    }
   ],
   "source": [
    "url = 'https://swapi.dev/api/people/4/'\n",
    "\n",
    "req = requests.get(url)\n",
    "\n",
    "print(req.status_code)"
   ]
  },
  {
   "cell_type": "code",
   "execution_count": 8,
   "metadata": {},
   "outputs": [
    {
     "name": "stdout",
     "output_type": "stream",
     "text": [
      "Nome: Darth Vader\n",
      "Altura: 202\n",
      "Massa: 136\n",
      "Aniversário: 202\n"
     ]
    }
   ],
   "source": [
    "req = requests.get(url).json()\n",
    "print(f'Nome: {req[\"name\"]}\\nAltura: {req[\"height\"]}\\nMassa: {req[\"mass\"]}\\nAniversário: {req[\"height\"]}')"
   ]
  },
  {
   "cell_type": "markdown",
   "metadata": {},
   "source": [
    "5 - Em 2019 surgiram os primeiros casos de COVID-19 que se alastrou pelo\n",
    "mundo resultando numa pandemia. A proposta deste exercício é utilizar\n",
    "uma API com informações de COVID-19 do mundo todo desde o início da\n",
    "proliferação e descobrir que dia o Brasil confirmou o primeiro caso de\n",
    "Coronavírus.\n",
    "Para fazer isso, utilize a URL \"https://api.covid19api.com/country/brazil\" em seu\n",
    "código. Ela retorna uma lista de dicionários, onde cada dicionário traz\n",
    "informações através das chaves:\n",
    "\"ID\", \"Country\", \"CountryCode\", \"Province\", \"City\",\n",
    "\"CityCode\",\"Lat\",\"Lon\",\"Confirmed\",\"Deaths\", \"Recovered\", \"Active\" e \"Date\".\n",
    "Utilize essas informações e retorne a data em que o Brasil confirmou o\n",
    "primeiro caso de COVID."
   ]
  },
  {
   "cell_type": "code",
   "execution_count": 9,
   "metadata": {},
   "outputs": [],
   "source": [
    "import datetime"
   ]
  },
  {
   "cell_type": "code",
   "execution_count": 10,
   "metadata": {},
   "outputs": [
    {
     "name": "stdout",
     "output_type": "stream",
     "text": [
      "200\n"
     ]
    }
   ],
   "source": [
    "url = 'https://api.covid19api.com/country/brazil'\n",
    "\n",
    "req = requests.get(url)\n",
    "\n",
    "print(req.status_code)"
   ]
  },
  {
   "cell_type": "code",
   "execution_count": 13,
   "metadata": {},
   "outputs": [
    {
     "name": "stdout",
     "output_type": "stream",
     "text": [
      "Primeiro dia de COVID no Brasil foi em 22/01/2020.\n"
     ]
    }
   ],
   "source": [
    "req = requests.get(url).json()\n",
    "print(f'Primeiro dia de COVID no Brasil foi em {datetime.datetime.strptime(req[0][\"Date\"][:10], \"%Y-%m-%d\").strftime(format=\"%d/%m/%Y\")}.')"
   ]
  }
 ],
 "metadata": {
  "colab": {
   "authorship_tag": "ABX9TyPEgsAL9KuMPOx+Fpe0Nc/J",
   "collapsed_sections": [],
   "name": "Exercícios Módulo 3 - Python.ipynb",
   "provenance": []
  },
  "kernelspec": {
   "display_name": "Python 3",
   "language": "python",
   "name": "python3"
  },
  "language_info": {
   "codemirror_mode": {
    "name": "ipython",
    "version": 3
   },
   "file_extension": ".py",
   "mimetype": "text/x-python",
   "name": "python",
   "nbconvert_exporter": "python",
   "pygments_lexer": "ipython3",
   "version": "3.8.8"
  }
 },
 "nbformat": 4,
 "nbformat_minor": 1
}
