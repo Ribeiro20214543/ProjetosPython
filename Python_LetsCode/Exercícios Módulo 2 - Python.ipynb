{
 "cells": [
  {
   "cell_type": "markdown",
   "metadata": {
    "id": "beqex8zOTIcX"
   },
   "source": [
    "# **Exercícios Módulo 2 - Python**"
   ]
  },
  {
   "cell_type": "markdown",
   "metadata": {
    "id": "a7QoAr_HTL7G"
   },
   "source": [
    "1. Faça um programa que olhe todos os itens de uma lista e diga quantos deles\n",
    "são pares."
   ]
  },
  {
   "cell_type": "code",
   "execution_count": null,
   "metadata": {
    "colab": {
     "base_uri": "https://localhost:8080/"
    },
    "executionInfo": {
     "elapsed": 302,
     "status": "ok",
     "timestamp": 1641220840334,
     "user": {
      "displayName": "patrick_ribeiro@ymail.com",
      "photoUrl": "https://lh3.googleusercontent.com/a/default-user=s64",
      "userId": "00913320575128451211"
     },
     "user_tz": 180
    },
    "id": "H-wZSN9FUGer",
    "outputId": "17b532d8-9b4c-418c-d73b-99ea0d69b799"
   },
   "outputs": [
    {
     "name": "stdout",
     "output_type": "stream",
     "text": [
      "5\n"
     ]
    }
   ],
   "source": [
    "lista = [1, 2, 3, 7, 8, 9, 15, 16, 18, 20]\n",
    "pares = [] \n",
    "pares_count = 0\n",
    "for number in lista: # Vendo na lista os números \n",
    "  if number % 2 == 0: # Se são divisiveis por 2 são pares\n",
    "         pares_count += 1 # Conte os números pares\n",
    "         \n",
    "print(pares_count) # Imprima o total de números pares"
   ]
  },
  {
   "cell_type": "markdown",
   "metadata": {
    "id": "GZKQ-4o8TMn2"
   },
   "source": [
    "2. Faça um programa que peça para o usuário digitar uma palavra e imprima\n",
    "cada letra em uma linha."
   ]
  },
  {
   "cell_type": "code",
   "execution_count": null,
   "metadata": {
    "colab": {
     "base_uri": "https://localhost:8080/"
    },
    "executionInfo": {
     "elapsed": 2669,
     "status": "ok",
     "timestamp": 1641236444048,
     "user": {
      "displayName": "patrick_ribeiro@ymail.com",
      "photoUrl": "https://lh3.googleusercontent.com/a/default-user=s64",
      "userId": "00913320575128451211"
     },
     "user_tz": 180
    },
    "id": "349hWctsOX9M",
    "outputId": "ec6a0c83-f9e0-4a6f-c76e-1acd38855a10"
   },
   "outputs": [
    {
     "name": "stdout",
     "output_type": "stream",
     "text": [
      "Digite uma palavra: letra\n",
      "l\n",
      "e\n",
      "t\n",
      "r\n",
      "a\n"
     ]
    }
   ],
   "source": [
    "palavra = str(input('Digite uma palavra: ')) #Pedindo ao usuário uma palavra\n",
    "lista_palavra = list(palavra) #Convertendo a palavra do usuário em lista\n",
    "\n",
    "\n",
    "indice = 0\n",
    "while indice < len(lista_palavra): # Como não sabemos o tamanho da palavra usamos a função len para percorrer a lista \n",
    "    print(lista_palavra[indice])  # Imprime cada letra da palavra em uma linha\n",
    "    indice = indice + 1\n"
   ]
  },
  {
   "cell_type": "markdown",
   "metadata": {
    "id": "4OOKTZbmTP8W"
   },
   "source": [
    "3. Faça uma função que recebe duas listas e retorna a soma item a item dessas\n",
    "listas.\n",
    "Exemplo: Se a função receber as listas [1,4,3] e [3,5,1], então a função deve\n",
    "retornar [1+3, 4+5, 3+1] = [4, 9, 4]."
   ]
  },
  {
   "cell_type": "code",
   "execution_count": null,
   "metadata": {
    "colab": {
     "base_uri": "https://localhost:8080/"
    },
    "executionInfo": {
     "elapsed": 530,
     "status": "ok",
     "timestamp": 1641291013113,
     "user": {
      "displayName": "patrick_ribeiro@ymail.com",
      "photoUrl": "https://lh3.googleusercontent.com/a/default-user=s64",
      "userId": "00913320575128451211"
     },
     "user_tz": 180
    },
    "id": "2XkZxeU7eDA8",
    "outputId": "ba6e4460-598f-4d07-99e8-77fc3d2a0755"
   },
   "outputs": [
    {
     "name": "stdout",
     "output_type": "stream",
     "text": [
      "[4, 9, 4]\n"
     ]
    }
   ],
   "source": [
    "lista1 = [1, 4, 3]\n",
    "lista2 = [3, 5, 1]\n",
    "soma = []\n",
    "for i in range(len(lista1 and lista2)): # função que recebe duas listas\n",
    "  soma.append(lista1[i] + lista2[i]) # soma item a item dessas listas em ordem \n",
    "print(soma) #imprime retorno da soma "
   ]
  },
  {
   "cell_type": "markdown",
   "metadata": {
    "id": "FM9P2uOhTRvl"
   },
   "source": [
    "4. Crie um dicionário cujas chaves são os meses do ano e os valores são a\n",
    "duração (em dias) de cada mês."
   ]
  },
  {
   "cell_type": "code",
   "execution_count": 41,
   "metadata": {
    "colab": {
     "base_uri": "https://localhost:8080/"
    },
    "executionInfo": {
     "elapsed": 544,
     "status": "ok",
     "timestamp": 1641295291746,
     "user": {
      "displayName": "patrick_ribeiro@ymail.com",
      "photoUrl": "https://lh3.googleusercontent.com/a/default-user=s64",
      "userId": "00913320575128451211"
     },
     "user_tz": 180
    },
    "id": "_hQiU-VbkZhe",
    "outputId": "d22e08d0-9aac-4422-f47c-a4078baa8524"
   },
   "outputs": [
    {
     "name": "stdout",
     "output_type": "stream",
     "text": [
      "{'Janeiro': 31, 'Fevereiro': 28, 'Março': 31, 'Abril': 30, 'Maio': 31, 'Junho': 30, 'Julho': 31, 'Agosto': 31, 'Setembro': 30, 'Outubro': 31, 'Novembro': 30, 'Dezembro': 31}\n"
     ]
    }
   ],
   "source": [
    "#Cria dicionario \n",
    "meses_do_ano = {\"Janeiro\": 31, \"Fevereiro\": 28, \"Março\": 31, \"Abril\": 30, \"Maio\": 31, \"Junho\": 30 , \"Julho\": 31, \"Agosto\": 31, \"Setembro\": 30, \"Outubro\": 31, \"Novembro\": 30, \"Dezembro\": 31}\n",
    "print(meses_do_ano)\n",
    "\n"
   ]
  },
  {
   "cell_type": "markdown",
   "metadata": {
    "id": "gGqKyRopTX61"
   },
   "source": [
    "5. Imprima as chaves seguidas dos seus valores para dicionário criado no\n",
    "exercício anterior.\n",
    "Exemplo:\n",
    "Janeiro - 31\n",
    "Fevereiro - 28\n",
    "Março - 31\n",
    "Etc..."
   ]
  },
  {
   "cell_type": "code",
   "execution_count": 40,
   "metadata": {
    "colab": {
     "base_uri": "https://localhost:8080/"
    },
    "executionInfo": {
     "elapsed": 623,
     "status": "ok",
     "timestamp": 1641295256000,
     "user": {
      "displayName": "patrick_ribeiro@ymail.com",
      "photoUrl": "https://lh3.googleusercontent.com/a/default-user=s64",
      "userId": "00913320575128451211"
     },
     "user_tz": 180
    },
    "id": "SZdlhsP3wlgN",
    "outputId": "a87c81ff-a2cc-4c13-f51b-5e9c3262c9f9"
   },
   "outputs": [
    {
     "name": "stdout",
     "output_type": "stream",
     "text": [
      "Janeiro - 31\n",
      "Fevereiro - 28\n",
      "Março - 31\n",
      "Abril - 30\n",
      "Maio - 31\n",
      "Junho - 30\n",
      "Julho - 31\n",
      "Agosto - 31\n",
      "Setembro - 30\n",
      "Outubro - 31\n",
      "Novembro - 30\n",
      "Dezembro - 31\n"
     ]
    }
   ],
   "source": [
    "for mes_dia in meses_do_ano: \n",
    "  print(mes_dia, '-', meses_do_ano[mes_dia]) #imprime as chaves seguido dos seus valores separados por hífem por linha"
   ]
  }
 ],
 "metadata": {
  "colab": {
   "authorship_tag": "ABX9TyP4VQlzeLCyDSPSR9W1x0sQ",
   "collapsed_sections": [],
   "name": "Exercícios Módulo 2 - Python.ipynb",
   "provenance": []
  },
  "kernelspec": {
   "display_name": "Python 3",
   "language": "python",
   "name": "python3"
  },
  "language_info": {
   "codemirror_mode": {
    "name": "ipython",
    "version": 3
   },
   "file_extension": ".py",
   "mimetype": "text/x-python",
   "name": "python",
   "nbconvert_exporter": "python",
   "pygments_lexer": "ipython3",
   "version": "3.8.8"
  }
 },
 "nbformat": 4,
 "nbformat_minor": 1
}
