{
  "nbformat": 4,
  "nbformat_minor": 0,
  "metadata": {
    "colab": {
      "name": "WhileLoop.ipynb",
      "provenance": [],
      "authorship_tag": "ABX9TyO1fQisISGNzVjFb3gKW4QD",
      "include_colab_link": true
    },
    "kernelspec": {
      "name": "python3",
      "display_name": "Python 3"
    },
    "language_info": {
      "name": "python"
    }
  },
  "cells": [
    {
      "cell_type": "markdown",
      "metadata": {
        "id": "view-in-github",
        "colab_type": "text"
      },
      "source": [
        "<a href=\"https://colab.research.google.com/github/PatrickFRR/Python_Challenges/blob/main/WhileLoop.ipynb\" target=\"_parent\"><img src=\"https://colab.research.google.com/assets/colab-badge.svg\" alt=\"Open In Colab\"/></a>"
      ]
    },
    {
      "cell_type": "code",
      "execution_count": 2,
      "metadata": {
        "colab": {
          "base_uri": "https://localhost:8080/"
        },
        "id": "Bn9I0RrYmTGF",
        "outputId": "c431fd8b-cf23-4545-c6de-726b94197b3e"
      },
      "outputs": [
        {
          "output_type": "stream",
          "name": "stdout",
          "text": [
            "Enter a number: 4\n",
            "The total is.... 4\n",
            "Enter a number: 15\n",
            "The total is.... 19\n",
            "Enter a number: 25\n",
            "The total is.... 44\n",
            "Enter a number: 6\n",
            "The total is.... 50\n",
            "Enter a number: 2\n",
            "The total is.... 52\n"
          ]
        }
      ],
      "source": [
        "#045\n",
        "total = 0\n",
        "while total <= 50:\n",
        "  num = int(input(\"Enter a number: \"))\n",
        "  total = total + num\n",
        "  print(\"The total is....\", total)"
      ]
    },
    {
      "cell_type": "code",
      "source": [
        "#046\n",
        "num = 0 \n",
        "while num <= 5:\n",
        "  num = int(input(\"Enter a number: \"))\n",
        "print(\"The last number you enterd was a\", num)"
      ],
      "metadata": {
        "colab": {
          "base_uri": "https://localhost:8080/"
        },
        "id": "0Um4nk8oqpEM",
        "outputId": "b41ce65a-e78f-419d-a749-ce23394e081c"
      },
      "execution_count": 3,
      "outputs": [
        {
          "output_type": "stream",
          "name": "stdout",
          "text": [
            "Enter a number: 3\n",
            "Enter a number: 2\n",
            "Enter a number: 5\n",
            "Enter a number: 6\n",
            "The last number you enterd was a 6\n"
          ]
        }
      ]
    },
    {
      "cell_type": "code",
      "source": [
        "#047\n",
        "num1 = int(input(\"Enter a number: \"))\n",
        "total = num1\n",
        "again = \"y\"\n",
        "while again == \"y\":\n",
        "  num2 = int(input(\"Enter another number: \"))\n",
        "  total = total + num2\n",
        "  again = input(\"Do you want to add another number? (y/n) \")\n",
        "print(\"The total is \", total)"
      ],
      "metadata": {
        "colab": {
          "base_uri": "https://localhost:8080/"
        },
        "id": "OLRNLEXyqpGj",
        "outputId": "b17cb283-e86d-4afb-9db5-17255805d1a5"
      },
      "execution_count": 4,
      "outputs": [
        {
          "output_type": "stream",
          "name": "stdout",
          "text": [
            "Enter a number: 2\n",
            "Enter another number: 6\n",
            "Do you want to add another number? (y/n) y\n",
            "Enter another number: 6\n",
            "Do you want to add another number? (y/n) n\n",
            "The total is  14\n"
          ]
        }
      ]
    },
    {
      "cell_type": "code",
      "source": [
        "#048\n",
        "again = \"y\"\n",
        "count = 0\n",
        "while again == \"y\":\n",
        "  name = input(\"Enter a name of sombody you wnat to invite to your party: \")\n",
        "  print(name, \"has now been invited\")\n",
        "  count = count + 1\n",
        "  again = input(\"Do you want to invite somebody else? (y/n) \")\n",
        "print(\"You have\", count, \"people coming to your party.\")"
      ],
      "metadata": {
        "colab": {
          "base_uri": "https://localhost:8080/"
        },
        "id": "_-MHLfqYridR",
        "outputId": "41000cc9-89e1-4c81-da21-37fc34f05a43"
      },
      "execution_count": 5,
      "outputs": [
        {
          "output_type": "stream",
          "name": "stdout",
          "text": [
            "Enter a name of sombody you wnat to invite to your party: Peter \n",
            "Peter  has now been invited\n",
            "Do you want to invite somebody else? (y/n) y\n",
            "Enter a name of sombody you wnat to invite to your party: John\n",
            "John has now been invited\n",
            "Do you want to invite somebody else? (y/n) y\n",
            "Enter a name of sombody you wnat to invite to your party: Paul\n",
            "Paul has now been invited\n",
            "Do you want to invite somebody else? (y/n) n\n",
            "You have 3 people coming to your party.\n"
          ]
        }
      ]
    },
    {
      "cell_type": "code",
      "source": [
        "#049\n",
        "compnum = 50\n",
        "guess = int(input(\"Can you guess the number I am thinking of? \"))\n",
        "count = 1\n",
        "while guess != compnum:\n",
        "  if guess < compnum:\n",
        "    print(\"Too low\")\n",
        "  else:\n",
        "    print(\"Too high\")\n",
        "  count = count + 1\n",
        "  guess = int(input(\"Have another guess: \"))\n",
        "print(\"Well done, you took\", count, \"attempts\")\n"
      ],
      "metadata": {
        "colab": {
          "base_uri": "https://localhost:8080/"
        },
        "id": "A-YzOfOwrieV",
        "outputId": "40afa575-4555-4c67-e3b3-59fed6abf6b5"
      },
      "execution_count": 6,
      "outputs": [
        {
          "output_type": "stream",
          "name": "stdout",
          "text": [
            "Can you guess the number I am thinking of? 6\n",
            "Too low\n",
            "Have another guess: 15\n",
            "Too low\n",
            "Have another guess: 45\n",
            "Too low\n",
            "Have another guess: 55\n",
            "Too high\n",
            "Have another guess: 50\n",
            "Well done, you took 5 attempts\n"
          ]
        }
      ]
    },
    {
      "cell_type": "code",
      "source": [
        "#50\n",
        "num = int(input(\"Enter a number between 10 and 20: \"))\n",
        "while num < 10 or num > 20:\n",
        "  if num < 10:\n",
        "    print(\"Too low\")\n",
        "  else:\n",
        "    print(\"Too high\")\n",
        "  num = int(input(\"Try again: \"))\n",
        "print(\"Thank you\")"
      ],
      "metadata": {
        "colab": {
          "base_uri": "https://localhost:8080/"
        },
        "id": "wqo8mqAktRoL",
        "outputId": "e9a33cd8-f0cb-4940-8cb6-8bf515c9bc22"
      },
      "execution_count": 7,
      "outputs": [
        {
          "output_type": "stream",
          "name": "stdout",
          "text": [
            "Enter a number between 10 and 20: 15\n",
            "Thank you\n"
          ]
        }
      ]
    },
    {
      "cell_type": "code",
      "source": [
        "#51\n",
        "num = 10\n",
        "while num > 10:\n",
        "  print(\"There are \", num, \" green bottles hanging on the wall.\")\n",
        "  print(num, \" greem bottles hanging on the wall.\")\n",
        "  print(\"And if 1 green bottle should accidentally fall,\")\n",
        "  num = num - 1\n",
        "  answer = int(input(\"Howe amny green bottles will be hanging on the wall? \"))\n",
        "  if answer == num:\n",
        "    print(\"There will be\", num, \" green bottels hanging on the wall.\")\n",
        "  else:\n",
        "    while answer != num:\n",
        "      answer = int(input(\"No, try again: \"))\n",
        "print(\"There are no more green bottles hanging on the wall.\")"
      ],
      "metadata": {
        "colab": {
          "base_uri": "https://localhost:8080/"
        },
        "id": "Sk3ceWTHt794",
        "outputId": "07fd8583-d14c-48a2-d725-190b81dc394b"
      },
      "execution_count": 9,
      "outputs": [
        {
          "output_type": "stream",
          "name": "stdout",
          "text": [
            "There are no more green bottles hanging on the wall.\n"
          ]
        }
      ]
    },
    {
      "cell_type": "code",
      "source": [
        ""
      ],
      "metadata": {
        "id": "JfGs6OORt7_N"
      },
      "execution_count": null,
      "outputs": []
    }
  ]
}