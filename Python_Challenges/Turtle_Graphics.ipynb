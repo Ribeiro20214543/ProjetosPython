{
 "cells": [
  {
   "cell_type": "code",
   "execution_count": 17,
   "id": "bc8558dd",
   "metadata": {},
   "outputs": [],
   "source": [
    "#060a Pentagon\n",
    "import turtle\n",
    "\n",
    "turtle.shape(\"turtle\")\n",
    "\n",
    "for i in range(0,5):\n",
    "    turtle.forward(100)\n",
    "    turtle.right(72)\n",
    "\n",
    "turtle.exitonclick()"
   ]
  },
  {
   "cell_type": "code",
   "execution_count": 15,
   "id": "780ce343",
   "metadata": {},
   "outputs": [],
   "source": [
    "#060 Square\n",
    "import turtle\n",
    "\n",
    "for i in range(0,4):\n",
    "    turtle.forward(100)\n",
    "    turtle.right(90)\n",
    "    \n",
    "turtle.exitonclick()"
   ]
  },
  {
   "cell_type": "code",
   "execution_count": 19,
   "id": "754b4f39",
   "metadata": {},
   "outputs": [],
   "source": [
    "#061 Triangle\n",
    "import turtle\n",
    "\n",
    "for i in range(0,3):\n",
    "    turtle.forward(100)\n",
    "    turtle.left(120)\n",
    "\n",
    "turtle.exitonclick()"
   ]
  },
  {
   "cell_type": "code",
   "execution_count": 21,
   "id": "3def3a1e",
   "metadata": {},
   "outputs": [],
   "source": [
    "#062 Circle\n",
    "import turtle\n",
    "\n",
    "for i in range(0,360):\n",
    "    turtle.forward(1)\n",
    "    turtle.right(1)\n",
    "\n",
    "turtle.exitonclick()"
   ]
  },
  {
   "cell_type": "code",
   "execution_count": 29,
   "id": "1bebf855",
   "metadata": {},
   "outputs": [],
   "source": [
    "#063 red square, yellow square and green square\n",
    "import turtle\n",
    "\n",
    "turtle.color(\"black\", \"red\")\n",
    "turtle.begin_fill()\n",
    "for i in range(0,4):\n",
    "    turtle.forward(70)\n",
    "    turtle.right(90)\n",
    "turtle.penup()\n",
    "turtle.end_fill()\n",
    "turtle.forward(100)\n",
    "\n",
    "turtle.pendown()\n",
    "turtle.color('black', 'yellow')\n",
    "turtle.begin_fill()\n",
    "for i in range(0,4):\n",
    "    turtle.forward(70)\n",
    "    turtle.right(90)\n",
    "turtle.penup()\n",
    "turtle.end_fill()\n",
    "turtle.forward(100)\n",
    "\n",
    "turtle.pendown()\n",
    "turtle.color('black', 'green')\n",
    "turtle.begin_fill()\n",
    "for i in range(0,4):\n",
    "    turtle.forward(70)\n",
    "    turtle.right(90)\n",
    "turtle.penup()\n",
    "turtle.end_fill()\n",
    "turtle.forward(100)\n",
    "\n",
    "turtle.exitonclick()"
   ]
  },
  {
   "cell_type": "code",
   "execution_count": 31,
   "id": "7c775b95",
   "metadata": {},
   "outputs": [],
   "source": [
    "#064 Star\n",
    "\n",
    "import turtle\n",
    "\n",
    "for i in range(0,5):\n",
    "    turtle.forward(100)\n",
    "    turtle.right(144)\n",
    "    \n",
    "turtle.exitonclick()"
   ]
  },
  {
   "cell_type": "code",
   "execution_count": 27,
   "id": "40e6425e",
   "metadata": {},
   "outputs": [],
   "source": [
    "#065 numbers 125\n",
    "import turtle\n",
    "\n",
    "turtle.left(90)\n",
    "turtle.forward(100)\n",
    "turtle.right(90)\n",
    "turtle.penup()\n",
    "turtle.forward(50)\n",
    "turtle.pendown()\n",
    "turtle.forward(75)\n",
    "turtle.right(90)\n",
    "turtle.forward(75)\n",
    "turtle.right(90)\n",
    "turtle.forward(75)\n",
    "turtle.left(90)\n",
    "turtle.forward(50)\n",
    "turtle.left(90)\n",
    "turtle.forward(75)\n",
    "turtle.penup()\n",
    "turtle.forward(50)\n",
    "turtle.pendown()\n",
    "turtle.forward(75)\n",
    "turtle.left(90)\n",
    "turtle.forward(50)\n",
    "turtle.left(90)\n",
    "turtle.forward(45)\n",
    "turtle.left(180)\n",
    "turtle.forward(45)\n",
    "turtle.left(90)\n",
    "turtle.forward(50)\n",
    "turtle.left(90)\n",
    "turtle.forward(75)\n",
    "\n",
    "turtle.hideturtle()\n",
    "\n",
    "turtle.exitonclick()"
   ]
  },
  {
   "cell_type": "code",
   "execution_count": 35,
   "id": "e0963e25",
   "metadata": {},
   "outputs": [],
   "source": [
    "#066 Octogon\n",
    "\n",
    "import turtle\n",
    "import random\n",
    "\n",
    "turtle.pensize(3)\n",
    "\n",
    "for i in range(0,8):\n",
    "    turtle.color(random.choice([\"red\", \"blue\", \"yellow\", \"green\", \"pink\", \"orange\"]))\n",
    "    turtle.forward(50)\n",
    "    turtle.right(45)\n",
    "    \n",
    "turtle.exitonclick()\n",
    "    "
   ]
  },
  {
   "cell_type": "code",
   "execution_count": 39,
   "id": "07ea3056",
   "metadata": {},
   "outputs": [],
   "source": [
    "#067 Pattern flower\n",
    "\n",
    "import turtle\n",
    "import random\n",
    "\n",
    "for x in range(0,10):\n",
    "    for i in range(0,8):\n",
    "        turtle.forward(50)\n",
    "        turtle.right(45)\n",
    "    turtle.right(36)\n",
    "\n",
    "turtle.hideturtle()\n",
    "\n",
    "turtle.exitonclick()"
   ]
  },
  {
   "cell_type": "code",
   "execution_count": 41,
   "id": "ed9e3fea",
   "metadata": {},
   "outputs": [],
   "source": [
    "#068 Hazard random\n",
    "\n",
    "import turtle\n",
    "import random\n",
    "\n",
    "lines = random.randint(5, 20)\n",
    "\n",
    "for x in range(0, lines):\n",
    "    length = random.randint(25, 100)\n",
    "    rotate = random.randint(1, 365)\n",
    "    turtle.forward(length)\n",
    "    turtle.right(rotate)\n",
    "\n",
    "turtle.exitonclick()"
   ]
  }
 ],
 "metadata": {
  "kernelspec": {
   "display_name": "Python 3 (ipykernel)",
   "language": "python",
   "name": "python3"
  },
  "language_info": {
   "codemirror_mode": {
    "name": "ipython",
    "version": 3
   },
   "file_extension": ".py",
   "mimetype": "text/x-python",
   "name": "python",
   "nbconvert_exporter": "python",
   "pygments_lexer": "ipython3",
   "version": "3.9.12"
  }
 },
 "nbformat": 4,
 "nbformat_minor": 5
}
