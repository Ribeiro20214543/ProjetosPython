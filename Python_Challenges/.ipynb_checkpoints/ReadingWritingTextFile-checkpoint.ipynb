{
 "cells": [
  {
   "cell_type": "code",
   "execution_count": 1,
   "id": "c945f704",
   "metadata": {},
   "outputs": [],
   "source": [
    "#0105\n",
    "file = open(\"Numbers.txt\", \"w\")\n",
    "file.write(\"4, \")\n",
    "file.write(\"6, \")\n",
    "file.write(\"10, \")\n",
    "file.write(\"8, \")\n",
    "file.write(\"5, \")\n",
    "file.close()"
   ]
  },
  {
   "cell_type": "code",
   "execution_count": 4,
   "id": "5b0d1779",
   "metadata": {},
   "outputs": [
    {
     "name": "stdout",
     "output_type": "stream",
     "text": [
      "4, 6, 10, 8, 5, \n"
     ]
    }
   ],
   "source": [
    "#0106 \n",
    "file = open(\"Numbers.txt\", \"r\")\n",
    "print(file.read())\n",
    "file.close()"
   ]
  },
  {
   "cell_type": "code",
   "execution_count": 2,
   "id": "581a57ae",
   "metadata": {},
   "outputs": [],
   "source": [
    "#0107\n",
    "file = open(\"Names.txt\", \"w\")\n",
    "file.write(\"Bob\\n\")\n",
    "file.write(\"Tom\\n\")\n",
    "file.write(\"Gemma\\n\")\n",
    "file.write(\"Sarah\\n\")\n",
    "file.write(\"Timothy\\n\")\n",
    "file.close()"
   ]
  },
  {
   "cell_type": "code",
   "execution_count": 3,
   "id": "06aeda11",
   "metadata": {},
   "outputs": [
    {
     "name": "stdout",
     "output_type": "stream",
     "text": [
      "Bob\n",
      "Tom\n",
      "Gemma\n",
      "Sarah\n",
      "Timothy\n",
      "\n"
     ]
    }
   ],
   "source": [
    "file = open(\"Names.txt\", \"r\")\n",
    "print(file.read())\n",
    "file.close()"
   ]
  },
  {
   "cell_type": "code",
   "execution_count": 5,
   "id": "9ab14db1",
   "metadata": {},
   "outputs": [
    {
     "name": "stdout",
     "output_type": "stream",
     "text": [
      "Enter a new name: Emanuel\n",
      "Bob\n",
      "Tom\n",
      "Gemma\n",
      "Sarah\n",
      "Timothy\n",
      "Emanuel\n",
      "\n"
     ]
    }
   ],
   "source": [
    "#0108\n",
    "file = open(\"Names.txt\", \"a\")\n",
    "newname = input(\"Enter a new name: \")\n",
    "file.write(newname + \"\\n\")\n",
    "file.close()\n",
    "\n",
    "file = open(\"Names.txt\", \"r\")\n",
    "print(file.read())\n",
    "file.close()"
   ]
  },
  {
   "cell_type": "code",
   "execution_count": 2,
   "id": "c69dffd0",
   "metadata": {},
   "outputs": [
    {
     "name": "stdout",
     "output_type": "stream",
     "text": [
      "1) Create a new file\n",
      "2) Display the file\n",
      "3) Add a new item to the file\n",
      "Make a selection 1, 2 or 3: 3\n",
      "Enter a school subject: Science\n",
      "Math\n",
      "Science\n",
      "\n"
     ]
    }
   ],
   "source": [
    "#0109\n",
    "print(\"1) Create a new file\")\n",
    "print(\"2) Display the file\")\n",
    "print(\"3) Add a new item to the file\")\n",
    "selection = int(input(\"Make a selection 1, 2 or 3: \"))\n",
    "if selection == 1:\n",
    "    subject = input(\"Enter a school subject: \")\n",
    "    file = open (\"Subject.txt\", \"w\")\n",
    "    file.write(subject + \"\\n\")\n",
    "    file.close()\n",
    "elif selection == 2:\n",
    "    file = open(\"Subject.txt\", \"r\")\n",
    "    print(file.read())\n",
    "elif selection == 3:\n",
    "    file = open(\"Subject.txt\", \"a\")\n",
    "    subject = input(\"Enter a school subject: \")\n",
    "    file.write(subject + \"\\n\")\n",
    "    file.close()\n",
    "    file = open(\"Subject.txt\", \"r\")\n",
    "    print(file.read())\n",
    "else:\n",
    "    print(\"Invalid option\")"
   ]
  },
  {
   "cell_type": "code",
   "execution_count": 4,
   "id": "8bf1a967",
   "metadata": {},
   "outputs": [
    {
     "name": "stdout",
     "output_type": "stream",
     "text": [
      "Bob\n",
      "Tom\n",
      "Gemma\n",
      "Sarah\n",
      "Timothy\n",
      "Emanuel\n",
      "\n",
      "Enter a name from the list: Patrick\n"
     ]
    }
   ],
   "source": [
    "#0110\n",
    "file = open(\"Names.txt\", \"r\")\n",
    "print(file.read())\n",
    "file.close()\n",
    "\n",
    "file = open(\"Names.txt\", \"r\")\n",
    "selectedname = input(\"Enter a name from the list: \")\n",
    "selectedname = selectedname + \"\\n\"\n",
    "for row in file:\n",
    "    if row != selectedname:\n",
    "        file = open(\"Names2.txt\", \"a\")\n",
    "        newrecord = row\n",
    "        file.write(newrecord)\n",
    "        file.close()\n",
    "file.close()"
   ]
  }
 ],
 "metadata": {
  "interpreter": {
   "hash": "ef5b265d1e9533366cc8ba07638d30055ef3b19f58f438424c8609f9b3dcb5eb"
  },
  "kernelspec": {
   "display_name": "Python 3 (ipykernel)",
   "language": "python",
   "name": "python3"
  },
  "language_info": {
   "codemirror_mode": {
    "name": "ipython",
    "version": 3
   },
   "file_extension": ".py",
   "mimetype": "text/x-python",
   "name": "python",
   "nbconvert_exporter": "python",
   "pygments_lexer": "ipython3",
   "version": "3.9.12"
  }
 },
 "nbformat": 4,
 "nbformat_minor": 5
}
