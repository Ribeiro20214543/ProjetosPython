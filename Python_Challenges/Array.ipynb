{
 "cells": [
  {
   "cell_type": "code",
   "execution_count": 2,
   "id": "3843d625",
   "metadata": {},
   "outputs": [
    {
     "name": "stdout",
     "output_type": "stream",
     "text": [
      "Enter a number: 2\n",
      "Enter a number: 4\n",
      "Enter a number: 5\n",
      "Enter a number: 6\n",
      "Enter a number: 10\n",
      "[10, 6, 5, 4, 2]\n"
     ]
    }
   ],
   "source": [
    "#088\n",
    "from array import *\n",
    "\n",
    "nums = array('i', [])\n",
    "\n",
    "for i in range(0,5):\n",
    "    num = int(input(\"Enter a number: \"))\n",
    "    nums.append(num)\n",
    "\n",
    "nums = sorted(nums)\n",
    "nums.reverse()\n",
    "\n",
    "print(nums)"
   ]
  },
  {
   "cell_type": "code",
   "execution_count": 3,
   "id": "293cc422",
   "metadata": {},
   "outputs": [
    {
     "name": "stdout",
     "output_type": "stream",
     "text": [
      "15\n",
      "68\n",
      "94\n",
      "60\n",
      "84\n"
     ]
    }
   ],
   "source": [
    "#089\n",
    "from array import *\n",
    "import random\n",
    "\n",
    "nums = array('i', [])\n",
    "\n",
    "for i in range(0,5):\n",
    "    num = random.randint(1, 100)\n",
    "    nums.append(num)\n",
    "\n",
    "for i in nums:\n",
    "    print(i)"
   ]
  },
  {
   "cell_type": "code",
   "execution_count": 6,
   "id": "1c9f8d15",
   "metadata": {},
   "outputs": [
    {
     "name": "stdout",
     "output_type": "stream",
     "text": [
      "Enter a number between 10 and 20: 15\n",
      "Enter a number between 10 and 20: 12\n",
      "Enter a number between 10 and 20: 18\n",
      "Enter a number between 10 and 20: 13\n",
      "Enter a number between 10 and 20: 17\n",
      "15\n",
      "12\n",
      "18\n",
      "13\n",
      "17\n"
     ]
    }
   ],
   "source": [
    "#090\n",
    "from array import *\n",
    "\n",
    "nums = array(\"i\", [])\n",
    "\n",
    "while len(nums) < 5:\n",
    "    num = int(input(\"Enter a number between 10 and 20: \"))\n",
    "    if num >= 10 and num <= 20:\n",
    "        nums.append(num)\n",
    "    else:\n",
    "        print(\"Outside the range\")\n",
    "\n",
    "for i in nums:\n",
    "    print(i)"
   ]
  },
  {
   "cell_type": "code",
   "execution_count": 7,
   "id": "2e09b31a",
   "metadata": {},
   "outputs": [
    {
     "name": "stdout",
     "output_type": "stream",
     "text": [
      "5\n",
      "7\n",
      "9\n",
      "2\n",
      "9\n",
      "Enter a number: 5\n",
      "5 is in the list once\n"
     ]
    }
   ],
   "source": [
    "#091\n",
    "from array import *\n",
    "nums = array('i',[5,7,9,2,9])\n",
    "\n",
    "for i in nums:\n",
    "    print(i)\n",
    "\n",
    "num = int(input(\"Enter a number: \"))\n",
    "\n",
    "if nums.count(num) == 1:\n",
    "    print(num, \"is in the list once\")\n",
    "else:\n",
    "    print(num, \"is in the list\", nums.count(num), \"times\")\n",
    "    "
   ]
  },
  {
   "cell_type": "code",
   "execution_count": 8,
   "id": "17f3e3cf",
   "metadata": {},
   "outputs": [
    {
     "name": "stdout",
     "output_type": "stream",
     "text": [
      "Enter a number: 3\n",
      "Enter a number: 5\n",
      "Enter a number: 6\n",
      "2\n",
      "3\n",
      "5\n",
      "6\n",
      "20\n",
      "35\n",
      "79\n",
      "86\n"
     ]
    }
   ],
   "source": [
    "#092\n",
    "from array import *\n",
    "import random\n",
    "\n",
    "num1 = array('i', [])\n",
    "num2 = array('i', [])\n",
    "\n",
    "for i in range(0,3):\n",
    "    num = int(input(\"Enter a number: \"))\n",
    "    num1.append(num)\n",
    "\n",
    "for i in range(0,5):\n",
    "    num = random.randint(1, 100)\n",
    "    num2.append(num)\n",
    "\n",
    "num1.extend(num2)\n",
    "\n",
    "num1 = sorted(num1)\n",
    "\n",
    "for i in num1:\n",
    "    print(i)"
   ]
  },
  {
   "cell_type": "code",
   "execution_count": 10,
   "id": "5d35f772",
   "metadata": {},
   "outputs": [
    {
     "name": "stdout",
     "output_type": "stream",
     "text": [
      "Enter a number: 15\n",
      "Enter a number: 2\n",
      "Enter a number: 56\n",
      "Enter a number: 3\n",
      "Enter a number: 33\n",
      "2\n",
      "3\n",
      "15\n",
      "33\n",
      "56\n",
      "Select a number form the array: 78\n",
      "That is not a valeu in the array\n"
     ]
    }
   ],
   "source": [
    "#093\n",
    "from array import *\n",
    "\n",
    "nums = array('i', [])\n",
    "\n",
    "for i in range(0,5):\n",
    "    num = int(input(\"Enter a number: \"))\n",
    "    nums.append(num)\n",
    "\n",
    "nums = sorted(nums)\n",
    "\n",
    "for i in nums:\n",
    "    print(i)\n",
    "\n",
    "num = int(input(\"Select a number form the array: \"))\n",
    "if num in nums:\n",
    "    nums.remove(num)\n",
    "    num2 = array('i', [])\n",
    "    print(nums)\n",
    "    print(num2)\n",
    "else:\n",
    "    print(\"That is not a valeu in the array\")"
   ]
  },
  {
   "cell_type": "code",
   "execution_count": 12,
   "id": "9c23c351",
   "metadata": {},
   "outputs": [
    {
     "name": "stdout",
     "output_type": "stream",
     "text": [
      "4\n",
      "6\n",
      "8\n",
      "2\n",
      "5\n",
      "Select one of the numbers: 6\n",
      "This is in position 1\n"
     ]
    }
   ],
   "source": [
    "#094\n",
    "from array import *\n",
    "\n",
    "nums = array('i', [4,6,8,2,5])\n",
    "\n",
    "for i in nums:\n",
    "    print(i)\n",
    "\n",
    "num = int(input(\"Select one of the numbers: \"))\n",
    "\n",
    "tryagain = True\n",
    "while tryagain == True:\n",
    "    if num in nums:\n",
    "        print(\"This is in position\", nums.index(num))\n",
    "        tryagain = False\n",
    "    else:\n",
    "        print(\"Not in array\")\n",
    "        num = int(input(\"Select one of the numbers: \"))"
   ]
  },
  {
   "cell_type": "code",
   "execution_count": 13,
   "id": "12a28ab1",
   "metadata": {},
   "outputs": [
    {
     "name": "stdout",
     "output_type": "stream",
     "text": [
      "Enter a number between 2 and 5: 3\n",
      "11.33\n",
      "25.0\n",
      "9.0\n",
      "7.67\n",
      "33.0\n"
     ]
    }
   ],
   "source": [
    "#095\n",
    "from array import *\n",
    "import math\n",
    "\n",
    "nums = array('f', [34,75,27,23,99,58,45,26,28,65])\n",
    "tryagain = True\n",
    "while tryagain == True:\n",
    "    num = int(input(\"Enter a number between 2 and 5: \"))\n",
    "    if num<2 or num>5:\n",
    "        print(\"Incorrect valeu, try again.\")\n",
    "    else:\n",
    "        tryagain = False\n",
    "for i in range(0,5):\n",
    "    ans = nums[i]/num\n",
    "    print(round(ans,2))"
   ]
  },
  {
   "cell_type": "code",
   "execution_count": null,
   "id": "3f3670d5",
   "metadata": {},
   "outputs": [],
   "source": []
  }
 ],
 "metadata": {
  "kernelspec": {
   "display_name": "Python 3 (ipykernel)",
   "language": "python",
   "name": "python3"
  },
  "language_info": {
   "codemirror_mode": {
    "name": "ipython",
    "version": 3
   },
   "file_extension": ".py",
   "mimetype": "text/x-python",
   "name": "python",
   "nbconvert_exporter": "python",
   "pygments_lexer": "ipython3",
   "version": "3.9.12"
  }
 },
 "nbformat": 4,
 "nbformat_minor": 5
}
