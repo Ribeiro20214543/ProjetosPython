{
 "cells": [
  {
   "cell_type": "code",
   "execution_count": 1,
   "id": "768b8902",
   "metadata": {},
   "outputs": [
    {
     "name": "stdout",
     "output_type": "stream",
     "text": [
      "('France', 'England', 'Spain', 'Germany', 'Brazil')\n",
      "\n",
      "Please enter one of the counties form above: Germany\n",
      "Germany has index number 3\n"
     ]
    }
   ],
   "source": [
    "#069\n",
    "country_tuple = (\"France\", \"England\", \"Spain\", \"Germany\", \"Brazil\")\n",
    "print(country_tuple)\n",
    "print()\n",
    "country = input(\"Please enter one of the counties form above: \")\n",
    "print(country, \"has index number\", country_tuple.index(country))"
   ]
  },
  {
   "cell_type": "code",
   "execution_count": 2,
   "id": "ee71c076",
   "metadata": {},
   "outputs": [
    {
     "name": "stdout",
     "output_type": "stream",
     "text": [
      "('France', 'England', 'Spain', 'Germany', 'Brazil')\n",
      "\n",
      "Please enter one of the counties form above: Germany\n",
      "Germany has index number 3\n",
      "\n",
      "Enter a number betwen 0 and 4: 4\n",
      "Brazil\n"
     ]
    }
   ],
   "source": [
    "#070\n",
    "country_tuple = (\"France\", \"England\", \"Spain\", \"Germany\", \"Brazil\")\n",
    "print(country_tuple)\n",
    "print()\n",
    "country = input(\"Please enter one of the counties form above: \")\n",
    "print(country, \"has index number\", country_tuple.index(country))\n",
    "print()\n",
    "num = int(input(\"Enter a number betwen 0 and 4: \"))\n",
    "print(country_tuple[num])\n"
   ]
  },
  {
   "cell_type": "code",
   "execution_count": 4,
   "id": "ead530e3",
   "metadata": {},
   "outputs": [
    {
     "name": "stdout",
     "output_type": "stream",
     "text": [
      "What is  your favourite sport?swimming\n",
      "['football', 'swimming', 'tennis']\n"
     ]
    }
   ],
   "source": [
    "#071\n",
    "sports_list = [\"tennis\", \"football\"]\n",
    "sports_list.append(input(\"What is  your favourite sport?\"))\n",
    "sports_list.sort()\n",
    "print(sports_list)"
   ]
  },
  {
   "cell_type": "code",
   "execution_count": 1,
   "id": "22f38b12",
   "metadata": {},
   "outputs": [
    {
     "name": "stdout",
     "output_type": "stream",
     "text": [
      "['maths', 'english', 'computing', 'history', 'science', 'spanish']\n"
     ]
    }
   ],
   "source": [
    "#072\n",
    "subject_list = [\"maths\", \"english\", \"computing\", \"history\", \"science\", \"spanish\"]\n",
    "print(subject_list)\n"
   ]
  },
  {
   "cell_type": "code",
   "execution_count": 2,
   "id": "66c8a77c",
   "metadata": {},
   "outputs": [
    {
     "name": "stdout",
     "output_type": "stream",
     "text": [
      "Which of these subjects do you dislike?history\n"
     ]
    }
   ],
   "source": [
    "dislike = input(\"Which of these subjects do you dislike? \")\n",
    "getrid = subject_list.index(dislike)"
   ]
  },
  {
   "cell_type": "code",
   "execution_count": 3,
   "id": "3fc7b796",
   "metadata": {},
   "outputs": [
    {
     "name": "stdout",
     "output_type": "stream",
     "text": [
      "['maths', 'english', 'computing', 'science', 'spanish']\n"
     ]
    }
   ],
   "source": [
    "del subject_list[getrid]\n",
    "print(subject_list)"
   ]
  },
  {
   "cell_type": "code",
   "execution_count": 1,
   "id": "2e3f38cf",
   "metadata": {},
   "outputs": [
    {
     "name": "stdout",
     "output_type": "stream",
     "text": [
      "Enter a food you like: apple\n",
      "Enter a food you like: pizza\n",
      "Enter a food you like: bistec\n",
      "Enter a food you like: spaghetti\n",
      "{1: 'apple', 2: 'pizza', 3: 'bistec', 4: 'spaghetti'}\n"
     ]
    }
   ],
   "source": [
    "#073\n",
    "food_dictionary = {}\n",
    "food1 = input(\"Enter a food you like: \")\n",
    "food_dictionary[1] = food1\n",
    "food2 = input(\"Enter a food you like: \")\n",
    "food_dictionary[2] = food2\n",
    "food3 = input(\"Enter a food you like: \")\n",
    "food_dictionary[3] = food3\n",
    "food4 = input(\"Enter a food you like: \")\n",
    "food_dictionary[4] = food4\n",
    "print(food_dictionary)"
   ]
  },
  {
   "cell_type": "code",
   "execution_count": 3,
   "id": "b9b3d824",
   "metadata": {},
   "outputs": [
    {
     "name": "stdout",
     "output_type": "stream",
     "text": [
      "Which of these do you want to get rid of?  2\n",
      "['apple', 'bistec', 'spaghetti']\n"
     ]
    }
   ],
   "source": [
    "dislike = int(input(\"Which of these do you want to get rid of?  \"))\n",
    "del food_dictionary[dislike]\n",
    "print(sorted(food_dictionary.values()))"
   ]
  },
  {
   "cell_type": "code",
   "execution_count": 4,
   "id": "5374ad05",
   "metadata": {},
   "outputs": [
    {
     "name": "stdout",
     "output_type": "stream",
     "text": [
      "Enter a starting number (0-4): 3\n",
      "Enter an end number (5-9): 7\n",
      "['yellow', 'orange', 'purple', 'violet']\n"
     ]
    }
   ],
   "source": [
    "#074\n",
    "colours = [\"red\", \"blue\", \"green\", \"yellow\",\"orange\", \"purple\", \"violet\", \"white\", \"black\", \"brown\", \"pink\"]\n",
    "start = int(input(\"Enter a starting number (0-4): \"))\n",
    "end = int(input(\"Enter an end number (5-9): \"))\n",
    "print(colours[start:end])"
   ]
  },
  {
   "cell_type": "code",
   "execution_count": 6,
   "id": "08cdce12",
   "metadata": {},
   "outputs": [
    {
     "name": "stdout",
     "output_type": "stream",
     "text": [
      "123\n",
      "345\n",
      "234\n",
      "765\n",
      "Enter a number form the list: 234\n",
      "234 is in position 2\n"
     ]
    }
   ],
   "source": [
    "#075\n",
    "nums = [123, 345, 234, 765]\n",
    "for i in nums:\n",
    "    print(i)\n",
    "selection = int(input(\"Enter a number form the list: \"))\n",
    "if selection in nums:\n",
    "    print(selection, \"is in position\", nums.index(selection))\n",
    "else:\n",
    "    print(\"That is not in the list\")"
   ]
  },
  {
   "cell_type": "code",
   "execution_count": 7,
   "id": "ec9b81e8",
   "metadata": {},
   "outputs": [
    {
     "name": "stdout",
     "output_type": "stream",
     "text": [
      "Enter a name of somebody you want to invite to your party: Lilian\n",
      "Enter another name: Emanuel\n",
      "Enter a third name: Felipe\n",
      "Do you want to invite another (y/n): y\n",
      "Enter another name: Diego\n",
      "Do you want to invite another (y/n): n\n",
      "You  have 4 people coming to your party\n"
     ]
    }
   ],
   "source": [
    "#076\n",
    "name1 = input(\"Enter a name of somebody you want to invite to your party: \")\n",
    "name2 = input(\"Enter another name: \")\n",
    "name3 = input(\"Enter a third name: \")\n",
    "party = [name1, name2, name3]\n",
    "another = input(\"Do you want to invite another (y/n): \")\n",
    "while another == \"y\":\n",
    "    newname = party.append(input(\"Enter another name: \"))\n",
    "    another = input(\"Do you want to invite another (y/n): \")\n",
    "print(\"You  have\", len(party), \"people coming to your party\")"
   ]
  },
  {
   "cell_type": "code",
   "execution_count": 9,
   "id": "f62f09c4",
   "metadata": {},
   "outputs": [
    {
     "name": "stdout",
     "output_type": "stream",
     "text": [
      "Enter a name of somebody you want to invite to your party: Patinho\n",
      "Enter another name: Coelhinho\n",
      "Enter a third name: Sally\n",
      "Do you want to invite another (y/n): Toninha\n",
      "You  have 3 people coming to your party\n",
      "Enter one of the names: Sally\n",
      "Sally is in position 2 on the list\n",
      "Do you still want them to come (y/n): n\n",
      "['Patinho', 'Coelhinho']\n"
     ]
    }
   ],
   "source": [
    "#077\n",
    "name1 = input(\"Enter a name of somebody you want to invite to your party: \")\n",
    "name2 = input(\"Enter another name: \")\n",
    "name3 = input(\"Enter a third name: \")\n",
    "party = [name1, name2, name3]\n",
    "another = input(\"Do you want to invite another (y/n): \")\n",
    "while another == \"y\":\n",
    "    newname = party.append(input(\"Enter another name: \"))\n",
    "    another = input(\"Do you want to invite another (y/n): \")\n",
    "print(\"You  have\", len(party), \"people coming to your party\")\n",
    "selection = input(\"Enter one of the names: \")\n",
    "print(selection, \"is in position\", party.index(selection), \"on the list\")\n",
    "stillcome = input(\"Do you still want them to come (y/n): \")\n",
    "if stillcome == \"n\":\n",
    "    party.remove(selection)\n",
    "print(party)"
   ]
  },
  {
   "cell_type": "code",
   "execution_count": 12,
   "id": "fa503254",
   "metadata": {},
   "outputs": [
    {
     "name": "stdout",
     "output_type": "stream",
     "text": [
      "Barry\n",
      "House of the Dragon\n",
      "The Big Bang Teory\n",
      "Loke\n",
      "Brooklyn Nine-Nine\n",
      "\n",
      "Enter another tv show: Doctor House\n",
      "Enter a number between 0 and 3: 2\n",
      "Barry\n",
      "House of the Dragon\n",
      "Doctor House\n",
      "The Big Bang Teory\n",
      "Loke\n",
      "Brooklyn Nine-Nine\n"
     ]
    }
   ],
   "source": [
    "#078\n",
    "tv = [\"Barry\", \"House of the Dragon\", \"The Big Bang Teory\", \"Loke\", \"Brooklyn Nine-Nine\"]\n",
    "for i in tv:\n",
    "    print(i)\n",
    "print()\n",
    "newtv = input(\"Enter another tv show: \")\n",
    "position = int(input(\"Enter a number between 0 and 3: \"))\n",
    "tv.insert(position,newtv)\n",
    "for i in tv:\n",
    "    print(i)"
   ]
  },
  {
   "cell_type": "code",
   "execution_count": 16,
   "id": "913a6623",
   "metadata": {},
   "outputs": [
    {
     "name": "stdout",
     "output_type": "stream",
     "text": [
      "Enter a number: 4\n",
      "[4]\n",
      "Enter a number: 47\n",
      "[4, 47]\n",
      "Enter a number: 16\n",
      "[4, 47, 16]\n",
      "Dou you want the last number saved (y/n): n\n",
      "[4, 47]\n"
     ]
    }
   ],
   "source": [
    "#079\n",
    "nums = []\n",
    "count = 0\n",
    "while count < 3:\n",
    "    num = int(input(\"Enter a number: \"))\n",
    "    nums.append(num)\n",
    "    print(nums)\n",
    "    count = count + 1\n",
    "lastnum = input(\"Dou you want the last number saved (y/n): \")\n",
    "if lastnum == \"n\":\n",
    "    nums.remove(num)\n",
    "print(nums)"
   ]
  }
 ],
 "metadata": {
  "kernelspec": {
   "display_name": "Python 3 (ipykernel)",
   "language": "python",
   "name": "python3"
  },
  "language_info": {
   "codemirror_mode": {
    "name": "ipython",
    "version": 3
   },
   "file_extension": ".py",
   "mimetype": "text/x-python",
   "name": "python",
   "nbconvert_exporter": "python",
   "pygments_lexer": "ipython3",
   "version": "3.9.12"
  }
 },
 "nbformat": 4,
 "nbformat_minor": 5
}
