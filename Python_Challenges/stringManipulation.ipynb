{
 "cells": [
  {
   "cell_type": "code",
   "execution_count": 2,
   "id": "7519bb59",
   "metadata": {},
   "outputs": [
    {
     "name": "stdout",
     "output_type": "stream",
     "text": [
      "Enter your first name: Patrick\n",
      "That has  7 characters in it\n",
      "Enter your surname: Ribeiro\n",
      "That has  7 characters in it\n",
      "Your full name is  Patrick Ribeiro\n",
      "That has  15 characters in it\n"
     ]
    }
   ],
   "source": [
    "#080\n",
    "fname = input(\"Enter your first name: \")\n",
    "print(\"That has \", len(fname), \"characters in it\")\n",
    "sname = input(\"Enter your surname: \")\n",
    "print(\"That has \", len(sname), \"characters in it\")\n",
    "name = fname + \" \" + sname\n",
    "print(\"Your full name is \", name)\n",
    "print(\"That has \", len(name), \"characters in it\")"
   ]
  },
  {
   "cell_type": "code",
   "execution_count": 3,
   "id": "2d3b1e48",
   "metadata": {},
   "outputs": [
    {
     "name": "stdout",
     "output_type": "stream",
     "text": [
      "Enter your favourite school subject: Português\n",
      "P-o-r-t-u-g-u-ê-s-"
     ]
    }
   ],
   "source": [
    "#081\n",
    "subject = input(\"Enter your favourite school subject: \")\n",
    "for letter in subject:\n",
    "    print(letter, end = \"-\")"
   ]
  },
  {
   "cell_type": "code",
   "execution_count": 6,
   "id": "27647f31",
   "metadata": {},
   "outputs": [
    {
     "name": "stdout",
     "output_type": "stream",
     "text": [
      "oh, I wish I'd looked after me teeth,\n",
      "Enter a starting number: 3\n",
      "Enter an end number: 4\n",
      " \n"
     ]
    }
   ],
   "source": [
    "#082\n",
    "poem = \"oh, I wish I'd looked after me teeth,\"\n",
    "print(poem)\n",
    "start = int(input(\"Enter a starting number: \"))\n",
    "end = int(input(\"Enter an end number: \"))\n",
    "print(poem[start:end])"
   ]
  },
  {
   "cell_type": "code",
   "execution_count": 8,
   "id": "3a484877",
   "metadata": {},
   "outputs": [
    {
     "name": "stdout",
     "output_type": "stream",
     "text": [
      "Enter a message in uppercase: hi, word\n",
      "Try again\n",
      "Enter a message in uppercase: HI, WORD!\n"
     ]
    }
   ],
   "source": [
    "#083\n",
    "msg = input(\"Enter a message in uppercase: \")\n",
    "tryagain = False\n",
    "if msg.isupper():\n",
    "    print(\"Thank you\")\n",
    "    tryagain = True\n",
    "else:\n",
    "    print(\"Try again\")\n",
    "    msg = input(\"Enter a message in uppercase: \")"
   ]
  },
  {
   "cell_type": "code",
   "execution_count": 10,
   "id": "57efd141",
   "metadata": {},
   "outputs": [
    {
     "name": "stdout",
     "output_type": "stream",
     "text": [
      "Enter your postcode: manu\n",
      "MA\n"
     ]
    }
   ],
   "source": [
    "#084\n",
    "postcode = input(\"Enter your postcode: \")\n",
    "start = postcode[0:2]\n",
    "print(start.upper())"
   ]
  },
  {
   "cell_type": "code",
   "execution_count": 11,
   "id": "5f390913",
   "metadata": {},
   "outputs": [
    {
     "name": "stdout",
     "output_type": "stream",
     "text": [
      "Enter your name: Patrick\n",
      "Vowels = 0\n",
      "Vowels = 1\n",
      "Vowels = 1\n",
      "Vowels = 1\n",
      "Vowels = 2\n",
      "Vowels = 2\n",
      "Vowels = 2\n"
     ]
    }
   ],
   "source": [
    "#085\n",
    "name = input(\"Enter your name: \")\n",
    "count = 0\n",
    "name = name.lower()\n",
    "for x in name:\n",
    "    if x == \"a\" or x == \"e\" or x == \"i\" or x == \"o\" or x == \"u\":\n",
    "        count = count + 1\n",
    "    print(\"Vowels =\", count)"
   ]
  },
  {
   "cell_type": "code",
   "execution_count": 15,
   "id": "c52666f6",
   "metadata": {},
   "outputs": [
    {
     "name": "stdout",
     "output_type": "stream",
     "text": [
      "Enter a password: pass123\n",
      "Enter it again: Pass123\n",
      "They must be the some case\n"
     ]
    }
   ],
   "source": [
    "#086\n",
    "pswd1 = input(\"Enter a password: \")\n",
    "pswd2 = input(\"Enter it again: \")\n",
    "if pswd1 == pswd2:\n",
    "    print(\"Thank you\")\n",
    "elif pswd1.lower() == pswd2.lower():\n",
    "    print(\"They must be the some case\")\n",
    "else:\n",
    "    print(\"Incorrect\")"
   ]
  },
  {
   "cell_type": "code",
   "execution_count": 16,
   "id": "667ff5f5",
   "metadata": {},
   "outputs": [
    {
     "name": "stdout",
     "output_type": "stream",
     "text": [
      "Enter a word: palavras\n",
      "s\n",
      "a\n",
      "r\n",
      "v\n",
      "a\n",
      "l\n",
      "a\n",
      "p\n"
     ]
    }
   ],
   "source": [
    "#087\n",
    "word = input(\"Enter a word: \")\n",
    "length = len(word)\n",
    "num = 1\n",
    "for x in word:\n",
    "    position = length - num\n",
    "    letter = word[position]\n",
    "    print(letter)\n",
    "    num = num + 1"
   ]
  },
  {
   "cell_type": "code",
   "execution_count": null,
   "id": "e2c2869c",
   "metadata": {},
   "outputs": [],
   "source": []
  }
 ],
 "metadata": {
  "kernelspec": {
   "display_name": "Python 3 (ipykernel)",
   "language": "python",
   "name": "python3"
  },
  "language_info": {
   "codemirror_mode": {
    "name": "ipython",
    "version": 3
   },
   "file_extension": ".py",
   "mimetype": "text/x-python",
   "name": "python",
   "nbconvert_exporter": "python",
   "pygments_lexer": "ipython3",
   "version": "3.9.12"
  }
 },
 "nbformat": 4,
 "nbformat_minor": 5
}
