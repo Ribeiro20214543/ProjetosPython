{
  "nbformat": 4,
  "nbformat_minor": 0,
  "metadata": {
    "colab": {
      "name": "Random.ipynb",
      "provenance": [],
      "authorship_tag": "ABX9TyOPzA8CgxFkTcHFZdJC8Twk",
      "include_colab_link": true
    },
    "kernelspec": {
      "name": "python3",
      "display_name": "Python 3"
    },
    "language_info": {
      "name": "python"
    }
  },
  "cells": [
    {
      "cell_type": "markdown",
      "metadata": {
        "id": "view-in-github",
        "colab_type": "text"
      },
      "source": [
        "<a href=\"https://colab.research.google.com/github/PatrickFRR/Python_Challenges/blob/main/Random.ipynb\" target=\"_parent\"><img src=\"https://colab.research.google.com/assets/colab-badge.svg\" alt=\"Open In Colab\"/></a>"
      ]
    },
    {
      "cell_type": "code",
      "execution_count": 2,
      "metadata": {
        "colab": {
          "base_uri": "https://localhost:8080/"
        },
        "id": "-Z-sx1IShZu9",
        "outputId": "19f97409-df60-43ab-84bd-b3856d90340c"
      },
      "outputs": [
        {
          "output_type": "stream",
          "name": "stdout",
          "text": [
            "72\n"
          ]
        }
      ],
      "source": [
        "#052\n",
        "import random\n",
        "num = random.randint(1,100)\n",
        "print(num)"
      ]
    },
    {
      "cell_type": "code",
      "source": [
        "#053\n",
        "import random \n",
        "fruit = random.choice(['apple', 'orange', 'grape', 'banana','strawberry'])\n",
        "print(fruit)"
      ],
      "metadata": {
        "colab": {
          "base_uri": "https://localhost:8080/"
        },
        "id": "tTIMAy0rhoxb",
        "outputId": "6b1e95e7-426e-46bd-f691-b583131e8688"
      },
      "execution_count": 3,
      "outputs": [
        {
          "output_type": "stream",
          "name": "stdout",
          "text": [
            "grape\n"
          ]
        }
      ]
    },
    {
      "cell_type": "code",
      "source": [
        "#054\n",
        "import random \n",
        "coin = random.choice([\"h\", \"t\"])\n",
        "guess = input(\"Enter (h)eads or (t)ails: \") \n",
        "if guess == coin:\n",
        "  print(\"You win\")\n",
        "else:\n",
        "  print(\"Bad luck\")\n",
        "if coin == \"h\":\n",
        "  print(\"It was heads\")\n",
        "else:\n",
        "  print(\"It was tails\")"
      ],
      "metadata": {
        "colab": {
          "base_uri": "https://localhost:8080/"
        },
        "id": "yq0s8zFVhoy-",
        "outputId": "d0f1b8d1-d647-4554-b373-046627ad818b"
      },
      "execution_count": 5,
      "outputs": [
        {
          "output_type": "stream",
          "name": "stdout",
          "text": [
            "Enter (h)eads or (t)ails: t\n",
            "Bad luck\n",
            "It was heads\n"
          ]
        }
      ]
    },
    {
      "cell_type": "code",
      "source": [
        "#055\n",
        "import random\n",
        "num = random.randint(1, 5)\n",
        "guess = int(input(\"Enter a number: \"))\n",
        "if guess == num:\n",
        "  print(\"Well done\")\n",
        "elif guess > num:\n",
        "  print(\"Too high\")\n",
        "  guess = int(input(\"Guess again: \"))\n",
        "  if guess == num:\n",
        "    print(\"Correct\")\n",
        "  else:\n",
        "    print(\"You lose\")\n",
        "elif guess < num:\n",
        "  print(\"Too low\")\n",
        "  guess = int(input(\"Guess again: \"))\n",
        "  if guess == num:\n",
        "    print(\"Correct\")\n",
        "  else:\n",
        "    print(\"You lose\")\n"
      ],
      "metadata": {
        "colab": {
          "base_uri": "https://localhost:8080/"
        },
        "id": "mA8uwRysi5QT",
        "outputId": "2d4b48b4-f59b-40e6-d690-e29a2f0dc9a7"
      },
      "execution_count": 8,
      "outputs": [
        {
          "output_type": "stream",
          "name": "stdout",
          "text": [
            "Enter a number: 3\n",
            "Well done\n"
          ]
        }
      ]
    },
    {
      "cell_type": "code",
      "source": [
        "#056\n",
        "import random\n",
        "num = random.randint(1, 10)\n",
        "correct = False\n",
        "while correct == False:\n",
        "  guess = int(input(\"Enter a number: \"))\n",
        "  if guess == num:\n",
        "    correct = True"
      ],
      "metadata": {
        "colab": {
          "base_uri": "https://localhost:8080/"
        },
        "id": "IfBznrsSi5Rv",
        "outputId": "6eabf4ac-4cde-4809-8fac-ab7e2f01a7cd"
      },
      "execution_count": 9,
      "outputs": [
        {
          "name": "stdout",
          "output_type": "stream",
          "text": [
            "Enter a number: 3\n",
            "Enter a number: 4\n",
            "Enter a number: 8\n",
            "Enter a number: 1\n"
          ]
        }
      ]
    },
    {
      "cell_type": "code",
      "source": [
        "#057\n",
        "import random\n",
        "num = random.randint(1, 10)\n",
        "correct = False\n",
        "while correct == False:\n",
        "  guess = int(input(\"Enter a number: \"))\n",
        "  if guess == num:\n",
        "    correct = True\n",
        "  elif guess > num:\n",
        "    print(\"Too high\")\n",
        "  else:\n",
        "    print(\"Too low\")"
      ],
      "metadata": {
        "colab": {
          "base_uri": "https://localhost:8080/"
        },
        "id": "NPG6Uvm8kyJT",
        "outputId": "19c2c554-ddd8-4e7a-ec54-5e489ca1525d"
      },
      "execution_count": 10,
      "outputs": [
        {
          "name": "stdout",
          "output_type": "stream",
          "text": [
            "Enter a number: 6\n"
          ]
        }
      ]
    },
    {
      "cell_type": "code",
      "source": [
        "#058\n",
        "import random\n",
        "score = 0\n",
        "for i in range(1, 6):\n",
        "  num1 = random.randint(1, 50)\n",
        "  num2 = random.randint(1, 50)\n",
        "  correct = num1 + num2\n",
        "  print(num1, \"+\", num2, \"= \")\n",
        "  answer = int(input(\"Your answer: \"))\n",
        "  print()\n",
        "  if answer == correct:\n",
        "    score = score + 1\n",
        "print(\"You scored\", score, \"out of 5\")"
      ],
      "metadata": {
        "colab": {
          "base_uri": "https://localhost:8080/"
        },
        "id": "a1vhAcBmkyK1",
        "outputId": "7fe12b80-c8ef-40db-e1b2-658c98752537"
      },
      "execution_count": 13,
      "outputs": [
        {
          "output_type": "stream",
          "name": "stdout",
          "text": [
            "30 + 1 = \n",
            "Your answer: 31\n",
            "\n",
            "8 + 35 = \n",
            "Your answer: 43\n",
            "\n",
            "16 + 29 = \n",
            "Your answer: 45\n",
            "\n",
            "27 + 44 = \n",
            "Your answer: 71\n",
            "\n",
            "8 + 45 = \n",
            "Your answer: 53\n",
            "\n",
            "You scored 5 out of 5\n"
          ]
        }
      ]
    },
    {
      "cell_type": "code",
      "source": [
        "#059\n",
        "import random\n",
        "\n",
        "colour = random.choice(['red', 'blue', 'green', 'white', 'pink'])\n",
        "print(\"Select form red, blue, green, white or pink\")\n",
        "tryagain = True\n",
        "while tryagain == True:\n",
        "  theirchoice = input(\"Enter a colour: \")\n",
        "  theirchoice = theirchoice.lower()\n",
        "  if colour == theirchoice:\n",
        "    print(\"Well done\")\n",
        "    tryagain = False\n",
        "  else:\n",
        "    if colour == 'red':\n",
        "      print(\"I ber you are seeing RED right now!\")\n",
        "    elif colour == 'blue':\n",
        "      print(\"Don't feel BLUE\")\n",
        "    elif colour == 'green':\n",
        "      print(\"I ber you are GREEN wiht envy right now!\")\n",
        "    elif colour == 'white':\n",
        "      print(\"Are you WHITE as a sheet, as you didn't guess correctly\")\n",
        "    elif colour == 'pink':\n",
        "      print('Shame you are not feeling in the PINK, as you got it wrong!')"
      ],
      "metadata": {
        "colab": {
          "base_uri": "https://localhost:8080/"
        },
        "id": "XMCQgayGmslE",
        "outputId": "fc5094e5-0c08-4ba0-f064-22a5b06f7afb"
      },
      "execution_count": 14,
      "outputs": [
        {
          "output_type": "stream",
          "name": "stdout",
          "text": [
            "Select form red, blue, green, white or pink\n",
            "Enter a colour: blue\n",
            "I ber you are seeing RED right now!\n",
            "Enter a colour: red\n",
            "Well done\n"
          ]
        }
      ]
    }
  ]
}