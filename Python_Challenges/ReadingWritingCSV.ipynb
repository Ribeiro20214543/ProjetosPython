{
 "cells": [
  {
   "cell_type": "code",
   "execution_count": 39,
   "metadata": {},
   "outputs": [],
   "source": [
    "#0111\n",
    "import csv\n",
    "\n",
    "file = open(\"Books.csv\", \"w\")\n",
    "newrecord = \"To kill A Mochingbird, Harper Lee, 1960\\n\"\n",
    "file.write(str(newrecord))\n",
    "newrecord = \"A Brief History of Time, Stephen Hawking, 1988\\n\"\n",
    "file.write(str(newrecord))\n",
    "newrecord = \"The Great Gatsby, F. Scott Fitzgerald, 1992\\n\"\n",
    "file.write(str(newrecord))\n",
    "newrecord = \"Rayuela, Julio Cortázar, 1972\\n\"\n",
    "file.write(str(newrecord))\n",
    "newrecord = \"Pride and Prejudice, Jane Austen, 1813\\n\"\n",
    "file.write(str(newrecord))\n",
    "file.close()"
   ]
  },
  {
   "cell_type": "code",
   "execution_count": 40,
   "metadata": {},
   "outputs": [
    {
     "name": "stdout",
     "output_type": "stream",
     "text": [
      "To kill A Mochingbird, Harper Lee, 1960\n",
      "\n",
      "A Brief History of Time, Stephen Hawking, 1988\n",
      "\n",
      "The Great Gatsby, F. Scott Fitzgerald, 1992\n",
      "\n",
      "Rayuela, Julio Cortázar, 1972\n",
      "\n",
      "Pride and Prejudice, Jane Austen, 1813\n",
      "\n",
      "Bestiario, Julio Cortazar, 1976\n",
      "\n"
     ]
    }
   ],
   "source": [
    "#0112\n",
    "file = open(\"Books.csv\", \"a\")\n",
    "title = input(\"Enter a title: \")\n",
    "author = input(\"Enter a author: \")\n",
    "year = input(\"Enter the year it was released: \")\n",
    "newrecord = title + \", \" + author + \", \" + year + \"\\n\"\n",
    "file.write(str(newrecord))\n",
    "file.close()\n",
    "\n",
    "file = open(\"Books.csv\", \"r\")\n",
    "for row in file:\n",
    "    print(row)\n",
    "file.close()"
   ]
  },
  {
   "cell_type": "code",
   "execution_count": 41,
   "metadata": {},
   "outputs": [
    {
     "name": "stdout",
     "output_type": "stream",
     "text": [
      "Rayuela, Julio Cortázar, 1972\n",
      "\n",
      "Bestiario, Julio Cortazar, 1976\n",
      "\n"
     ]
    }
   ],
   "source": [
    "#0113\n",
    "import csv\n",
    "\n",
    "num = int(input(\"How many books do you want to add to the list? \"))\n",
    "file = open(\"books.csv\", \"a\")\n",
    "for x in range(0, num):\n",
    "    title = input(\"Enter a title: \")\n",
    "    author = input('Enter author: ')\n",
    "    year = input(\"Enter the year it was released: \")\n",
    "    newrecord = title + \",\" + author + \",\" + year + \"\\n\"\n",
    "    file.write(str(newrecord))\n",
    "    file.close()\n",
    "\n",
    "searchauthor = input(\"Enter an authors name to search for: \")\n",
    "\n",
    "file = open(\"Books.csv\", \"r\")\n",
    "count = 0\n",
    "for row in file:\n",
    "    if searchauthor in str(row):\n",
    "        print(row)\n",
    "        count = count + 1\n",
    "if count == 0:\n",
    "    print(\"There are no books by that author in this list.\")\n",
    "file. close()"
   ]
  },
  {
   "cell_type": "code",
   "execution_count": 42,
   "metadata": {},
   "outputs": [
    {
     "name": "stdout",
     "output_type": "stream",
     "text": [
      "['To kill A Mochingbird', ' Harper Lee', ' 1960']\n",
      "['A Brief History of Time', ' Stephen Hawking', ' 1988']\n",
      "['The Great Gatsby', ' F. Scott Fitzgerald', ' 1992']\n",
      "['Rayuela', ' Julio Cortázar', ' 1972']\n",
      "['Pride and Prejudice', ' Jane Austen', ' 1813']\n",
      "['Bestiario', ' Julio Cortazar', ' 1976']\n"
     ]
    }
   ],
   "source": [
    "#0114\n",
    "import csv\n",
    "\n",
    "start = int(input(\"Enter a starting year: \"))\n",
    "end = int(input(\"Enter an end year: \"))\n",
    "\n",
    "file = list(csv.reader(open(\"Books.csv\")))\n",
    "tmp = []\n",
    "for row in file:\n",
    "    tmp.append(row)\n",
    "\n",
    "x = 0\n",
    "for row in tmp:\n",
    "    if int(tmp[x][2]) >= start and int(tmp[x][2]) <= end:\n",
    "        print(tmp[x])\n",
    "    x = x + 1"
   ]
  },
  {
   "cell_type": "code",
   "execution_count": 43,
   "metadata": {},
   "outputs": [
    {
     "name": "stdout",
     "output_type": "stream",
     "text": [
      "Row: 0 - To kill A Mochingbird, Harper Lee, 1960\n",
      "\n",
      "Row: 1 - A Brief History of Time, Stephen Hawking, 1988\n",
      "\n",
      "Row: 2 - The Great Gatsby, F. Scott Fitzgerald, 1992\n",
      "\n",
      "Row: 3 - Rayuela, Julio Cortázar, 1972\n",
      "\n",
      "Row: 4 - Pride and Prejudice, Jane Austen, 1813\n",
      "\n",
      "Row: 5 - Bestiario, Julio Cortazar, 1976\n",
      "\n",
      "Row: 6 - Teoria Vesania,Roberto M,2013\n",
      "\n"
     ]
    }
   ],
   "source": [
    "#0115\n",
    "import csv\n",
    "\n",
    "file = open(\"Books.csv\", \"r\")\n",
    "x = 0\n",
    "for row in file:\n",
    "    display = \"Row: \" + str(x) + \" - \" + row\n",
    "    print(display)\n",
    "    x = x + 1"
   ]
  },
  {
   "cell_type": "code",
   "execution_count": 44,
   "metadata": {},
   "outputs": [
    {
     "name": "stdout",
     "output_type": "stream",
     "text": [
      "(0, ['To kill A Mochingbird', ' Harper Lee', ' 1960'])\n",
      "(1, ['A Brief History of Time', ' Stephen Hawking', ' 1988'])\n",
      "(2, ['The Great Gatsby', ' F. Scott Fitzgerald', ' 1992'])\n",
      "(3, ['Rayuela', ' Julio Cortázar', ' 1972'])\n",
      "(4, ['Pride and Prejudice', ' Jane Austen', ' 1813'])\n",
      "(5, ['Bestiario', ' Julio Cortazar', ' 1976'])\n",
      "(6, ['Teoria Vesania', 'Roberto M', '2013'])\n",
      "(0, ['To kill A Mochingbird', ' Harper Lee', ' 1960'])\n",
      "(1, ['A Brief History of Time', ' Stephen Hawking', ' 1988'])\n",
      "(2, ['The Great Gatsby', ' F. Scott Fitzgerald', ' 1992'])\n",
      "(3, ['Rayuela', ' Julio Cortázar', ' 1972'])\n",
      "(4, ['Pride and Prejudice', ' Jane Austen', ' 1813'])\n",
      "(5, ['Bestiario', ' Julio Cortazar', ' 1976'])\n",
      "(0, 'Bestiario')\n",
      "(1, ' Julio Cortazar')\n",
      "(2, ' 1976')\n",
      "['Bestiario', 'Patrick Ribeiro', ' 1976']\n"
     ]
    }
   ],
   "source": [
    "#0116\n",
    "import csv\n",
    "\n",
    "file = list(csv.reader(open(\"Books.csv\")))\n",
    "Booklist = []\n",
    "for row in file:\n",
    "    Booklist.append(row)\n",
    "\n",
    "x = 0\n",
    "for row in Booklist:\n",
    "    display = x,Booklist[x]\n",
    "    print(display)\n",
    "    x = x + 1\n",
    "getrid = int(input(\"Enter a row number to delete: \"))\n",
    "del Booklist[getrid]\n",
    "\n",
    "x = 0\n",
    "for row in Booklist:\n",
    "    display = x, Booklist[x]\n",
    "    print(display)\n",
    "    x = x + 1\n",
    "alter = int(input(\"Enter a row number to alter: \"))\n",
    "\n",
    "x = 0\n",
    "for row in Booklist[alter]:\n",
    "    display = x, Booklist[alter][x]\n",
    "    print(display)\n",
    "    x = x + 1\n",
    "part = int(input(\"Which part do you want to change? \"))\n",
    "newdata = input(\"Enter new data: \")\n",
    "Booklist[alter][part] = newdata\n",
    "print(Booklist[alter])\n",
    "\n",
    "file = open(\"Books.csv\", \"w\")\n",
    "x = 0\n",
    "for row in Booklist:\n",
    "    newrecord = Booklist[x][0] + \", \" +  Booklist[x][1] + \", \" + Booklist[x][2] + \"\\n\"\n",
    "    file.write(newrecord)\n",
    "    x = x + 1\n",
    "file.close()"
   ]
  },
  {
   "cell_type": "code",
   "execution_count": 47,
   "metadata": {},
   "outputs": [
    {
     "name": "stdout",
     "output_type": "stream",
     "text": [
      "Patrick, 46 + 37 = , 83, 37 + 10 = , 472\n",
      "\n",
      "Emanuel, 10 + 37 = , 47, 49 + 30 = , 792\n",
      "\n",
      "Azeitona, 48 + 13 = , 60, 49 + 37 = , 970\n",
      "\n"
     ]
    }
   ],
   "source": [
    "#0117\n",
    "import csv \n",
    "import random\n",
    "\n",
    "score = 0\n",
    "name = input(\"What is your name: \")\n",
    "q1_num1 = random.randint(10,50)\n",
    "q1_num2 = random .randint(10,50)\n",
    "question1 = str(q1_num1) + \" + \" + str(q1_num2) + \" = \"\n",
    "ans1 = int(input(question1))\n",
    "realans1 = q1_num1 + q1_num2\n",
    "if ans1 == realans1:\n",
    "    score = score + 1\n",
    "q2_num1 = random.randint(10,50)\n",
    "q2_num2 = random.randint(10,50)\n",
    "question2 = str(q2_num1) + \" + \" + str(q2_num2) + \" = \"\n",
    "ans2 = int(input(question2))\n",
    "realans2 = q2_num1 + q2_num2\n",
    "if ans2 == realans2:\n",
    "    score = score + 1\n",
    "\n",
    "file = open(\"QuizScore.csv\", \"a\")\n",
    "newrecord = name + \", \" + question1 + \", \" + str(ans1) + \", \"  + question2 + \", \" + str(ans2) + str(score) + \"\\n\"\n",
    "file.write(str(newrecord))\n",
    "\n",
    "file.close()\n",
    "\n",
    "file = open(\"QuizScore.csv\", \"r\")\n",
    "for row in file:\n",
    "    print(row)\n",
    "file.close()"
   ]
  }
 ],
 "metadata": {
  "interpreter": {
   "hash": "ef5b265d1e9533366cc8ba07638d30055ef3b19f58f438424c8609f9b3dcb5eb"
  },
  "kernelspec": {
   "display_name": "Python 3.9.12 ('base')",
   "language": "python",
   "name": "python3"
  },
  "language_info": {
   "codemirror_mode": {
    "name": "ipython",
    "version": 3
   },
   "file_extension": ".py",
   "mimetype": "text/x-python",
   "name": "python",
   "nbconvert_exporter": "python",
   "pygments_lexer": "ipython3",
   "version": "3.9.12"
  },
  "orig_nbformat": 4
 },
 "nbformat": 4,
 "nbformat_minor": 2
}
