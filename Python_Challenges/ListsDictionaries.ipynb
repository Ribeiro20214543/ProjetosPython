{
 "cells": [
  {
   "cell_type": "code",
   "execution_count": 2,
   "id": "652d178b",
   "metadata": {},
   "outputs": [
    {
     "name": "stdout",
     "output_type": "stream",
     "text": [
      "[[2, 5, 8], [3, 7, 4], [1, 6, 9], [4, 2, 0]]\n"
     ]
    }
   ],
   "source": [
    "#096\n",
    "list = [[2,5,8], [3,7,4],[1,6,9],[4,2,0]]\n",
    "print(list)"
   ]
  },
  {
   "cell_type": "code",
   "execution_count": 3,
   "id": "6a55821e",
   "metadata": {},
   "outputs": [
    {
     "name": "stdout",
     "output_type": "stream",
     "text": [
      "Select a row: 1\n",
      "Select a column: 2\n",
      "4\n"
     ]
    }
   ],
   "source": [
    "#097\n",
    "row = int(input(\"Select a row: \"))\n",
    "col = int(input(\"Select a column: \"))\n",
    "print(list[row][col])"
   ]
  },
  {
   "cell_type": "code",
   "execution_count": 4,
   "id": "4f9e3424",
   "metadata": {},
   "outputs": [
    {
     "name": "stdout",
     "output_type": "stream",
     "text": [
      "Select a row: 1\n",
      "[3, 7, 4]\n",
      "Enter a new number: 5\n",
      "[3, 7, 4, 5]\n"
     ]
    }
   ],
   "source": [
    "#098\n",
    "row = int(input(\"Select a row: \"))\n",
    "print(list[row])\n",
    "newvalue = int(input(\"Enter a new number: \"))\n",
    "list[row].append(newvalue)\n",
    "print(list[row])"
   ]
  },
  {
   "cell_type": "code",
   "execution_count": 6,
   "id": "b5beeb1c",
   "metadata": {},
   "outputs": [
    {
     "name": "stdout",
     "output_type": "stream",
     "text": [
      "Select a row: 3\n",
      "[4, 2, 0]\n",
      "Select a column: 2\n",
      "0\n",
      "Do you want to change the value? (y/n)y\n",
      "Enter new valeu: 9\n",
      "[4, 2, 9]\n"
     ]
    }
   ],
   "source": [
    "#099\n",
    "row = int(input(\"Select a row: \"))\n",
    "print(list[row])\n",
    "col = int(input(\"Select a column: \"))\n",
    "print(list[row][col])\n",
    "change = input(\"Do you want to change the value? (y/n)\")\n",
    "if change == \"y\":\n",
    "    newvalue = int(input(\"Enter new valeu: \"))\n",
    "    list[row][col] = newvalue\n",
    "print(list[row])"
   ]
  },
  {
   "cell_type": "code",
   "execution_count": 2,
   "id": "b3996d2f",
   "metadata": {},
   "outputs": [
    {
     "name": "stdout",
     "output_type": "stream",
     "text": [
      "{'Jojo': {'N': 3056, 'S': 8463, 'E': 8441, 'W': 2694}, 'Tom': {'N': 4832, 'S': 6786, 'E': 4737, 'W': 3612}, 'Anny': {'N': 5239, 'S': 4802, 'E': 5820, 'W': 1359}, 'Frida': {'N': 3904, 'S': 3645, 'E': 8821, 'W': 2451}}\n"
     ]
    }
   ],
   "source": [
    "#0100\n",
    "sales = {\"Jojo\":{\"N\":3056, \"S\":8463, \"E\":8441, \"W\":2694},\n",
    "       \"Tom\":{\"N\":4832, \"S\":6786, \"E\":4737, \"W\":3612},\n",
    "       \"Anny\":{\"N\":5239, \"S\":4802, \"E\":5820, \"W\":1359},\n",
    "       \"Frida\":{\"N\":3904, \"S\":3645, \"E\":8821, \"W\":2451}}\n",
    "print(sales)"
   ]
  },
  {
   "cell_type": "code",
   "execution_count": 3,
   "id": "868ae2bf",
   "metadata": {},
   "outputs": [
    {
     "name": "stdout",
     "output_type": "stream",
     "text": [
      "Enter sales person's name: Frida\n",
      "Select region: N\n",
      "3904\n",
      "Enter new data: 5460\n",
      "{'N': 5460, 'S': 3645, 'E': 8821, 'W': 2451}\n"
     ]
    }
   ],
   "source": [
    "#0101\n",
    "person = input(\"Enter sales person's name: \")\n",
    "region = input(\"Select region: \")\n",
    "print(sales[person][region])\n",
    "newdata = int(input(\"Enter new data: \"))\n",
    "sales[person][region]= newdata\n",
    "print(sales[person])"
   ]
  },
  {
   "cell_type": "code",
   "execution_count": 2,
   "id": "c85353f5",
   "metadata": {},
   "outputs": [
    {
     "name": "stdout",
     "output_type": "stream",
     "text": [
      "Enter name: Lili\n",
      "Enter age: 43\n",
      "Enter shoe size: 38\n",
      "Enter name: Manu\n",
      "Enter age: 10\n",
      "Enter shoe size: 32\n",
      "Enter name: Meu\n",
      "Enter age: 42\n",
      "Enter shoe size: 43\n",
      "Enter name: Luiz\n",
      "Enter age: 53\n",
      "Enter shoe size: 45\n",
      "Enter a name: Manu\n",
      "{'Age': 10, 'Shoe size': 32}\n"
     ]
    }
   ],
   "source": [
    "#0102\n",
    "list = {}\n",
    "for i in range (0,4):\n",
    "    name = input(\"Enter name: \")\n",
    "    age = int(input(\"Enter age: \"))\n",
    "    shoe = int(input(\"Enter shoe size: \"))\n",
    "    list[name] = {\"Age\":age, \"Shoe size\":shoe}\n",
    "\n",
    "ask = input(\"Enter a name: \")\n",
    "print(list[ask])"
   ]
  },
  {
   "cell_type": "code",
   "execution_count": 3,
   "id": "2e60ce3f",
   "metadata": {},
   "outputs": [
    {
     "name": "stdout",
     "output_type": "stream",
     "text": [
      "Enter name: Lili\n",
      "Enter age: 43\n",
      "Enter shoe size: 38\n",
      "Enter name: Manu\n",
      "Enter age: 10\n",
      "Enter shoe size: 32\n",
      "Enter name: Meu\n",
      "Enter age: 41\n",
      "Enter shoe size: 43\n",
      "Enter name: Luiz\n",
      "Enter age: 53\n",
      "Enter shoe size: 45\n",
      "Lili 43\n",
      "Manu 10\n",
      "Meu 41\n",
      "Luiz 53\n"
     ]
    }
   ],
   "source": [
    "#0103\n",
    "list = {}\n",
    "for i in range (0,4):\n",
    "    name = input(\"Enter name: \")\n",
    "    age = int(input(\"Enter age: \"))\n",
    "    shoe = int(input(\"Enter shoe size: \"))\n",
    "    list[name] = {\"Age\":age, \"Shoe size\":shoe}\n",
    "\n",
    "for name in list:\n",
    "    print((name),list[name][\"Age\"])"
   ]
  }
 ],
 "metadata": {
  "kernelspec": {
   "display_name": "Python 3 (ipykernel)",
   "language": "python",
   "name": "python3"
  },
  "language_info": {
   "codemirror_mode": {
    "name": "ipython",
    "version": 3
   },
   "file_extension": ".py",
   "mimetype": "text/x-python",
   "name": "python",
   "nbconvert_exporter": "python",
   "pygments_lexer": "ipython3",
   "version": "3.9.12"
  }
 },
 "nbformat": 4,
 "nbformat_minor": 5
}
