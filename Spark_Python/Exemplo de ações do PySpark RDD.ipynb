{
 "cells": [
  {
   "cell_type": "markdown",
   "id": "8161f152",
   "metadata": {},
   "source": [
    "# Exemplo de ações do PySpark RDD"
   ]
  },
  {
   "cell_type": "code",
   "execution_count": 1,
   "id": "5b0e9b06",
   "metadata": {},
   "outputs": [],
   "source": [
    "#Criando um RDD\n",
    "from pyspark.sql import SparkSession\n",
    "spark = SparkSession.builder.appName('SparkByExamples.com').getOrCreate()\n",
    "data=[(\"Z\", 1),(\"A\", 20),(\"B\", 30),(\"C\", 40),(\"B\", 30),(\"B\", 60)]\n",
    "inputRDD = spark.sparkContext.parallelize(data)\n",
    "  \n",
    "listRdd = spark.sparkContext.parallelize([1,2,3,4,5,3,2])"
   ]
  },
  {
   "cell_type": "raw",
   "id": "261513e0",
   "metadata": {},
   "source": []
  },
  {
   "cell_type": "markdown",
   "id": "3a7c8bf2",
   "metadata": {},
   "source": [
    "### aggregate ( zeroValue ,  seqOp ,  combOp )  - agrega em uma só todas as partes"
   ]
  },
  {
   "cell_type": "raw",
   "id": "85c6c095",
   "metadata": {},
   "source": [
    "Agregue os elementos de cada partição e, em seguida, os resultados para todas as partições, usando uma determinada função de combinação “combOp” e um “valor zero” neutro.\n",
    "\n",
    "A primeira função (seqOp) pode retornar um tipo de resultado diferente, U, do tipo deste RDD. Assim, precisamos de uma operação para fundir um T em um U e uma operação para fundir dois U"
   ]
  },
  {
   "cell_type": "code",
   "execution_count": 2,
   "id": "bbb4f6ef",
   "metadata": {},
   "outputs": [
    {
     "name": "stdout",
     "output_type": "stream",
     "text": [
      "20\n"
     ]
    }
   ],
   "source": [
    "#aggregate\n",
    "seqOp = (lambda x, y: x + y)\n",
    "combOp = (lambda x, y: x + y)\n",
    "agg=listRdd.aggregate(0, seqOp, combOp)\n",
    "print(agg) # output 20"
   ]
  },
  {
   "cell_type": "code",
   "execution_count": 3,
   "id": "3cd2cce2",
   "metadata": {},
   "outputs": [
    {
     "name": "stdout",
     "output_type": "stream",
     "text": [
      "(20, 7)\n"
     ]
    }
   ],
   "source": [
    "#aggregate 2\n",
    "seqOp2 = (lambda x, y: (x[0] + y, x[1] + 1))\n",
    "combOp2 = (lambda x, y: (x[0] + y[0], x[1] + y[1]))\n",
    "agg2=listRdd.aggregate((0, 0), seqOp2, combOp2)\n",
    "print(agg2) # output (20,7)"
   ]
  },
  {
   "cell_type": "markdown",
   "id": "c4a3047b",
   "metadata": {},
   "source": [
    "### treeAggregate ( zeroValue ,  seqOp ,  combOp ,  depth=2 ) - agrega em forma de árvore"
   ]
  },
  {
   "cell_type": "raw",
   "id": "d2bfaab0",
   "metadata": {},
   "source": [
    "Agrega os elementos deste RDD em um padrão de árvore multinível."
   ]
  },
  {
   "cell_type": "code",
   "execution_count": 4,
   "id": "22df7dd1",
   "metadata": {},
   "outputs": [
    {
     "name": "stdout",
     "output_type": "stream",
     "text": [
      "20\n"
     ]
    }
   ],
   "source": [
    "#treeAggregate. This is similar to aggregate\n",
    "seqOp = (lambda x, y: x + y)\n",
    "combOp = (lambda x, y: x + y)\n",
    "agg=listRdd.treeAggregate(0, seqOp, combOp)\n",
    "print(agg) # output 20"
   ]
  },
  {
   "cell_type": "markdown",
   "id": "fc3b5cd3",
   "metadata": {},
   "source": [
    "## fold() - agrega dobrando "
   ]
  },
  {
   "cell_type": "raw",
   "id": "672cd8ba",
   "metadata": {},
   "source": [
    "Agregue os elementos de cada partição e, em seguida, os resultados de todas as partições."
   ]
  },
  {
   "cell_type": "code",
   "execution_count": 6,
   "id": "83f254d0",
   "metadata": {},
   "outputs": [
    {
     "name": "stdout",
     "output_type": "stream",
     "text": [
      "20\n"
     ]
    }
   ],
   "source": [
    "#fold\n",
    "from operator import add\n",
    "foldRes=listRdd.fold(0, add)\n",
    "print(foldRes)"
   ]
  },
  {
   "cell_type": "markdown",
   "id": "e4224815",
   "metadata": {},
   "source": [
    "### reduce() "
   ]
  },
  {
   "cell_type": "raw",
   "id": "ff0349d7",
   "metadata": {},
   "source": [
    "Reduz os elementos do conjunto de dados usando o operador binário especificado."
   ]
  },
  {
   "cell_type": "code",
   "execution_count": 7,
   "id": "445419a1",
   "metadata": {},
   "outputs": [
    {
     "name": "stdout",
     "output_type": "stream",
     "text": [
      "20\n"
     ]
    }
   ],
   "source": [
    "#reduce\n",
    "redRes=listRdd.reduce(add)\n",
    "print(redRes) # output 20"
   ]
  },
  {
   "cell_type": "markdown",
   "id": "1b74e409",
   "metadata": {},
   "source": [
    "### treeReduce()"
   ]
  },
  {
   "cell_type": "raw",
   "id": "58e8acd1",
   "metadata": {},
   "source": [
    "Reduz os elementos deste RDD em um padrão de árvore multinível."
   ]
  },
  {
   "cell_type": "code",
   "execution_count": 8,
   "id": "53433653",
   "metadata": {},
   "outputs": [
    {
     "name": "stdout",
     "output_type": "stream",
     "text": [
      "20\n"
     ]
    }
   ],
   "source": [
    "#treeReduce. This is similar to reduce\n",
    "add = lambda x, y: x + y\n",
    "redRes=listRdd.treeReduce(add)\n",
    "print(redRes) # output 20"
   ]
  },
  {
   "cell_type": "markdown",
   "id": "11f5fa25",
   "metadata": {},
   "source": [
    "### collect()"
   ]
  },
  {
   "cell_type": "raw",
   "id": "ff4aa51a",
   "metadata": {},
   "source": [
    "Retorne o conjunto de dados completo como um Array."
   ]
  },
  {
   "cell_type": "code",
   "execution_count": 9,
   "id": "fa78a78c",
   "metadata": {},
   "outputs": [
    {
     "name": "stdout",
     "output_type": "stream",
     "text": [
      "[1, 2, 3, 4, 5, 3, 2]\n"
     ]
    }
   ],
   "source": [
    "#Collect\n",
    "data = listRdd.collect()\n",
    "print(data)"
   ]
  },
  {
   "cell_type": "markdown",
   "id": "901f5e53",
   "metadata": {},
   "source": [
    "###  count() "
   ]
  },
  {
   "cell_type": "raw",
   "id": "fdecc27d",
   "metadata": {},
   "source": [
    "Retorna a contagem de elementos no conjunto de dados."
   ]
  },
  {
   "cell_type": "code",
   "execution_count": 11,
   "id": "42fc4d87",
   "metadata": {},
   "outputs": [
    {
     "name": "stdout",
     "output_type": "stream",
     "text": [
      "Count : 7\n"
     ]
    }
   ],
   "source": [
    "#count, countApprox, countApproxDistinct\n",
    "print(\"Count : \"+str(listRdd.count())) #Output: Count : 20"
   ]
  },
  {
   "cell_type": "markdown",
   "id": "215a16cc",
   "metadata": {},
   "source": [
    "### countApprox()"
   ]
  },
  {
   "cell_type": "raw",
   "id": "75f9ec03",
   "metadata": {},
   "source": [
    "Retorna a contagem aproximada de elementos no conjunto de dados, esse método retorna incompleto quando o tempo de execução atinge o tempo limite."
   ]
  },
  {
   "cell_type": "code",
   "execution_count": 12,
   "id": "1ee91f9d",
   "metadata": {},
   "outputs": [
    {
     "name": "stdout",
     "output_type": "stream",
     "text": [
      "countApprox : 7\n"
     ]
    }
   ],
   "source": [
    "print(\"countApprox : \"+str(listRdd.countApprox(1200)))\n",
    "#Output: countApprox : (final: [7.000, 7.000])"
   ]
  },
  {
   "cell_type": "markdown",
   "id": "fb906ad2",
   "metadata": {},
   "source": [
    "### countApproxDistinct()"
   ]
  },
  {
   "cell_type": "raw",
   "id": "df437d7e",
   "metadata": {},
   "source": [
    "Retorna um número aproximado de elementos distintos no conjunto de dados."
   ]
  },
  {
   "cell_type": "code",
   "execution_count": 13,
   "id": "3d467a43",
   "metadata": {},
   "outputs": [
    {
     "name": "stdout",
     "output_type": "stream",
     "text": [
      "countApproxDistinct : 5\n",
      "countApproxDistinct : 5\n"
     ]
    }
   ],
   "source": [
    "print(\"countApproxDistinct : \"+str(listRdd.countApproxDistinct()))\n",
    "#Output: countApproxDistinct : 5\n",
    "print(\"countApproxDistinct : \"+str(inputRDD.countApproxDistinct()))\n",
    "#Output: countApproxDistinct : 5"
   ]
  },
  {
   "cell_type": "markdown",
   "id": "3a3d9369",
   "metadata": {},
   "source": [
    "### countByValue()"
   ]
  },
  {
   "cell_type": "raw",
   "id": "9b3639bb",
   "metadata": {},
   "source": [
    "Retornar a chave Map[T,Long] representando cada valor exclusivo no conjunto de dados e o valor representa a contagem de cada valor presente."
   ]
  },
  {
   "cell_type": "code",
   "execution_count": 15,
   "id": "3108f571",
   "metadata": {},
   "outputs": [
    {
     "name": "stdout",
     "output_type": "stream",
     "text": [
      "countByValue :  defaultdict(<class 'int'>, {1: 1, 2: 2, 3: 2, 4: 1, 5: 1})\n"
     ]
    }
   ],
   "source": [
    "#countByValue, countByValueApprox\n",
    "print(\"countByValue :  \"+str(listRdd.countByValue()))"
   ]
  },
  {
   "cell_type": "markdown",
   "id": "5022a5c1",
   "metadata": {},
   "source": [
    "### first()"
   ]
  },
  {
   "cell_type": "raw",
   "id": "ff574410",
   "metadata": {},
   "source": [
    "Retorna o primeiro elemento no conjunto de dados."
   ]
  },
  {
   "cell_type": "code",
   "execution_count": 16,
   "id": "09f24e6c",
   "metadata": {},
   "outputs": [
    {
     "name": "stdout",
     "output_type": "stream",
     "text": [
      "first :  1\n",
      "first :  ('Z', 1)\n"
     ]
    }
   ],
   "source": [
    "#first\n",
    "print(\"first :  \"+str(listRdd.first()))\n",
    "#Output: first :  1\n",
    "print(\"first :  \"+str(inputRDD.first()))\n",
    "#Output: first :  (Z,1)"
   ]
  },
  {
   "cell_type": "markdown",
   "id": "95538b77",
   "metadata": {},
   "source": [
    "### min()"
   ]
  },
  {
   "cell_type": "raw",
   "id": "2b4dc8f7",
   "metadata": {},
   "source": [
    "Retorna o valor mínimo do conjunto de dados."
   ]
  },
  {
   "cell_type": "code",
   "execution_count": 17,
   "id": "78376013",
   "metadata": {},
   "outputs": [
    {
     "name": "stdout",
     "output_type": "stream",
     "text": [
      "min :  1\n",
      "min :  ('A', 20)\n"
     ]
    }
   ],
   "source": [
    "#min\n",
    "print(\"min :  \"+str(listRdd.min()))\n",
    "#Output: min :  1\n",
    "print(\"min :  \"+str(inputRDD.min()))\n",
    "#Output: min :  (A,20)  "
   ]
  },
  {
   "cell_type": "markdown",
   "id": "5c40c8e3",
   "metadata": {},
   "source": [
    "### max()"
   ]
  },
  {
   "cell_type": "raw",
   "id": "4efa690e",
   "metadata": {},
   "source": [
    "Retorna o valor máximo do conjunto de dados."
   ]
  },
  {
   "cell_type": "code",
   "execution_count": 18,
   "id": "035555ae",
   "metadata": {},
   "outputs": [
    {
     "name": "stdout",
     "output_type": "stream",
     "text": [
      "max :  5\n",
      "max :  ('Z', 1)\n"
     ]
    }
   ],
   "source": [
    "#max\n",
    "print(\"max :  \"+str(listRdd.max()))\n",
    "#Output: max :  5\n",
    "print(\"max :  \"+str(inputRDD.max()))\n",
    "#Output: max :  (Z,1)"
   ]
  },
  {
   "cell_type": "markdown",
   "id": "8695146a",
   "metadata": {},
   "source": [
    "### take()"
   ]
  },
  {
   "cell_type": "raw",
   "id": "d1f8ea4b",
   "metadata": {},
   "source": [
    "Retorna os primeiros num elementos do conjunto de dados."
   ]
  },
  {
   "cell_type": "code",
   "execution_count": 19,
   "id": "ac8819ff",
   "metadata": {},
   "outputs": [
    {
     "name": "stdout",
     "output_type": "stream",
     "text": [
      "take : [1, 2]\n"
     ]
    }
   ],
   "source": [
    "#take, takeOrdered, takeSample\n",
    "print(\"take : \"+str(listRdd.take(2))) #Output: take : 1,2"
   ]
  },
  {
   "cell_type": "markdown",
   "id": "23c3a69f",
   "metadata": {},
   "source": [
    "### takeOrdered()"
   ]
  },
  {
   "cell_type": "raw",
   "id": "2cbadd62",
   "metadata": {},
   "source": [
    " Retorna o primeiro num (menor) elementos do conjunto de dados e isso é o oposto da ação take().\n",
    "Nota: Use este método somente quando a matriz resultante for pequena, pois todos os dados são carregados na memória do driver."
   ]
  },
  {
   "cell_type": "code",
   "execution_count": 23,
   "id": "ad64b9ea",
   "metadata": {},
   "outputs": [
    {
     "name": "stdout",
     "output_type": "stream",
     "text": [
      "takeOrdered : [1, 2]\n"
     ]
    }
   ],
   "source": [
    "print(\"takeOrdered : \"+ str(listRdd.takeOrdered(2))) #Output: takeOrdered : 1,2"
   ]
  },
  {
   "cell_type": "markdown",
   "id": "56536cb0",
   "metadata": {},
   "source": [
    "### takeSample()"
   ]
  },
  {
   "cell_type": "raw",
   "id": "bc1ed9eb",
   "metadata": {},
   "source": [
    "Retornar o subconjunto do conjunto de dados em um Array.\n",
    "Nota: Use este método somente quando a matriz resultante for pequena, pois todos os dados são carregados na memória do driver."
   ]
  },
  {
   "cell_type": "raw",
   "id": "412c9b01",
   "metadata": {},
   "source": [
    "print(\"take : \"+ str(listRdd.takeSample()))"
   ]
  }
 ],
 "metadata": {
  "kernelspec": {
   "display_name": "Python 3",
   "language": "python",
   "name": "python3"
  },
  "language_info": {
   "codemirror_mode": {
    "name": "ipython",
    "version": 3
   },
   "file_extension": ".py",
   "mimetype": "text/x-python",
   "name": "python",
   "nbconvert_exporter": "python",
   "pygments_lexer": "ipython3",
   "version": "3.8.8"
  }
 },
 "nbformat": 4,
 "nbformat_minor": 5
}
