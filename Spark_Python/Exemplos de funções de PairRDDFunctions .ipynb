{
 "cells": [
  {
   "cell_type": "markdown",
   "id": "7a3f59fd",
   "metadata": {},
   "source": [
    "# Exemplos de funções de PairRDDFunctions"
   ]
  },
  {
   "cell_type": "code",
   "execution_count": 53,
   "id": "bba9f968",
   "metadata": {},
   "outputs": [],
   "source": [
    "from pyspark.sql import SparkSession"
   ]
  },
  {
   "cell_type": "code",
   "execution_count": 54,
   "id": "f9ba6152",
   "metadata": {},
   "outputs": [],
   "source": [
    "#Create RDD\n",
    "spark = SparkSession.builder.master(\"local[1]\").appName(\"SparkByExamples.com\").getOrCreate()  "
   ]
  },
  {
   "cell_type": "code",
   "execution_count": 55,
   "id": "d27655d1",
   "metadata": {},
   "outputs": [],
   "source": [
    "#Create RDD from parallelize \n",
    "data = [\"Germany India USA\",\"USA India Russia\",\"India Brazil Canada China\"]\n",
    "rdd = spark.sparkContext.parallelize(data)"
   ]
  },
  {
   "cell_type": "code",
   "execution_count": 56,
   "id": "f086ee7b",
   "metadata": {},
   "outputs": [
    {
     "name": "stdout",
     "output_type": "stream",
     "text": [
      "Germany India USA\n",
      "USA India Russia\n",
      "India Brazil Canada China\n"
     ]
    }
   ],
   "source": [
    "#Print RDD data collect \n",
    "for element in rdd.collect():\n",
    "    print(element)"
   ]
  },
  {
   "cell_type": "code",
   "execution_count": 45,
   "id": "6ea23c60",
   "metadata": {},
   "outputs": [
    {
     "name": "stdout",
     "output_type": "stream",
     "text": [
      "Germany\n",
      "India\n",
      "USA\n",
      "USA\n",
      "India\n",
      "Russia\n",
      "India\n",
      "Brazil\n",
      "Canada\n",
      "China\n"
     ]
    }
   ],
   "source": [
    "#Flatmap    \n",
    "rdd2=rdd.flatMap(lambda x: x.split(\" \"))\n",
    "for element in rdd2.collect():\n",
    "    print(element)"
   ]
  },
  {
   "cell_type": "code",
   "execution_count": 46,
   "id": "f9945f8f",
   "metadata": {},
   "outputs": [
    {
     "name": "stdout",
     "output_type": "stream",
     "text": [
      "('Germany', 1)\n",
      "('India', 1)\n",
      "('USA', 1)\n",
      "('USA', 1)\n",
      "('India', 1)\n",
      "('Russia', 1)\n",
      "('India', 1)\n",
      "('Brazil', 1)\n",
      "('Canada', 1)\n",
      "('China', 1)\n"
     ]
    }
   ],
   "source": [
    "#map\n",
    "rdd3 = rdd2.map(lambda x: (x,1))\n",
    "for element in rdd3.collect():\n",
    "    print(element)"
   ]
  },
  {
   "cell_type": "code",
   "execution_count": 64,
   "id": "a6267acc",
   "metadata": {},
   "outputs": [
    {
     "name": "stdout",
     "output_type": "stream",
     "text": [
      "Distinct count: 7\n"
     ]
    }
   ],
   "source": [
    "#Distinct\n",
    "distinctRDD = rdd2.distinct()\n",
    "print(\"Distinct count: \"+str(distinctRDD.count()))"
   ]
  },
  {
   "cell_type": "code",
   "execution_count": 65,
   "id": "c0e86def",
   "metadata": {},
   "outputs": [
    {
     "name": "stdout",
     "output_type": "stream",
     "text": [
      "Germany\n",
      "India\n",
      "USA\n",
      "Russia\n",
      "Brazil\n",
      "Canada\n",
      "China\n"
     ]
    }
   ],
   "source": [
    "#Print distinct elements RDD\n",
    "for element in distinctRDD.collect():\n",
    "    print(element)"
   ]
  },
  {
   "cell_type": "code",
   "execution_count": 70,
   "id": "24d0650c",
   "metadata": {},
   "outputs": [],
   "source": [
    "#Sort\n",
    "sortRDD = rdd2.sortByKey()"
   ]
  },
  {
   "cell_type": "code",
   "execution_count": 71,
   "id": "7dc6c51e",
   "metadata": {},
   "outputs": [
    {
     "name": "stdout",
     "output_type": "stream",
     "text": [
      "Brazil\n",
      "Canada\n",
      "China\n",
      "Germany\n",
      "India\n",
      "India\n",
      "India\n",
      "Russia\n",
      "USA\n",
      "USA\n"
     ]
    }
   ],
   "source": [
    "#Print SortRDD elements RDD\n",
    "for element in sortRDD.collect():\n",
    "    print(element)"
   ]
  },
  {
   "cell_type": "code",
   "execution_count": 85,
   "id": "de0a7405",
   "metadata": {},
   "outputs": [],
   "source": [
    "#Reduce\n",
    "reduceRDD = rdd3.reduceByKey(lambda a,b: a + b)"
   ]
  },
  {
   "cell_type": "code",
   "execution_count": 86,
   "id": "915cd38e",
   "metadata": {},
   "outputs": [
    {
     "name": "stdout",
     "output_type": "stream",
     "text": [
      "('Germany', 1)\n",
      "('India', 3)\n",
      "('USA', 2)\n",
      "('Russia', 1)\n",
      "('Brazil', 1)\n",
      "('Canada', 1)\n",
      "('China', 1)\n"
     ]
    }
   ],
   "source": [
    "#Print reduRDD elements RDD\n",
    "for element in reduceRDD.collect():\n",
    "    print(element)"
   ]
  }
 ],
 "metadata": {
  "kernelspec": {
   "display_name": "Python 3",
   "language": "python",
   "name": "python3"
  },
  "language_info": {
   "codemirror_mode": {
    "name": "ipython",
    "version": 3
   },
   "file_extension": ".py",
   "mimetype": "text/x-python",
   "name": "python",
   "nbconvert_exporter": "python",
   "pygments_lexer": "ipython3",
   "version": "3.8.8"
  }
 },
 "nbformat": 4,
 "nbformat_minor": 5
}
