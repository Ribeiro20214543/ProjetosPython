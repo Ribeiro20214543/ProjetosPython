{
 "cells": [
  {
   "cell_type": "code",
   "execution_count": 9,
   "metadata": {},
   "outputs": [],
   "source": [
    "import numpy as np\n",
    "import pandas as pd"
   ]
  },
  {
   "cell_type": "code",
   "execution_count": 10,
   "metadata": {},
   "outputs": [
    {
     "name": "stdout",
     "output_type": "stream",
     "text": [
      "--2022-02-04 07:44:44--  http://mtg.upf.edu/static/datasets/last.fm/lastfm-dataset-1K.tar.gz\n",
      "Resolvendo mtg.upf.edu (mtg.upf.edu)... 84.89.139.55\n",
      "Conectando-se a mtg.upf.edu (mtg.upf.edu)|84.89.139.55|:80... conectado.\n",
      "A requisição HTTP foi enviada, aguardando resposta... 200 OK\n",
      "Tamanho: 672741554 (642M) [application/x-gzip]\n",
      "Salvando em: “lastfm-dataset-1K.tar.gz”\n",
      "\n",
      "lastfm-dataset-1K.t 100%[===================>] 641,58M   879KB/s    em 35m 9s  \n",
      "\n",
      "2022-02-04 08:19:54 (311 KB/s) - “lastfm-dataset-1K.tar.gz” salvo [672741554/672741554]\n",
      "\n"
     ]
    }
   ],
   "source": [
    "!wget http://mtg.upf.edu/static/datasets/last.fm/lastfm-dataset-1K.tar.gz"
   ]
  },
  {
   "cell_type": "code",
   "execution_count": 16,
   "metadata": {},
   "outputs": [
    {
     "name": "stdout",
     "output_type": "stream",
     "text": [
      "'Ações do PySpark – Exemplo completo.ipynb'\r\n",
      " basic_data_exploration_user_profile.ipynb\r\n",
      " data_exploration_play_counts.ipynb\r\n",
      " DataFrame_Basics.ipynb\r\n",
      "'Exemplo completo de transformações PySpark RDD.ipynb'\r\n",
      "'Exemplo de ações do PySpark RDD.ipynb'\r\n",
      "'Exemplos de funções de PairRDDFunctions .ipynb'\r\n",
      " lastfm-dataset-1K\r\n",
      " lastfm-dataset-1K.tar.gz\r\n",
      " people.json\r\n",
      " people.txt\r\n",
      "'PySpark DataFrame.ipynb'\r\n",
      "'PySpark RDD .ipynb'\r\n",
      " README.md\r\n",
      " recommendation_engine.ipynb\r\n",
      " test.txt\r\n"
     ]
    }
   ],
   "source": [
    "!ls"
   ]
  },
  {
   "cell_type": "code",
   "execution_count": 17,
   "metadata": {},
   "outputs": [
    {
     "name": "stdout",
     "output_type": "stream",
     "text": [
      "lastfm-dataset-1K/\r\n",
      "lastfm-dataset-1K/userid-profile.tsv\r\n",
      "lastfm-dataset-1K/README.txt\r\n",
      "lastfm-dataset-1K/userid-timestamp-artid-artname-traid-traname.tsv\r\n"
     ]
    }
   ],
   "source": [
    "!tar -xvzf lastfm-dataset-1K.tar.gz"
   ]
  },
  {
   "cell_type": "code",
   "execution_count": 18,
   "metadata": {},
   "outputs": [
    {
     "name": "stdout",
     "output_type": "stream",
     "text": [
      "'Ações do PySpark – Exemplo completo.ipynb'\r\n",
      " basic_data_exploration_user_profile.ipynb\r\n",
      " data_exploration_play_counts.ipynb\r\n",
      " DataFrame_Basics.ipynb\r\n",
      "'Exemplo completo de transformações PySpark RDD.ipynb'\r\n",
      "'Exemplo de ações do PySpark RDD.ipynb'\r\n",
      "'Exemplos de funções de PairRDDFunctions .ipynb'\r\n",
      " lastfm-dataset-1K\r\n",
      " lastfm-dataset-1K.tar.gz\r\n",
      " people.json\r\n",
      " people.txt\r\n",
      "'PySpark DataFrame.ipynb'\r\n",
      "'PySpark RDD .ipynb'\r\n",
      " README.md\r\n",
      " recommendation_engine.ipynb\r\n",
      " test.txt\r\n"
     ]
    }
   ],
   "source": [
    "!ls"
   ]
  },
  {
   "cell_type": "code",
   "execution_count": 19,
   "metadata": {},
   "outputs": [],
   "source": [
    "user_profile = pd.read_csv('lastfm-dataset-1K/userid-profile.tsv',sep='\\t')"
   ]
  },
  {
   "cell_type": "code",
   "execution_count": 20,
   "metadata": {},
   "outputs": [
    {
     "data": {
      "text/html": [
       "<div>\n",
       "<style scoped>\n",
       "    .dataframe tbody tr th:only-of-type {\n",
       "        vertical-align: middle;\n",
       "    }\n",
       "\n",
       "    .dataframe tbody tr th {\n",
       "        vertical-align: top;\n",
       "    }\n",
       "\n",
       "    .dataframe thead th {\n",
       "        text-align: right;\n",
       "    }\n",
       "</style>\n",
       "<table border=\"1\" class=\"dataframe\">\n",
       "  <thead>\n",
       "    <tr style=\"text-align: right;\">\n",
       "      <th></th>\n",
       "      <th>#id</th>\n",
       "      <th>gender</th>\n",
       "      <th>age</th>\n",
       "      <th>country</th>\n",
       "      <th>registered</th>\n",
       "    </tr>\n",
       "  </thead>\n",
       "  <tbody>\n",
       "    <tr>\n",
       "      <th>0</th>\n",
       "      <td>user_000001</td>\n",
       "      <td>m</td>\n",
       "      <td>NaN</td>\n",
       "      <td>Japan</td>\n",
       "      <td>Aug 13, 2006</td>\n",
       "    </tr>\n",
       "    <tr>\n",
       "      <th>1</th>\n",
       "      <td>user_000002</td>\n",
       "      <td>f</td>\n",
       "      <td>NaN</td>\n",
       "      <td>Peru</td>\n",
       "      <td>Feb 24, 2006</td>\n",
       "    </tr>\n",
       "    <tr>\n",
       "      <th>2</th>\n",
       "      <td>user_000003</td>\n",
       "      <td>m</td>\n",
       "      <td>22.0</td>\n",
       "      <td>United States</td>\n",
       "      <td>Oct 30, 2005</td>\n",
       "    </tr>\n",
       "    <tr>\n",
       "      <th>3</th>\n",
       "      <td>user_000004</td>\n",
       "      <td>f</td>\n",
       "      <td>NaN</td>\n",
       "      <td>NaN</td>\n",
       "      <td>Apr 26, 2006</td>\n",
       "    </tr>\n",
       "    <tr>\n",
       "      <th>4</th>\n",
       "      <td>user_000005</td>\n",
       "      <td>m</td>\n",
       "      <td>NaN</td>\n",
       "      <td>Bulgaria</td>\n",
       "      <td>Jun 29, 2006</td>\n",
       "    </tr>\n",
       "  </tbody>\n",
       "</table>\n",
       "</div>"
      ],
      "text/plain": [
       "           #id gender   age        country    registered\n",
       "0  user_000001      m   NaN          Japan  Aug 13, 2006\n",
       "1  user_000002      f   NaN           Peru  Feb 24, 2006\n",
       "2  user_000003      m  22.0  United States  Oct 30, 2005\n",
       "3  user_000004      f   NaN            NaN  Apr 26, 2006\n",
       "4  user_000005      m   NaN       Bulgaria  Jun 29, 2006"
      ]
     },
     "execution_count": 20,
     "metadata": {},
     "output_type": "execute_result"
    }
   ],
   "source": [
    "user_profile.head()"
   ]
  },
  {
   "cell_type": "code",
   "execution_count": 21,
   "metadata": {},
   "outputs": [
    {
     "data": {
      "text/plain": [
       "Index(['#id', 'gender', 'age', 'country', 'registered'], dtype='object')"
      ]
     },
     "execution_count": 21,
     "metadata": {},
     "output_type": "execute_result"
    }
   ],
   "source": [
    "user_profile.columns"
   ]
  },
  {
   "cell_type": "code",
   "execution_count": 22,
   "metadata": {},
   "outputs": [
    {
     "data": {
      "text/plain": [
       "103.0"
      ]
     },
     "execution_count": 22,
     "metadata": {},
     "output_type": "execute_result"
    }
   ],
   "source": [
    "user_profile['age'].max()"
   ]
  },
  {
   "cell_type": "code",
   "execution_count": 23,
   "metadata": {},
   "outputs": [
    {
     "data": {
      "text/html": [
       "<div>\n",
       "<style scoped>\n",
       "    .dataframe tbody tr th:only-of-type {\n",
       "        vertical-align: middle;\n",
       "    }\n",
       "\n",
       "    .dataframe tbody tr th {\n",
       "        vertical-align: top;\n",
       "    }\n",
       "\n",
       "    .dataframe thead th {\n",
       "        text-align: right;\n",
       "    }\n",
       "</style>\n",
       "<table border=\"1\" class=\"dataframe\">\n",
       "  <thead>\n",
       "    <tr style=\"text-align: right;\">\n",
       "      <th></th>\n",
       "      <th>age</th>\n",
       "    </tr>\n",
       "  </thead>\n",
       "  <tbody>\n",
       "    <tr>\n",
       "      <th>count</th>\n",
       "      <td>286.000000</td>\n",
       "    </tr>\n",
       "    <tr>\n",
       "      <th>mean</th>\n",
       "      <td>25.367133</td>\n",
       "    </tr>\n",
       "    <tr>\n",
       "      <th>std</th>\n",
       "      <td>8.314952</td>\n",
       "    </tr>\n",
       "    <tr>\n",
       "      <th>min</th>\n",
       "      <td>3.000000</td>\n",
       "    </tr>\n",
       "    <tr>\n",
       "      <th>25%</th>\n",
       "      <td>21.000000</td>\n",
       "    </tr>\n",
       "    <tr>\n",
       "      <th>50%</th>\n",
       "      <td>23.000000</td>\n",
       "    </tr>\n",
       "    <tr>\n",
       "      <th>75%</th>\n",
       "      <td>28.000000</td>\n",
       "    </tr>\n",
       "    <tr>\n",
       "      <th>max</th>\n",
       "      <td>103.000000</td>\n",
       "    </tr>\n",
       "  </tbody>\n",
       "</table>\n",
       "</div>"
      ],
      "text/plain": [
       "              age\n",
       "count  286.000000\n",
       "mean    25.367133\n",
       "std      8.314952\n",
       "min      3.000000\n",
       "25%     21.000000\n",
       "50%     23.000000\n",
       "75%     28.000000\n",
       "max    103.000000"
      ]
     },
     "execution_count": 23,
     "metadata": {},
     "output_type": "execute_result"
    }
   ],
   "source": [
    "user_profile.describe()"
   ]
  },
  {
   "cell_type": "code",
   "execution_count": 24,
   "metadata": {},
   "outputs": [
    {
     "name": "stdout",
     "output_type": "stream",
     "text": [
      "<class 'pandas.core.frame.DataFrame'>\n",
      "RangeIndex: 992 entries, 0 to 991\n",
      "Data columns (total 5 columns):\n",
      " #   Column      Non-Null Count  Dtype  \n",
      "---  ------      --------------  -----  \n",
      " 0   #id         992 non-null    object \n",
      " 1   gender      884 non-null    object \n",
      " 2   age         286 non-null    float64\n",
      " 3   country     907 non-null    object \n",
      " 4   registered  984 non-null    object \n",
      "dtypes: float64(1), object(4)\n",
      "memory usage: 38.9+ KB\n"
     ]
    }
   ],
   "source": [
    "user_profile.info()"
   ]
  },
  {
   "cell_type": "code",
   "execution_count": 25,
   "metadata": {},
   "outputs": [
    {
     "data": {
      "text/plain": [
       "m    502\n",
       "f    382\n",
       "Name: gender, dtype: int64"
      ]
     },
     "execution_count": 25,
     "metadata": {},
     "output_type": "execute_result"
    }
   ],
   "source": [
    "user_profile['gender'].value_counts()"
   ]
  },
  {
   "cell_type": "code",
   "execution_count": 26,
   "metadata": {},
   "outputs": [
    {
     "data": {
      "text/plain": [
       "United States             228\n",
       "United Kingdom            126\n",
       "Poland                     50\n",
       "Germany                    36\n",
       "Norway                     35\n",
       "                         ... \n",
       "Zimbabwe                    1\n",
       "Bosnia and Herzegovina      1\n",
       "Nicaragua                   1\n",
       "Algeria                     1\n",
       "Iceland                     1\n",
       "Name: country, Length: 66, dtype: int64"
      ]
     },
     "execution_count": 26,
     "metadata": {},
     "output_type": "execute_result"
    }
   ],
   "source": [
    "user_profile['country'].value_counts()"
   ]
  },
  {
   "cell_type": "code",
   "execution_count": 27,
   "metadata": {},
   "outputs": [
    {
     "data": {
      "text/plain": [
       "Dec 6, 2005     6\n",
       "Apr 18, 2006    5\n",
       "Jun 3, 2006     5\n",
       "Mar 5, 2006     5\n",
       "Dec 4, 2005     5\n",
       "               ..\n",
       "Dec 30, 2005    1\n",
       "Jul 18, 2007    1\n",
       "Jul 11, 2006    1\n",
       "Feb 8, 2007     1\n",
       "Dec 20, 2004    1\n",
       "Name: registered, Length: 625, dtype: int64"
      ]
     },
     "execution_count": 27,
     "metadata": {},
     "output_type": "execute_result"
    }
   ],
   "source": [
    "user_profile['registered'].value_counts()"
   ]
  },
  {
   "cell_type": "code",
   "execution_count": 32,
   "metadata": {},
   "outputs": [
    {
     "name": "stdout",
     "output_type": "stream",
     "text": [
      "--2022-02-04 08:23:18--  http://mtg.upf.edu/static/datasets/last.fm/lastfm-dataset-360K.tar.gz\n",
      "Resolvendo mtg.upf.edu (mtg.upf.edu)... 84.89.139.55\n",
      "Conectando-se a mtg.upf.edu (mtg.upf.edu)|84.89.139.55|:80... conectado.\n",
      "A requisição HTTP foi enviada, aguardando resposta... 200 OK\n",
      "Tamanho: 569202935 (543M) [application/x-gzip]\n",
      "Salvando em: “lastfm-dataset-360K.tar.gz”\n",
      "\n",
      "lastfm-dataset-360K 100%[===================>] 542,83M   221KB/s    em 84m 48s \n",
      "\n",
      "2022-02-04 09:48:07 (109 KB/s) - “lastfm-dataset-360K.tar.gz” salvo [569202935/569202935]\n",
      "\n"
     ]
    }
   ],
   "source": [
    "!wget http://mtg.upf.edu/static/datasets/last.fm/lastfm-dataset-360K.tar.gz"
   ]
  },
  {
   "cell_type": "code",
   "execution_count": 33,
   "metadata": {},
   "outputs": [
    {
     "name": "stdout",
     "output_type": "stream",
     "text": [
      "'Ações do PySpark – Exemplo completo.ipynb'\r\n",
      " basic_data_exploration_user_profile.ipynb\r\n",
      " data_exploration_play_counts.ipynb\r\n",
      " DataFrame_Basics.ipynb\r\n",
      "'Exemplo completo de transformações PySpark RDD.ipynb'\r\n",
      "'Exemplo de ações do PySpark RDD.ipynb'\r\n",
      "'Exemplos de funções de PairRDDFunctions .ipynb'\r\n",
      " lastfm-dataset-1K\r\n",
      " lastfm-dataset-1K.tar.gz\r\n",
      " lastfm-dataset-360K.tar.gz\r\n",
      " people.json\r\n",
      " people.txt\r\n",
      "'PySpark DataFrame.ipynb'\r\n",
      "'PySpark RDD .ipynb'\r\n",
      " README.md\r\n",
      " recommendation_engine.ipynb\r\n",
      " test.txt\r\n"
     ]
    }
   ],
   "source": [
    "!ls"
   ]
  },
  {
   "cell_type": "code",
   "execution_count": 49,
   "metadata": {},
   "outputs": [
    {
     "name": "stdout",
     "output_type": "stream",
     "text": [
      "lastfm-dataset-360K/\n",
      "lastfm-dataset-360K/usersha1-artmbid-artname-plays.tsv\n",
      "lastfm-dataset-360K/README.txt\n",
      "lastfm-dataset-360K/mbox_sha1sum.py\n",
      "lastfm-dataset-360K/usersha1-profile.tsv\n"
     ]
    }
   ],
   "source": [
    "!tar -xvzf lastfm-dataset-360K.tar.gz"
   ]
  },
  {
   "cell_type": "code",
   "execution_count": 50,
   "metadata": {},
   "outputs": [
    {
     "name": "stdout",
     "output_type": "stream",
     "text": [
      "'Ações do PySpark – Exemplo completo.ipynb'\r\n",
      " basic_data_exploration_user_profile.ipynb\r\n",
      " data_exploration_play_counts.ipynb\r\n",
      " DataFrame_Basics.ipynb\r\n",
      "'Exemplo completo de transformações PySpark RDD.ipynb'\r\n",
      "'Exemplo de ações do PySpark RDD.ipynb'\r\n",
      "'Exemplos de funções de PairRDDFunctions .ipynb'\r\n",
      " lastfm-dataset-1K\r\n",
      " lastfm-dataset-1K.tar.gz\r\n",
      " lastfm-dataset-360K\r\n",
      " lastfm-dataset-360K.tar.gz\r\n",
      " people.json\r\n",
      " people.txt\r\n",
      "'PySpark DataFrame.ipynb'\r\n",
      "'PySpark RDD .ipynb'\r\n",
      " README.md\r\n",
      " recommendation_engine.ipynb\r\n",
      " test.txt\r\n"
     ]
    }
   ],
   "source": [
    "!ls"
   ]
  },
  {
   "cell_type": "code",
   "execution_count": 68,
   "metadata": {},
   "outputs": [],
   "source": [
    "user2_profile = pd.read_csv('lastfm-dataset-360K/usersha1-profile.tsv',sep='\\t')"
   ]
  },
  {
   "cell_type": "code",
   "execution_count": 69,
   "metadata": {},
   "outputs": [
    {
     "data": {
      "text/html": [
       "<div>\n",
       "<style scoped>\n",
       "    .dataframe tbody tr th:only-of-type {\n",
       "        vertical-align: middle;\n",
       "    }\n",
       "\n",
       "    .dataframe tbody tr th {\n",
       "        vertical-align: top;\n",
       "    }\n",
       "\n",
       "    .dataframe thead th {\n",
       "        text-align: right;\n",
       "    }\n",
       "</style>\n",
       "<table border=\"1\" class=\"dataframe\">\n",
       "  <thead>\n",
       "    <tr style=\"text-align: right;\">\n",
       "      <th></th>\n",
       "      <th>00000c289a1829a808ac09c00daf10bc3c4e223b</th>\n",
       "      <th>f</th>\n",
       "      <th>22</th>\n",
       "      <th>Germany</th>\n",
       "      <th>Feb 1, 2007</th>\n",
       "    </tr>\n",
       "  </thead>\n",
       "  <tbody>\n",
       "    <tr>\n",
       "      <th>0</th>\n",
       "      <td>00001411dc427966b17297bf4d69e7e193135d89</td>\n",
       "      <td>f</td>\n",
       "      <td>NaN</td>\n",
       "      <td>Canada</td>\n",
       "      <td>Dec 4, 2007</td>\n",
       "    </tr>\n",
       "    <tr>\n",
       "      <th>1</th>\n",
       "      <td>00004d2ac9316e22dc007ab2243d6fcb239e707d</td>\n",
       "      <td>NaN</td>\n",
       "      <td>NaN</td>\n",
       "      <td>Germany</td>\n",
       "      <td>Sep 1, 2006</td>\n",
       "    </tr>\n",
       "    <tr>\n",
       "      <th>2</th>\n",
       "      <td>000063d3fe1cf2ba248b9e3c3f0334845a27a6bf</td>\n",
       "      <td>m</td>\n",
       "      <td>19.0</td>\n",
       "      <td>Mexico</td>\n",
       "      <td>Apr 28, 2008</td>\n",
       "    </tr>\n",
       "    <tr>\n",
       "      <th>3</th>\n",
       "      <td>00007a47085b9aab8af55f52ec8846ac479ac4fe</td>\n",
       "      <td>m</td>\n",
       "      <td>28.0</td>\n",
       "      <td>United States</td>\n",
       "      <td>Jan 27, 2006</td>\n",
       "    </tr>\n",
       "    <tr>\n",
       "      <th>4</th>\n",
       "      <td>0000c176103e538d5c9828e695fed4f7ae42dd01</td>\n",
       "      <td>m</td>\n",
       "      <td>20.0</td>\n",
       "      <td>United Kingdom</td>\n",
       "      <td>Jan 14, 2006</td>\n",
       "    </tr>\n",
       "  </tbody>\n",
       "</table>\n",
       "</div>"
      ],
      "text/plain": [
       "   00000c289a1829a808ac09c00daf10bc3c4e223b    f    22         Germany  \\\n",
       "0  00001411dc427966b17297bf4d69e7e193135d89    f   NaN          Canada   \n",
       "1  00004d2ac9316e22dc007ab2243d6fcb239e707d  NaN   NaN         Germany   \n",
       "2  000063d3fe1cf2ba248b9e3c3f0334845a27a6bf    m  19.0          Mexico   \n",
       "3  00007a47085b9aab8af55f52ec8846ac479ac4fe    m  28.0   United States   \n",
       "4  0000c176103e538d5c9828e695fed4f7ae42dd01    m  20.0  United Kingdom   \n",
       "\n",
       "    Feb 1, 2007  \n",
       "0   Dec 4, 2007  \n",
       "1   Sep 1, 2006  \n",
       "2  Apr 28, 2008  \n",
       "3  Jan 27, 2006  \n",
       "4  Jan 14, 2006  "
      ]
     },
     "execution_count": 69,
     "metadata": {},
     "output_type": "execute_result"
    }
   ],
   "source": [
    "user2_profile.head()"
   ]
  },
  {
   "cell_type": "code",
   "execution_count": 70,
   "metadata": {},
   "outputs": [
    {
     "data": {
      "text/plain": [
       "Index(['00000c289a1829a808ac09c00daf10bc3c4e223b', 'f', '22', 'Germany',\n",
       "       'Feb 1, 2007'],\n",
       "      dtype='object')"
      ]
     },
     "execution_count": 70,
     "metadata": {},
     "output_type": "execute_result"
    }
   ],
   "source": [
    "user2_profile.columns"
   ]
  },
  {
   "cell_type": "code",
   "execution_count": 73,
   "metadata": {},
   "outputs": [
    {
     "data": {
      "text/html": [
       "<div>\n",
       "<style scoped>\n",
       "    .dataframe tbody tr th:only-of-type {\n",
       "        vertical-align: middle;\n",
       "    }\n",
       "\n",
       "    .dataframe tbody tr th {\n",
       "        vertical-align: top;\n",
       "    }\n",
       "\n",
       "    .dataframe thead th {\n",
       "        text-align: right;\n",
       "    }\n",
       "</style>\n",
       "<table border=\"1\" class=\"dataframe\">\n",
       "  <thead>\n",
       "    <tr style=\"text-align: right;\">\n",
       "      <th></th>\n",
       "      <th>22</th>\n",
       "    </tr>\n",
       "  </thead>\n",
       "  <tbody>\n",
       "    <tr>\n",
       "      <th>count</th>\n",
       "      <td>284446.000000</td>\n",
       "    </tr>\n",
       "    <tr>\n",
       "      <th>mean</th>\n",
       "      <td>25.098057</td>\n",
       "    </tr>\n",
       "    <tr>\n",
       "      <th>std</th>\n",
       "      <td>21.665779</td>\n",
       "    </tr>\n",
       "    <tr>\n",
       "      <th>min</th>\n",
       "      <td>-1337.000000</td>\n",
       "    </tr>\n",
       "    <tr>\n",
       "      <th>25%</th>\n",
       "      <td>20.000000</td>\n",
       "    </tr>\n",
       "    <tr>\n",
       "      <th>50%</th>\n",
       "      <td>23.000000</td>\n",
       "    </tr>\n",
       "    <tr>\n",
       "      <th>75%</th>\n",
       "      <td>28.000000</td>\n",
       "    </tr>\n",
       "    <tr>\n",
       "      <th>max</th>\n",
       "      <td>1002.000000</td>\n",
       "    </tr>\n",
       "  </tbody>\n",
       "</table>\n",
       "</div>"
      ],
      "text/plain": [
       "                  22\n",
       "count  284446.000000\n",
       "mean       25.098057\n",
       "std        21.665779\n",
       "min     -1337.000000\n",
       "25%        20.000000\n",
       "50%        23.000000\n",
       "75%        28.000000\n",
       "max      1002.000000"
      ]
     },
     "execution_count": 73,
     "metadata": {},
     "output_type": "execute_result"
    }
   ],
   "source": [
    "user2_profile.describe()"
   ]
  },
  {
   "cell_type": "code",
   "execution_count": 74,
   "metadata": {},
   "outputs": [
    {
     "name": "stdout",
     "output_type": "stream",
     "text": [
      "<class 'pandas.core.frame.DataFrame'>\n",
      "RangeIndex: 359346 entries, 0 to 359345\n",
      "Data columns (total 5 columns):\n",
      " #   Column                                    Non-Null Count   Dtype  \n",
      "---  ------                                    --------------   -----  \n",
      " 0   00000c289a1829a808ac09c00daf10bc3c4e223b  359346 non-null  object \n",
      " 1   f                                         326571 non-null  object \n",
      " 2   22                                        284446 non-null  float64\n",
      " 3   Germany                                   359346 non-null  object \n",
      " 4   Feb 1, 2007                               359346 non-null  object \n",
      "dtypes: float64(1), object(4)\n",
      "memory usage: 13.7+ MB\n"
     ]
    }
   ],
   "source": [
    "user2_profile.info()"
   ]
  },
  {
   "cell_type": "code",
   "execution_count": null,
   "metadata": {},
   "outputs": [],
   "source": []
  },
  {
   "cell_type": "code",
   "execution_count": null,
   "metadata": {},
   "outputs": [],
   "source": []
  }
 ],
 "metadata": {
  "anaconda-cloud": {},
  "kernelspec": {
   "display_name": "Python 3",
   "language": "python",
   "name": "python3"
  },
  "language_info": {
   "codemirror_mode": {
    "name": "ipython",
    "version": 3
   },
   "file_extension": ".py",
   "mimetype": "text/x-python",
   "name": "python",
   "nbconvert_exporter": "python",
   "pygments_lexer": "ipython3",
   "version": "3.8.8"
  }
 },
 "nbformat": 4,
 "nbformat_minor": 2
}
