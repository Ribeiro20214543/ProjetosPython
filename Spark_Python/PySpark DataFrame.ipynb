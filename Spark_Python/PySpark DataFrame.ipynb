{
 "cells": [
  {
   "cell_type": "markdown",
   "id": "bbcfda7e",
   "metadata": {},
   "source": [
    "# Criação de DataFrame"
   ]
  },
  {
   "cell_type": "markdown",
   "id": "91ffa46e",
   "metadata": {},
   "source": [
    "A maneira mais simples de criar um DataFrame é a partir de uma lista de dados do Python. O DataFrame também pode ser criado a partir de um RDD e lendo arquivos de várias fontes."
   ]
  },
  {
   "cell_type": "markdown",
   "id": "2bf3e517",
   "metadata": {},
   "source": [
    "## Usando createDataFrame()a função do SparkSession você pode criar um DataFrame."
   ]
  },
  {
   "cell_type": "code",
   "execution_count": 15,
   "id": "43dc8a53",
   "metadata": {},
   "outputs": [],
   "source": [
    "data = [('James','','Smith','1991-04-01','M',3000),\n",
    "  ('Michael','Rose','','2000-05-19','M',4000),\n",
    "  ('Robert','','Williams','1978-09-05','M',4000),\n",
    "  ('Maria','Anne','Jones','1967-12-01','F',4000),\n",
    "  ('Jen','Mary','Brown','1980-02-17','F',-1)\n",
    "]\n",
    "\n",
    "columns = [\"firstname\",\"middlename\",\"lastname\",\"dob\",\"gender\",\"salary\"]\n",
    "df = spark.createDataFrame(data=data, schema = columns)"
   ]
  },
  {
   "cell_type": "code",
   "execution_count": 16,
   "id": "8ef958ee",
   "metadata": {},
   "outputs": [
    {
     "name": "stdout",
     "output_type": "stream",
     "text": [
      "root\n",
      " |-- firstname: string (nullable = true)\n",
      " |-- middlename: string (nullable = true)\n",
      " |-- lastname: string (nullable = true)\n",
      " |-- dob: string (nullable = true)\n",
      " |-- gender: string (nullable = true)\n",
      " |-- salary: long (nullable = true)\n",
      "\n"
     ]
    }
   ],
   "source": [
    "# Para obter o esquema do DataFrame usamo df.printSchema()\n",
    "df.printSchema()"
   ]
  },
  {
   "cell_type": "code",
   "execution_count": 17,
   "id": "f27eb327",
   "metadata": {},
   "outputs": [
    {
     "name": "stdout",
     "output_type": "stream",
     "text": [
      "+---------+----------+--------+----------+------+------+\n",
      "|firstname|middlename|lastname|       dob|gender|salary|\n",
      "+---------+----------+--------+----------+------+------+\n",
      "|    James|          |   Smith|1991-04-01|     M|  3000|\n",
      "|  Michael|      Rose|        |2000-05-19|     M|  4000|\n",
      "|   Robert|          |Williams|1978-09-05|     M|  4000|\n",
      "|    Maria|      Anne|   Jones|1967-12-01|     F|  4000|\n",
      "|      Jen|      Mary|   Brown|1980-02-17|     F|    -1|\n",
      "+---------+----------+--------+----------+------+------+\n",
      "\n"
     ]
    }
   ],
   "source": [
    "# Para imprimir os elementos do DataFrame usamos df.show()\n",
    "df.show()"
   ]
  },
  {
   "cell_type": "markdown",
   "id": "21d661bb",
   "metadata": {},
   "source": [
    "## Operações do DataFrame"
   ]
  },
  {
   "cell_type": "markdown",
   "id": "a74064e0",
   "metadata": {},
   "source": [
    "Assim como o RDD, o DataFrame também possui operações como Transformations e Actions."
   ]
  },
  {
   "cell_type": "raw",
   "id": "25eb4450",
   "metadata": {},
   "source": [
    "# Exemplo de como ler um arquivo csv de um sistema local:\n",
    "\n",
    "df = spark.read.csv(\"/tmp/resources/zipcodes.csv\")\n",
    "df.printSchema()"
   ]
  },
  {
   "cell_type": "code",
   "execution_count": null,
   "id": "632d7f62",
   "metadata": {},
   "outputs": [],
   "source": []
  }
 ],
 "metadata": {
  "kernelspec": {
   "display_name": "Python 3",
   "language": "python",
   "name": "python3"
  },
  "language_info": {
   "codemirror_mode": {
    "name": "ipython",
    "version": 3
   },
   "file_extension": ".py",
   "mimetype": "text/x-python",
   "name": "python",
   "nbconvert_exporter": "python",
   "pygments_lexer": "ipython3",
   "version": "3.8.8"
  }
 },
 "nbformat": 4,
 "nbformat_minor": 5
}
