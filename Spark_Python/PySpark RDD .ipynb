{
 "cells": [
  {
   "cell_type": "markdown",
   "id": "557e91c3",
   "metadata": {},
   "source": [
    "## PySpark RDD – Conjunto de dados distribuído resiliente"
   ]
  },
  {
   "cell_type": "markdown",
   "id": "3a9413d5",
   "metadata": {},
   "source": [
    "PySpark RDD (Resilient Distributed Dataset)  é uma estrutura de dados fundamental do PySpark que é uma coleção de objetos distribuídos imutáveis ​​e tolerantes a falhas, o que significa que, uma vez que você cria um RDD, você não pode alterá-lo. Cada conjunto de dados no RDD é dividido em partições lógicas, que podem ser computadas em diferentes nós do cluster."
   ]
  },
  {
   "cell_type": "code",
   "execution_count": 3,
   "id": "a184582c",
   "metadata": {},
   "outputs": [],
   "source": [
    "from pyspark.sql import SparkSession\n",
    "spark=SparkSession.builder.master('local[1]').appName('sparkByTests.com').getOrCreate()"
   ]
  },
  {
   "cell_type": "code",
   "execution_count": 4,
   "id": "da0a32b2",
   "metadata": {},
   "outputs": [],
   "source": [
    "rdd=spark.sparkContext.parallelize([1, 2, 3, 4, 5])"
   ]
  },
  {
   "cell_type": "code",
   "execution_count": 5,
   "id": "38579b1a",
   "metadata": {},
   "outputs": [
    {
     "data": {
      "text/plain": [
       "5"
      ]
     },
     "execution_count": 5,
     "metadata": {},
     "output_type": "execute_result"
    }
   ],
   "source": [
    "rdd.count()"
   ]
  },
  {
   "cell_type": "markdown",
   "id": "5132c6e3",
   "metadata": {},
   "source": [
    "#  Criação de RDD "
   ]
  },
  {
   "cell_type": "markdown",
   "id": "a4c0abef",
   "metadata": {},
   "source": [
    "Para criar um RDD, primeiro você precisa criar um SparkSession que é um ponto de entrada para o aplicativo PySpark . SparkSession pode ser criado usando um builder()ou newSession()métodos do SparkSession.\n",
    "\n",
    "A sessão do Spark cria internamente uma sparkContextvariável de SparkContext."
   ]
  },
  {
   "cell_type": "markdown",
   "id": "2b42951e",
   "metadata": {},
   "source": [
    "OBS: Você pode criar vários objetos SparkSession, mas apenas um SparkContext por JVM. Caso você queira criar outro novo SparkContext, você deve parar o Sparkcontext existente (usando  stop()) antes de criar um novo."
   ]
  },
  {
   "cell_type": "code",
   "execution_count": 6,
   "id": "61a0c580",
   "metadata": {},
   "outputs": [],
   "source": [
    "#Create RDD\n",
    "spark = SparkSession.builder.master(\"local[1]\").appName(\"SparkByExamples.com\").getOrCreate()  "
   ]
  },
  {
   "cell_type": "markdown",
   "id": "9da1b89f",
   "metadata": {},
   "source": [
    "master() - Se estiver executando no cluster, você precisa usar seu nome mestre como um argumento para master(). \n",
    "\n",
    "Use local[x]ao executar no modo autônomo. x deve ser um valor inteiro e deve ser maior que 0; isso representa quantas partições ele deve criar ao usar RDD, DataFrame e Dataset. Idealmente, o valor x deve ser o número de núcleos de CPU que você possui.\n",
    "\n",
    "appName() – Usado para definir o nome do seu aplicativo.\n",
    "\n",
    "getOrCreate() – Isso retorna um objeto SparkSession se já existir, cria um novo se não existir."
   ]
  },
  {
   "cell_type": "markdown",
   "id": "37efc61d",
   "metadata": {},
   "source": [
    "##  parallelize() - método é usado para criar um RDD de uma lista."
   ]
  },
  {
   "cell_type": "code",
   "execution_count": 7,
   "id": "20b7c2a5",
   "metadata": {},
   "outputs": [],
   "source": [
    "#Create RDD from parallelize    \n",
    "data = [1,2,3,4,5,6,7,8,9,10,11,12]\n",
    "rdd=spark.sparkContext.parallelize(data)"
   ]
  },
  {
   "cell_type": "markdown",
   "id": "ec5df8dd",
   "metadata": {},
   "source": [
    "###  textFile() - método é usado para criar um texto RDD "
   ]
  },
  {
   "cell_type": "code",
   "execution_count": 8,
   "id": "90cc97e9",
   "metadata": {},
   "outputs": [],
   "source": [
    "# Create RDD from external Data source\n",
    "rdd2 = spark.sparkContext.textFile(\"/path/textFile.txt\")"
   ]
  },
  {
   "cell_type": "markdown",
   "id": "617c419f",
   "metadata": {},
   "source": [
    "### wholeTextFiles() - criar um PairRDD com a chave sendo o caminho do arquivo e o valor sendo o conteúdo do arquivo."
   ]
  },
  {
   "cell_type": "code",
   "execution_count": 9,
   "id": "4a5e863b",
   "metadata": {},
   "outputs": [],
   "source": [
    "#Reads entire file into a RDD as single record.\n",
    "rdd3 = spark.sparkContext.wholeTextFiles(\"/path/textFile.txt\")"
   ]
  },
  {
   "cell_type": "markdown",
   "id": "bbb6fa72",
   "metadata": {},
   "source": [
    "### emptyRDD() - cria um RDD vazio"
   ]
  },
  {
   "cell_type": "code",
   "execution_count": 10,
   "id": "99f87a33",
   "metadata": {},
   "outputs": [],
   "source": [
    "# Creates empty RDD with no partition    \n",
    "rdd = spark.sparkContext.emptyRDD \n",
    "# rddString = spark.sparkContext.emptyRDD[String]"
   ]
  },
  {
   "cell_type": "markdown",
   "id": "156f3681",
   "metadata": {},
   "source": [
    "## Criando RDD vazio com partição"
   ]
  },
  {
   "cell_type": "code",
   "execution_count": 11,
   "id": "1ff2d484",
   "metadata": {},
   "outputs": [],
   "source": [
    "#Create empty RDD with partition\n",
    "rdd2 = spark.sparkContext.parallelize([],10) #This creates 10 partitions"
   ]
  },
  {
   "cell_type": "markdown",
   "id": "4d5dfc7c",
   "metadata": {},
   "source": [
    "### getNumPartitions() – Esta é uma função RDD que retorna várias partições em que nosso conjunto de dados foi dividido."
   ]
  },
  {
   "cell_type": "raw",
   "id": "2f46b450",
   "metadata": {},
   "source": [
    "print(\"initial partition count:\" + str(rdd.getNumPartitions()))\n",
    "#Outputs: initial partition count:2"
   ]
  },
  {
   "cell_type": "raw",
   "id": "f33b5cac",
   "metadata": {},
   "source": [
    "#  Definir paralelizar manualmente – Também podemos definir um número de partições manualmente, \n",
    "# tudo o que precisamos é passar um número de partições como segundo parâmetro para essas funções:   \n",
    "sparkContext.parallelize([1,2,3,4,56,7,8,9,12,3], 10)"
   ]
  },
  {
   "cell_type": "markdown",
   "id": "21746dd4",
   "metadata": {},
   "source": [
    "### repartition() - o método que embaralha dados de todos os nós também chamado full shuffle"
   ]
  },
  {
   "cell_type": "raw",
   "id": "fc5500d9",
   "metadata": {},
   "source": [
    "reparRdd = rdd.repartition(4)\n",
    "print(\"re-partition count:\"+str(reparRdd.getNumPartitions()))\n",
    "#Outputs: \"re-partition count:4"
   ]
  },
  {
   "cell_type": "markdown",
   "id": "35becd70",
   "metadata": {},
   "source": [
    "## Operações de RDD"
   ]
  },
  {
   "cell_type": "markdown",
   "id": "b91f9ba2",
   "metadata": {},
   "source": [
    "No PySpark RDD, você pode realizar dois tipos de operações: Transformações RDD e Ações RDD"
   ]
  },
  {
   "cell_type": "code",
   "execution_count": 12,
   "id": "c3c1039a",
   "metadata": {},
   "outputs": [],
   "source": [
    "#lendo um arquivo txt\n",
    "rdd = spark.sparkContext.textFile('test.txt')"
   ]
  },
  {
   "cell_type": "markdown",
   "id": "91a1ca85",
   "metadata": {},
   "source": [
    "## Transformações RDD ## \n",
    "retornam outro RDD e as transformações são preguiçosas, o que significa que não são executadas até que você chame uma ação no RDD. Algumas transformações nos RDDs são  flatMap(),  map(),  reduceByKey(),  filter()e  sortByKey() retornam um novo RDD em vez de atualizar o atual."
   ]
  },
  {
   "cell_type": "code",
   "execution_count": 13,
   "id": "4b415e45",
   "metadata": {},
   "outputs": [
    {
     "name": "stdout",
     "output_type": "stream",
     "text": [
      "Project Gutenberg’s\n",
      "Alice’s Adventures in Wonderland\n",
      "by Lewis Carroll\n",
      "This eBook is for the use\n",
      "of anyone anywhere\n",
      "at no cost and with\n",
      "Alice’s Adventures in Wonderland\n",
      "by Lewis Carroll\n",
      "This eBook is for the use\n",
      "of anyone anywhere\n",
      "at no cost and with\n",
      "This eBook is for the use\n",
      "of anyone anywhere\n",
      "at no cost and with\n",
      "Project Gutenberg’s\n",
      "Alice’s Adventures in Wonderland\n",
      "by Lewis Carroll\n",
      "This eBook is for the use\n",
      "of anyone anywhere\n",
      "at no cost and with\n",
      "Alice’s Adventures in Wonderland\n",
      "by Lewis Carroll\n",
      "This eBook is for the use\n",
      "of anyone anywhere\n",
      "at no cost and with\n",
      "This eBook is for the use\n",
      "of anyone anywhere\n",
      "at no cost and with\n",
      "Project Gutenberg’s\n",
      "Alice’s Adventures in Wonderland\n",
      "by Lewis Carroll\n",
      "This eBook is for the use\n",
      "of anyone anywhere\n",
      "at no cost and with\n",
      "Alice’s Adventures in Wonderland\n",
      "by Lewis Carroll\n",
      "This eBook is for the use\n",
      "of anyone anywhere\n",
      "at no cost and with\n",
      "This eBook is for the use\n",
      "of anyone anywhere\n",
      "at no cost and with\n",
      "Project Gutenberg’s\n",
      "Alice’s Adventures in Wonderland\n",
      "by Lewis Carroll\n",
      "This eBook is for the use\n",
      "of anyone anywhere\n",
      "at no cost and with\n",
      "Alice’s Adventures in Wonderland\n",
      "by Lewis Carroll\n",
      "This eBook is for the use\n",
      "of anyone anywhere\n",
      "at no cost and with\n",
      "This eBook is for the use\n",
      "of anyone anywhere\n",
      "at no cost and with\n",
      "Project Gutenberg’s\n",
      "Alice’s Adventures in Wonderland\n",
      "by Lewis Carroll\n",
      "This eBook is for the use\n",
      "of anyone anywhere\n",
      "at no cost and with\n",
      "Alice’s Adventures in Wonderland\n",
      "by Lewis Carroll\n",
      "This eBook is for the use\n",
      "of anyone anywhere\n",
      "at no cost and with\n",
      "This eBook is for the use\n",
      "of anyone anywhere\n",
      "at no cost and with\n",
      "Project Gutenberg’s\n",
      "Alice’s Adventures in Wonderland\n",
      "by Lewis Carroll\n",
      "This eBook is for the use\n",
      "of anyone anywhere\n",
      "at no cost and with\n",
      "Alice’s Adventures in Wonderland\n",
      "by Lewis Carroll\n",
      "This eBook is for the use\n",
      "of anyone anywhere\n",
      "at no cost and with\n",
      "This eBook is for the use\n",
      "of anyone anywhere\n",
      "at no cost and with\n",
      "Project Gutenberg’s\n",
      "Alice’s Adventures in Wonderland\n",
      "by Lewis Carroll\n",
      "This eBook is for the use\n",
      "of anyone anywhere\n",
      "at no cost and with\n",
      "Alice’s Adventures in Wonderland\n",
      "by Lewis Carroll\n",
      "This eBook is for the use\n",
      "of anyone anywhere\n",
      "at no cost and with\n",
      "This eBook is for the use\n",
      "of anyone anywhere\n",
      "at no cost and with\n",
      "Project Gutenberg’s\n",
      "Alice’s Adventures in Wonderland\n",
      "by Lewis Carroll\n",
      "This eBook is for the use\n",
      "of anyone anywhere\n",
      "at no cost and with\n",
      "Alice’s Adventures in Wonderland\n",
      "by Lewis Carroll\n",
      "This eBook is for the use\n",
      "of anyone anywhere\n",
      "at no cost and with\n",
      "This eBook is for the use\n",
      "of anyone anywhere\n",
      "at no cost and with\n",
      "Project Gutenberg’s\n",
      "Alice’s Adventures in Wonderland\n",
      "by Lewis Carroll\n",
      "This eBook is for the use\n",
      "of anyone anywhere\n",
      "at no cost and with\n",
      "Alice’s Adventures in Wonderland\n",
      "by Lewis Carroll\n",
      "This eBook is for the use\n",
      "of anyone anywhere\n",
      "at no cost and with\n",
      "This eBook is for the use\n",
      "of anyone anywhere\n",
      "at no cost and with\n"
     ]
    }
   ],
   "source": [
    "# Imprimir RDD após coletar os dados\n",
    "for element in rdd.collect():\n",
    "    print(element)"
   ]
  },
  {
   "cell_type": "markdown",
   "id": "db334b3b",
   "metadata": {},
   "source": [
    "### flatMap() - a transformação nivela o RDD após aplicar a função e retorna um novo RDD."
   ]
  },
  {
   "cell_type": "code",
   "execution_count": 14,
   "id": "c37f7d66",
   "metadata": {},
   "outputs": [
    {
     "name": "stdout",
     "output_type": "stream",
     "text": [
      "['Project', 'Gutenberg’s', 'Alice’s', 'Adventures', 'in', 'Wonderland', 'by', 'Lewis', 'Carroll', 'This', 'eBook', 'is', 'for', 'the', 'use', 'of', 'anyone', 'anywhere', 'at', 'no', 'cost', 'and', 'with', 'Alice’s', 'Adventures', 'in', 'Wonderland', 'by', 'Lewis', 'Carroll', 'This', 'eBook', 'is', 'for', 'the', 'use', 'of', 'anyone', 'anywhere', 'at', 'no', 'cost', 'and', 'with', 'This', 'eBook', 'is', 'for', 'the', 'use', 'of', 'anyone', 'anywhere', 'at', 'no', 'cost', 'and', 'with', 'Project', 'Gutenberg’s', 'Alice’s', 'Adventures', 'in', 'Wonderland', 'by', 'Lewis', 'Carroll', 'This', 'eBook', 'is', 'for', 'the', 'use', 'of', 'anyone', 'anywhere', 'at', 'no', 'cost', 'and', 'with', 'Alice’s', 'Adventures', 'in', 'Wonderland', 'by', 'Lewis', 'Carroll', 'This', 'eBook', 'is', 'for', 'the', 'use', 'of', 'anyone', 'anywhere', 'at', 'no', 'cost', 'and', 'with', 'This', 'eBook', 'is', 'for', 'the', 'use', 'of', 'anyone', 'anywhere', 'at', 'no', 'cost', 'and', 'with', 'Project', 'Gutenberg’s', 'Alice’s', 'Adventures', 'in', 'Wonderland', 'by', 'Lewis', 'Carroll', 'This', 'eBook', 'is', 'for', 'the', 'use', 'of', 'anyone', 'anywhere', 'at', 'no', 'cost', 'and', 'with', 'Alice’s', 'Adventures', 'in', 'Wonderland', 'by', 'Lewis', 'Carroll', 'This', 'eBook', 'is', 'for', 'the', 'use', 'of', 'anyone', 'anywhere', 'at', 'no', 'cost', 'and', 'with', 'This', 'eBook', 'is', 'for', 'the', 'use', 'of', 'anyone', 'anywhere', 'at', 'no', 'cost', 'and', 'with', 'Project', 'Gutenberg’s', 'Alice’s', 'Adventures', 'in', 'Wonderland', 'by', 'Lewis', 'Carroll', 'This', 'eBook', 'is', 'for', 'the', 'use', 'of', 'anyone', 'anywhere', 'at', 'no', 'cost', 'and', 'with', 'Alice’s', 'Adventures', 'in', 'Wonderland', 'by', 'Lewis', 'Carroll', 'This', 'eBook', 'is', 'for', 'the', 'use', 'of', 'anyone', 'anywhere', 'at', 'no', 'cost', 'and', 'with', 'This', 'eBook', 'is', 'for', 'the', 'use', 'of', 'anyone', 'anywhere', 'at', 'no', 'cost', 'and', 'with', 'Project', 'Gutenberg’s', 'Alice’s', 'Adventures', 'in', 'Wonderland', 'by', 'Lewis', 'Carroll', 'This', 'eBook', 'is', 'for', 'the', 'use', 'of', 'anyone', 'anywhere', 'at', 'no', 'cost', 'and', 'with', 'Alice’s', 'Adventures', 'in', 'Wonderland', 'by', 'Lewis', 'Carroll', 'This', 'eBook', 'is', 'for', 'the', 'use', 'of', 'anyone', 'anywhere', 'at', 'no', 'cost', 'and', 'with', 'This', 'eBook', 'is', 'for', 'the', 'use', 'of', 'anyone', 'anywhere', 'at', 'no', 'cost', 'and', 'with', 'Project', 'Gutenberg’s', 'Alice’s', 'Adventures', 'in', 'Wonderland', 'by', 'Lewis', 'Carroll', 'This', 'eBook', 'is', 'for', 'the', 'use', 'of', 'anyone', 'anywhere', 'at', 'no', 'cost', 'and', 'with', 'Alice’s', 'Adventures', 'in', 'Wonderland', 'by', 'Lewis', 'Carroll', 'This', 'eBook', 'is', 'for', 'the', 'use', 'of', 'anyone', 'anywhere', 'at', 'no', 'cost', 'and', 'with', 'This', 'eBook', 'is', 'for', 'the', 'use', 'of', 'anyone', 'anywhere', 'at', 'no', 'cost', 'and', 'with', 'Project', 'Gutenberg’s', 'Alice’s', 'Adventures', 'in', 'Wonderland', 'by', 'Lewis', 'Carroll', 'This', 'eBook', 'is', 'for', 'the', 'use', 'of', 'anyone', 'anywhere', 'at', 'no', 'cost', 'and', 'with', 'Alice’s', 'Adventures', 'in', 'Wonderland', 'by', 'Lewis', 'Carroll', 'This', 'eBook', 'is', 'for', 'the', 'use', 'of', 'anyone', 'anywhere', 'at', 'no', 'cost', 'and', 'with', 'This', 'eBook', 'is', 'for', 'the', 'use', 'of', 'anyone', 'anywhere', 'at', 'no', 'cost', 'and', 'with', 'Project', 'Gutenberg’s', 'Alice’s', 'Adventures', 'in', 'Wonderland', 'by', 'Lewis', 'Carroll', 'This', 'eBook', 'is', 'for', 'the', 'use', 'of', 'anyone', 'anywhere', 'at', 'no', 'cost', 'and', 'with', 'Alice’s', 'Adventures', 'in', 'Wonderland', 'by', 'Lewis', 'Carroll', 'This', 'eBook', 'is', 'for', 'the', 'use', 'of', 'anyone', 'anywhere', 'at', 'no', 'cost', 'and', 'with', 'This', 'eBook', 'is', 'for', 'the', 'use', 'of', 'anyone', 'anywhere', 'at', 'no', 'cost', 'and', 'with', 'Project', 'Gutenberg’s', 'Alice’s', 'Adventures', 'in', 'Wonderland', 'by', 'Lewis', 'Carroll', 'This', 'eBook', 'is', 'for', 'the', 'use', 'of', 'anyone', 'anywhere', 'at', 'no', 'cost', 'and', 'with', 'Alice’s', 'Adventures', 'in', 'Wonderland', 'by', 'Lewis', 'Carroll', 'This', 'eBook', 'is', 'for', 'the', 'use', 'of', 'anyone', 'anywhere', 'at', 'no', 'cost', 'and', 'with', 'This', 'eBook', 'is', 'for', 'the', 'use', 'of', 'anyone', 'anywhere', 'at', 'no', 'cost', 'and', 'with']\n"
     ]
    }
   ],
   "source": [
    "rdd2 = rdd.flatMap(lambda x: x.split(\" \"))\n",
    "#Print rdd2 result to console\n",
    "print(rdd2.collect())"
   ]
  },
  {
   "cell_type": "markdown",
   "id": "9cc76138",
   "metadata": {},
   "source": [
    "### map() - a transformação é usada para aplicar qualquer operação complexa, como adicionar uma coluna, atualizar uma coluna, etc., a saída das transformações do mapa sempre teria o mesmo número de registros que a entrada."
   ]
  },
  {
   "cell_type": "code",
   "execution_count": 15,
   "id": "18fe114a",
   "metadata": {},
   "outputs": [
    {
     "name": "stdout",
     "output_type": "stream",
     "text": [
      "[('Project', 1), ('Gutenberg’s', 1), ('Alice’s', 1), ('Adventures', 1), ('in', 1), ('Wonderland', 1), ('by', 1), ('Lewis', 1), ('Carroll', 1), ('This', 1), ('eBook', 1), ('is', 1), ('for', 1), ('the', 1), ('use', 1), ('of', 1), ('anyone', 1), ('anywhere', 1), ('at', 1), ('no', 1), ('cost', 1), ('and', 1), ('with', 1), ('Alice’s', 1), ('Adventures', 1), ('in', 1), ('Wonderland', 1), ('by', 1), ('Lewis', 1), ('Carroll', 1), ('This', 1), ('eBook', 1), ('is', 1), ('for', 1), ('the', 1), ('use', 1), ('of', 1), ('anyone', 1), ('anywhere', 1), ('at', 1), ('no', 1), ('cost', 1), ('and', 1), ('with', 1), ('This', 1), ('eBook', 1), ('is', 1), ('for', 1), ('the', 1), ('use', 1), ('of', 1), ('anyone', 1), ('anywhere', 1), ('at', 1), ('no', 1), ('cost', 1), ('and', 1), ('with', 1), ('Project', 1), ('Gutenberg’s', 1), ('Alice’s', 1), ('Adventures', 1), ('in', 1), ('Wonderland', 1), ('by', 1), ('Lewis', 1), ('Carroll', 1), ('This', 1), ('eBook', 1), ('is', 1), ('for', 1), ('the', 1), ('use', 1), ('of', 1), ('anyone', 1), ('anywhere', 1), ('at', 1), ('no', 1), ('cost', 1), ('and', 1), ('with', 1), ('Alice’s', 1), ('Adventures', 1), ('in', 1), ('Wonderland', 1), ('by', 1), ('Lewis', 1), ('Carroll', 1), ('This', 1), ('eBook', 1), ('is', 1), ('for', 1), ('the', 1), ('use', 1), ('of', 1), ('anyone', 1), ('anywhere', 1), ('at', 1), ('no', 1), ('cost', 1), ('and', 1), ('with', 1), ('This', 1), ('eBook', 1), ('is', 1), ('for', 1), ('the', 1), ('use', 1), ('of', 1), ('anyone', 1), ('anywhere', 1), ('at', 1), ('no', 1), ('cost', 1), ('and', 1), ('with', 1), ('Project', 1), ('Gutenberg’s', 1), ('Alice’s', 1), ('Adventures', 1), ('in', 1), ('Wonderland', 1), ('by', 1), ('Lewis', 1), ('Carroll', 1), ('This', 1), ('eBook', 1), ('is', 1), ('for', 1), ('the', 1), ('use', 1), ('of', 1), ('anyone', 1), ('anywhere', 1), ('at', 1), ('no', 1), ('cost', 1), ('and', 1), ('with', 1), ('Alice’s', 1), ('Adventures', 1), ('in', 1), ('Wonderland', 1), ('by', 1), ('Lewis', 1), ('Carroll', 1), ('This', 1), ('eBook', 1), ('is', 1), ('for', 1), ('the', 1), ('use', 1), ('of', 1), ('anyone', 1), ('anywhere', 1), ('at', 1), ('no', 1), ('cost', 1), ('and', 1), ('with', 1), ('This', 1), ('eBook', 1), ('is', 1), ('for', 1), ('the', 1), ('use', 1), ('of', 1), ('anyone', 1), ('anywhere', 1), ('at', 1), ('no', 1), ('cost', 1), ('and', 1), ('with', 1), ('Project', 1), ('Gutenberg’s', 1), ('Alice’s', 1), ('Adventures', 1), ('in', 1), ('Wonderland', 1), ('by', 1), ('Lewis', 1), ('Carroll', 1), ('This', 1), ('eBook', 1), ('is', 1), ('for', 1), ('the', 1), ('use', 1), ('of', 1), ('anyone', 1), ('anywhere', 1), ('at', 1), ('no', 1), ('cost', 1), ('and', 1), ('with', 1), ('Alice’s', 1), ('Adventures', 1), ('in', 1), ('Wonderland', 1), ('by', 1), ('Lewis', 1), ('Carroll', 1), ('This', 1), ('eBook', 1), ('is', 1), ('for', 1), ('the', 1), ('use', 1), ('of', 1), ('anyone', 1), ('anywhere', 1), ('at', 1), ('no', 1), ('cost', 1), ('and', 1), ('with', 1), ('This', 1), ('eBook', 1), ('is', 1), ('for', 1), ('the', 1), ('use', 1), ('of', 1), ('anyone', 1), ('anywhere', 1), ('at', 1), ('no', 1), ('cost', 1), ('and', 1), ('with', 1), ('Project', 1), ('Gutenberg’s', 1), ('Alice’s', 1), ('Adventures', 1), ('in', 1), ('Wonderland', 1), ('by', 1), ('Lewis', 1), ('Carroll', 1), ('This', 1), ('eBook', 1), ('is', 1), ('for', 1), ('the', 1), ('use', 1), ('of', 1), ('anyone', 1), ('anywhere', 1), ('at', 1), ('no', 1), ('cost', 1), ('and', 1), ('with', 1), ('Alice’s', 1), ('Adventures', 1), ('in', 1), ('Wonderland', 1), ('by', 1), ('Lewis', 1), ('Carroll', 1), ('This', 1), ('eBook', 1), ('is', 1), ('for', 1), ('the', 1), ('use', 1), ('of', 1), ('anyone', 1), ('anywhere', 1), ('at', 1), ('no', 1), ('cost', 1), ('and', 1), ('with', 1), ('This', 1), ('eBook', 1), ('is', 1), ('for', 1), ('the', 1), ('use', 1), ('of', 1), ('anyone', 1), ('anywhere', 1), ('at', 1), ('no', 1), ('cost', 1), ('and', 1), ('with', 1), ('Project', 1), ('Gutenberg’s', 1), ('Alice’s', 1), ('Adventures', 1), ('in', 1), ('Wonderland', 1), ('by', 1), ('Lewis', 1), ('Carroll', 1), ('This', 1), ('eBook', 1), ('is', 1), ('for', 1), ('the', 1), ('use', 1), ('of', 1), ('anyone', 1), ('anywhere', 1), ('at', 1), ('no', 1), ('cost', 1), ('and', 1), ('with', 1), ('Alice’s', 1), ('Adventures', 1), ('in', 1), ('Wonderland', 1), ('by', 1), ('Lewis', 1), ('Carroll', 1), ('This', 1), ('eBook', 1), ('is', 1), ('for', 1), ('the', 1), ('use', 1), ('of', 1), ('anyone', 1), ('anywhere', 1), ('at', 1), ('no', 1), ('cost', 1), ('and', 1), ('with', 1), ('This', 1), ('eBook', 1), ('is', 1), ('for', 1), ('the', 1), ('use', 1), ('of', 1), ('anyone', 1), ('anywhere', 1), ('at', 1), ('no', 1), ('cost', 1), ('and', 1), ('with', 1), ('Project', 1), ('Gutenberg’s', 1), ('Alice’s', 1), ('Adventures', 1), ('in', 1), ('Wonderland', 1), ('by', 1), ('Lewis', 1), ('Carroll', 1), ('This', 1), ('eBook', 1), ('is', 1), ('for', 1), ('the', 1), ('use', 1), ('of', 1), ('anyone', 1), ('anywhere', 1), ('at', 1), ('no', 1), ('cost', 1), ('and', 1), ('with', 1), ('Alice’s', 1), ('Adventures', 1), ('in', 1), ('Wonderland', 1), ('by', 1), ('Lewis', 1), ('Carroll', 1), ('This', 1), ('eBook', 1), ('is', 1), ('for', 1), ('the', 1), ('use', 1), ('of', 1), ('anyone', 1), ('anywhere', 1), ('at', 1), ('no', 1), ('cost', 1), ('and', 1), ('with', 1), ('This', 1), ('eBook', 1), ('is', 1), ('for', 1), ('the', 1), ('use', 1), ('of', 1), ('anyone', 1), ('anywhere', 1), ('at', 1), ('no', 1), ('cost', 1), ('and', 1), ('with', 1), ('Project', 1), ('Gutenberg’s', 1), ('Alice’s', 1), ('Adventures', 1), ('in', 1), ('Wonderland', 1), ('by', 1), ('Lewis', 1), ('Carroll', 1), ('This', 1), ('eBook', 1), ('is', 1), ('for', 1), ('the', 1), ('use', 1), ('of', 1), ('anyone', 1), ('anywhere', 1), ('at', 1), ('no', 1), ('cost', 1), ('and', 1), ('with', 1), ('Alice’s', 1), ('Adventures', 1), ('in', 1), ('Wonderland', 1), ('by', 1), ('Lewis', 1), ('Carroll', 1), ('This', 1), ('eBook', 1), ('is', 1), ('for', 1), ('the', 1), ('use', 1), ('of', 1), ('anyone', 1), ('anywhere', 1), ('at', 1), ('no', 1), ('cost', 1), ('and', 1), ('with', 1), ('This', 1), ('eBook', 1), ('is', 1), ('for', 1), ('the', 1), ('use', 1), ('of', 1), ('anyone', 1), ('anywhere', 1), ('at', 1), ('no', 1), ('cost', 1), ('and', 1), ('with', 1), ('Project', 1), ('Gutenberg’s', 1), ('Alice’s', 1), ('Adventures', 1), ('in', 1), ('Wonderland', 1), ('by', 1), ('Lewis', 1), ('Carroll', 1), ('This', 1), ('eBook', 1), ('is', 1), ('for', 1), ('the', 1), ('use', 1), ('of', 1), ('anyone', 1), ('anywhere', 1), ('at', 1), ('no', 1), ('cost', 1), ('and', 1), ('with', 1), ('Alice’s', 1), ('Adventures', 1), ('in', 1), ('Wonderland', 1), ('by', 1), ('Lewis', 1), ('Carroll', 1), ('This', 1), ('eBook', 1), ('is', 1), ('for', 1), ('the', 1), ('use', 1), ('of', 1), ('anyone', 1), ('anywhere', 1), ('at', 1), ('no', 1), ('cost', 1), ('and', 1), ('with', 1), ('This', 1), ('eBook', 1), ('is', 1), ('for', 1), ('the', 1), ('use', 1), ('of', 1), ('anyone', 1), ('anywhere', 1), ('at', 1), ('no', 1), ('cost', 1), ('and', 1), ('with', 1)]\n"
     ]
    }
   ],
   "source": [
    "rdd3 = rdd2.map(lambda x: (x,1))\n",
    "#Print rdd3 result to console\n",
    "print(rdd3.collect())"
   ]
  },
  {
   "cell_type": "markdown",
   "id": "09cd63d2",
   "metadata": {},
   "source": [
    "### reduceByKey() - mescla os valores de cada chave com a função especificada. "
   ]
  },
  {
   "cell_type": "code",
   "execution_count": 16,
   "id": "acf96b44",
   "metadata": {},
   "outputs": [
    {
     "name": "stdout",
     "output_type": "stream",
     "text": [
      "[('Project', 9), ('Gutenberg’s', 9), ('Alice’s', 18), ('Adventures', 18), ('in', 18), ('Wonderland', 18), ('by', 18), ('Lewis', 18), ('Carroll', 18), ('This', 27), ('eBook', 27), ('is', 27), ('for', 27), ('the', 27), ('use', 27), ('of', 27), ('anyone', 27), ('anywhere', 27), ('at', 27), ('no', 27), ('cost', 27), ('and', 27), ('with', 27)]\n"
     ]
    }
   ],
   "source": [
    "rdd4 = rdd3.reduceByKey(lambda a,b: a + b)\n",
    "#Print rdd4 result to console\n",
    "print(rdd4.collect())"
   ]
  },
  {
   "cell_type": "markdown",
   "id": "87f98ae4",
   "metadata": {},
   "source": [
    "### sortByKey() - a transformação é usada para classificar elementos RDD na chave. "
   ]
  },
  {
   "cell_type": "code",
   "execution_count": 17,
   "id": "1b6ef625",
   "metadata": {},
   "outputs": [
    {
     "name": "stdout",
     "output_type": "stream",
     "text": [
      "[(9, 'Project'), (9, 'Gutenberg’s'), (18, 'Alice’s'), (18, 'Adventures'), (18, 'in'), (18, 'Wonderland'), (18, 'by'), (18, 'Lewis'), (18, 'Carroll'), (27, 'This'), (27, 'eBook'), (27, 'is'), (27, 'for'), (27, 'the'), (27, 'use'), (27, 'of'), (27, 'anyone'), (27, 'anywhere'), (27, 'at'), (27, 'no'), (27, 'cost'), (27, 'and'), (27, 'with')]\n"
     ]
    }
   ],
   "source": [
    "rdd5 = rdd4.map(lambda x: (x[1],x[0])).sortByKey()\n",
    "#Print rdd5 result to console\n",
    "print(rdd5.collect())"
   ]
  },
  {
   "cell_type": "markdown",
   "id": "d56833ce",
   "metadata": {},
   "source": [
    "### filter() -  a transformação é usada para filtrar os registros em um RDD. Em nosso exemplo, estamos filtrando todas as palavras que começam com “a”."
   ]
  },
  {
   "cell_type": "code",
   "execution_count": 18,
   "id": "628a12e7",
   "metadata": {},
   "outputs": [
    {
     "name": "stdout",
     "output_type": "stream",
     "text": [
      "[(18, 'Wonderland'), (18, 'Carroll'), (27, 'anyone'), (27, 'anywhere'), (27, 'at'), (27, 'and')]\n"
     ]
    }
   ],
   "source": [
    "rdd6 = rdd5.filter(lambda x : 'a' in x[1])\n",
    "print(rdd6.collect())"
   ]
  },
  {
   "cell_type": "markdown",
   "id": "b0384c3d",
   "metadata": {},
   "source": [
    "## Ações de RDD\n",
    "retorna os valores de um RDD para um nó de driver. Em outras palavras, qualquer função RDD que retorne não RDD[T] é considerada uma ação. \n",
    "\n",
    "Algumas ações em RDDs são count(), collect(), first(), max()e reduce()muito mais."
   ]
  },
  {
   "cell_type": "markdown",
   "id": "a1e5ae87",
   "metadata": {},
   "source": [
    "### count () – Retorna o número de registros em um RDD"
   ]
  },
  {
   "cell_type": "code",
   "execution_count": 19,
   "id": "a033191c",
   "metadata": {},
   "outputs": [
    {
     "name": "stdout",
     "output_type": "stream",
     "text": [
      "Count : 6\n"
     ]
    }
   ],
   "source": [
    "# Action - count\n",
    "print(\"Count : \"+str(rdd6.count()))"
   ]
  },
  {
   "cell_type": "markdown",
   "id": "c1cbf794",
   "metadata": {},
   "source": [
    "### first () – Retorna o primeiro registro."
   ]
  },
  {
   "cell_type": "code",
   "execution_count": 20,
   "id": "36e1ddbf",
   "metadata": {},
   "outputs": [
    {
     "name": "stdout",
     "output_type": "stream",
     "text": [
      "First Record : 18,Wonderland\n"
     ]
    }
   ],
   "source": [
    "# Action - first\n",
    "firstRec = rdd6.first()\n",
    "print(\"First Record : \"+str(firstRec[0]) + \",\"+ firstRec[1])"
   ]
  },
  {
   "cell_type": "markdown",
   "id": "520e6696",
   "metadata": {},
   "source": [
    "### max () – Retorna o registro máximo."
   ]
  },
  {
   "cell_type": "code",
   "execution_count": 21,
   "id": "f6596e99",
   "metadata": {},
   "outputs": [
    {
     "name": "stdout",
     "output_type": "stream",
     "text": [
      "Max Record : 27,at\n"
     ]
    }
   ],
   "source": [
    "# Action - max\n",
    "datMax = rdd6.max()\n",
    "print(\"Max Record : \"+str(datMax[0]) + \",\"+ datMax[1])"
   ]
  },
  {
   "cell_type": "markdown",
   "id": "26a73fb7",
   "metadata": {},
   "source": [
    "### reduce () – Reduz os registros para single, podemos usar isso para contar ou somar."
   ]
  },
  {
   "cell_type": "code",
   "execution_count": 22,
   "id": "b18ab291",
   "metadata": {},
   "outputs": [
    {
     "name": "stdout",
     "output_type": "stream",
     "text": [
      "dataReduce Record : 144\n"
     ]
    }
   ],
   "source": [
    "# Action - reduce\n",
    "totalWordCount = rdd6.reduce(lambda a,b: (a[0]+b[0],a[1]))\n",
    "print(\"dataReduce Record : \"+str(totalWordCount[0]))"
   ]
  },
  {
   "cell_type": "markdown",
   "id": "91f9f1cf",
   "metadata": {},
   "source": [
    "### take () – Retorna o registro especificado como argumento."
   ]
  },
  {
   "cell_type": "code",
   "execution_count": 23,
   "id": "e8442ffd",
   "metadata": {},
   "outputs": [
    {
     "name": "stdout",
     "output_type": "stream",
     "text": [
      "data3 Key:18, Value:Wonderland\n",
      "data3 Key:18, Value:Carroll\n",
      "data3 Key:27, Value:anyone\n"
     ]
    }
   ],
   "source": [
    "# Action - take\n",
    "data3 = rdd6.take(3)\n",
    "for f in data3:\n",
    "    print(\"data3 Key:\"+ str(f[0]) +\", Value:\"+f[1])"
   ]
  },
  {
   "cell_type": "markdown",
   "id": "f6f9691b",
   "metadata": {},
   "source": [
    "### collect () – Retorna todos os dados do RDD como um array. Tenha cuidado ao usar essa ação quando estiver trabalhando com RDD enorme com milhões e bilhões de dados, pois pode ficar sem memória no driver"
   ]
  },
  {
   "cell_type": "code",
   "execution_count": 24,
   "id": "45c583f3",
   "metadata": {},
   "outputs": [
    {
     "name": "stdout",
     "output_type": "stream",
     "text": [
      "Key:18, Value:Wonderland\n",
      "Key:18, Value:Carroll\n",
      "Key:27, Value:anyone\n",
      "Key:27, Value:anywhere\n",
      "Key:27, Value:at\n",
      "Key:27, Value:and\n"
     ]
    }
   ],
   "source": [
    "# Action - collect\n",
    "data = rdd6.collect()\n",
    "for f in data:\n",
    "    print(\"Key:\"+ str(f[0]) +\", Value:\"+f[1])"
   ]
  },
  {
   "cell_type": "markdown",
   "id": "d9cc5754",
   "metadata": {},
   "source": [
    "### saveAsTextFile () – Usando a ação saveAsTestFile, podemos escrever o RDD em um arquivo de texto."
   ]
  },
  {
   "cell_type": "code",
   "execution_count": 25,
   "id": "eba11e5f",
   "metadata": {},
   "outputs": [],
   "source": [
    "rdd6.saveAsTextFile(\"/tmp/wordCount\")"
   ]
  }
 ],
 "metadata": {
  "kernelspec": {
   "display_name": "Python 3",
   "language": "python",
   "name": "python3"
  },
  "language_info": {
   "codemirror_mode": {
    "name": "ipython",
    "version": 3
   },
   "file_extension": ".py",
   "mimetype": "text/x-python",
   "name": "python",
   "nbconvert_exporter": "python",
   "pygments_lexer": "ipython3",
   "version": "3.8.8"
  }
 },
 "nbformat": 4,
 "nbformat_minor": 5
}
