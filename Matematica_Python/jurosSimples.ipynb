{
  "nbformat": 4,
  "nbformat_minor": 0,
  "metadata": {
    "colab": {
      "name": "jurosSimples.ipynb",
      "provenance": [],
      "authorship_tag": "ABX9TyO9KyXrE7oQiuVR70pC1l4j",
      "include_colab_link": true
    },
    "kernelspec": {
      "name": "python3",
      "display_name": "Python 3"
    },
    "language_info": {
      "name": "python"
    }
  },
  "cells": [
    {
      "cell_type": "markdown",
      "metadata": {
        "id": "view-in-github",
        "colab_type": "text"
      },
      "source": [
        "<a href=\"https://colab.research.google.com/github/PatrickFRR/Matematica_Python/blob/main/jurosSimples.ipynb\" target=\"_parent\"><img src=\"https://colab.research.google.com/assets/colab-badge.svg\" alt=\"Open In Colab\"/></a>"
      ]
    },
    {
      "cell_type": "code",
      "source": [
        "# Determinando o tipo de oporação\n",
        "\n",
        "operacao = int(input(\"Digite o número da operação desejada: \\n 1 = saber o montante final \\n 2 = saber a taxa mensal de juros \\n 3 = saber capital iniciar \\n \"))\n",
        "\n",
        "entrada = operacao \n",
        "\n",
        "#Operação 1 = Calculando o montante final\n",
        "if entrada == 1:\n",
        "  C = float(input(\"Qual era a quantia de capital inicial aplicado? \"))\n",
        "  t = int(input(\"Quanto tempo em meses o capital inicial foi aplicado? \"))\n",
        "  i = float(input(\"Qual a taxa mensal de juros aplicada? \"))\n",
        "  #Imprimir dados coletados\n",
        "  print(f\"Capital inicial aplicado = R$ {C:,.2f}\")\n",
        "  print(\"Total de meses de aplicação =\", t)\n",
        "  print(f\"Taxa mensal de juros aplicada = {i:,.1f}%\")\n",
        "  #Calcular montante final\n",
        "  i = i / 100\n",
        "  J = C * i * t\n",
        "  M = C + J\n",
        "  #Imprimir resultado da operação solicitada\n",
        "  print(f\"O montante final da aplicação será de  R$ {M:,.2f}\")\n",
        "\n",
        "#Operação 2 = Calculando a taxa mensal de juros\n",
        "if entrada == 2: \n",
        "  #Solicitar entrada de dados\n",
        "   M = int(input(\"Qual era o seu montante ao final do período? \"))\n",
        "   C = int(input(\"Qual era a quantia de capital inicial aplicado? \"))\n",
        "   t = int(input(\"Quanto tempo em meses o capital inicial foi aplicado? \"))\n",
        "  #Imprimir dados coletados\n",
        "   print(f\"Montante final = R$ {M:,.2f}\")\n",
        "   print(f\"Capital inicial aplicado = R$ {C:,.2f}\")\n",
        "   print(\"Prazo da operação =\", t)\n",
        "  #Calcular taxa de juros mensal aplicada\n",
        "   i = (int(M) /int(C) - 1)/ int(t)\n",
        "   i = i * 100\n",
        "  #Imprimir resultado da operação solicitada\n",
        "   print(f'A taxa mensal de juros foi de {i:,.1f}%')\n",
        "\n",
        "#Operação 3 = Calculando o Capital Inicial\n",
        "if entrada == 3:\n",
        " #Solicitar entrada de dados\n",
        "  M = int(input(\"Qual era o seu montante ao final do período? \"))\n",
        "  t = int(input(\"Quanto tempo em meses o capital inicial foi aplicado? \"))\n",
        "  i = float(input(\"Qual a taxa mensal de juros aplicada? \"))\n",
        "  #Imprimir dados coletados\n",
        "  print(f\"Montante final = R$ {M:,.2f}\")\n",
        "  print(\"Prazo da operação =\", t)\n",
        "  print(f\"Taxa mensal de juros aplicada = {i:,.1f}%\")\n",
        "  #Calcular taxa de juros mensal aplicada\n",
        "  i = i / 100\n",
        "  C = M / (1 + i * t)\n",
        "  #Imprimir resultado da operação solicitada\n",
        "  print(f\"Capital inicial aplicado foi de R$ {C:,.2f}\")\n",
        "\n",
        "else: \n",
        "  print(\"Número digita não corresponde a nenhuma operação, tente novamente!!\")\n"
      ],
      "metadata": {
        "id": "zdJjLGwwsNnO",
        "colab": {
          "base_uri": "https://localhost:8080/"
        },
        "outputId": "7dddbc20-bc5f-4ebc-c744-04c9b97cc690"
      },
      "execution_count": 71,
      "outputs": [
        {
          "output_type": "stream",
          "name": "stdout",
          "text": [
            "Digite o número da operação desejada: \n",
            " 1 = saber o montante final \n",
            " 2 = saber a taxa mensal de juros \n",
            " 3 = saber capital iniciar \n",
            " 2\n",
            "Qual era o seu montante ao final do período? 288\n",
            "Qual era a quantia de capital inicial aplicado? 200\n",
            "Quanto tempo em meses o capital inicial foi aplicado? 8\n",
            "Montante final = R$ 288.00\n",
            "Capital inicial aplicado = R$ 200.00\n",
            "Prazo da operação = 8\n",
            "A taxa mensal de juros foi de 5.5%\n",
            "Número digita não corresponde a nenhuma operação, tente novamente!!\n"
          ]
        }
      ]
    }
  ]
}