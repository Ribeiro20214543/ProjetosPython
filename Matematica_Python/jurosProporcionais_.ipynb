{
  "nbformat": 4,
  "nbformat_minor": 0,
  "metadata": {
    "colab": {
      "name": "jurosProporcionais .ipynb",
      "provenance": [],
      "authorship_tag": "ABX9TyN/Q0IgxwSPYzHzoX1A1Y6b",
      "include_colab_link": true
    },
    "kernelspec": {
      "name": "python3",
      "display_name": "Python 3"
    },
    "language_info": {
      "name": "python"
    }
  },
  "cells": [
    {
      "cell_type": "markdown",
      "metadata": {
        "id": "view-in-github",
        "colab_type": "text"
      },
      "source": [
        "<a href=\"https://colab.research.google.com/github/PatrickFRR/Matematica_Python/blob/main/jurosProporcionais_.ipynb\" target=\"_parent\"><img src=\"https://colab.research.google.com/assets/colab-badge.svg\" alt=\"Open In Colab\"/></a>"
      ]
    },
    {
      "cell_type": "code",
      "source": [
        "# Determinando o tipo de oporação\n",
        "\n",
        "operacao = int(input(\"Digite o número da operação desejada:\\n 0 = juros diário \\n 1 = juros mensal \\n 2 = juros bimestral \\n 3 = juros trimestral \\n 4 = semestral \\n 5 = juros anual\\n\"))\n",
        "\n",
        "entrada = operacao \n",
        "\n",
        "#Operação 0 = Calculando o juros diário\n",
        "if entrada == 0:\n",
        "  i = float(input(\"Qual a taxa de juros aplicada? \"))\n",
        "  t = int(input(\"Qual o total de dias aplicado pela taxa de juros? \"))\n",
        "  #Imprimir dados coletados\n",
        "  print(f\"Taxa de juros aplicada = {i:,.1f}%\")\n",
        "  print(\"Total de dias de aplicação =\", t)\n",
        "  #Calcular taxa de juros mensal\n",
        "  J = t * i \n",
        "  #Imprimir resultado da operação solicitada\n",
        "  print(f\"A taxa de juros mensal aplicada é de R$ {J:,.1f} % a.m\")\n",
        "\n",
        "#Operação 1 = Calculando o juros mensal\n",
        "if entrada == 1:\n",
        "  i = float(input(\"Qual a taxa de juros aplicada? \"))\n",
        "  t = int(input(\"Qual o total de meses aplicado pela taxa de juros? \"))\n",
        "  #Imprimir dados coletados\n",
        "  print(\"Total de meses de aplicação =\", t)\n",
        "  print(f\"Taxa de juros aplicada = {i:,.1f}%\")\n",
        "  #Calcular taxa de juros mensal\n",
        "  J = (1 * i) / t\n",
        "  #Imprimir resultado da operação solicitada\n",
        "  print(f\"A taxa de juros mensal aplicada é de R$ {J:,.1f} % a.m\")\n",
        "\n",
        "#Operação 2 = Calculando o juros bimestral\n",
        "if entrada == 2:\n",
        "  i = float(input(\"Qual a taxa de juros aplicada? \"))\n",
        "  t = int(input(\"Qual o total de bimestres aplicado pela taxa de juros? \"))\n",
        "  #Imprimir dados coletados\n",
        "  print(\"Total de bimestre de aplicação =\", t)\n",
        "  print(f\"Taxa de juros aplicada = {i:,.1f}%\")\n",
        "  #Calcular taxa de juros bimestral\n",
        "  J = (1 * i) / t\n",
        "  #Imprimir resultado da operação solicitada\n",
        "  print(f\"A taxa de juros bimestral aplicada é de R$ {J:,.1f} %\")\n",
        "\n",
        "#Operação 3 = Calculando o juros trimestral\n",
        "if entrada == 3:\n",
        "  i = float(input(\"Qual a taxa de juros aplicada? \"))\n",
        "  t = int(input(\"Qual o total de semestres aplicado pela taxa de juros? \"))\n",
        "  #Imprimir dados coletados\n",
        "  print(\"Total de semestre de aplicação =\", t)\n",
        "  print(f\"Taxa de juros aplicada = {i:,.1f}%\")\n",
        "  #Calcular taxa de juros mensal\n",
        "  J = (1 * i) / t\n",
        "  #Imprimir resultado da operação solicitada\n",
        "  print(f\"A taxa de juros trimestral aplicada é de R$ {J:,.1f} %\")\n",
        "\n",
        "#Operação 4 = Calculando o juros semestral\n",
        "if entrada == 4:\n",
        "  i = float(input(\"Qual a taxa de juros aplicada? \"))\n",
        "  t = int(input(\"Qual o total de semestres aplicado pela taxa de juros? \"))\n",
        "  #Imprimir dados coletados\n",
        "  print(\"Total de meses de aplicação =\", t)\n",
        "  print(f\"Taxa de juros aplicada = {i:,.1f}%\")\n",
        "  #Calcular taxa de juros mensal\n",
        "  J = (1 * i) / t\n",
        "  #Imprimir resultado da operação solicitada\n",
        "  print(f\"A taxa de juros semestral aplicada é de R$ {J:,.1f} %\")\n",
        "\n",
        "#Operação 5 = Calculando o juros anual\n",
        "if entrada == 5:\n",
        "  i = float(input(\"Qual a taxa de juros aplicada? \"))\n",
        "  #Imprimir dados coletados\n",
        "  print(f\"Taxa de juros aplicada = {i:,.1f}%\")\n",
        "  #Calcular taxa de juros mensal\n",
        "  J = (1 * i * 12) / 100\n",
        "  #Imprimir resultado da operação solicitada\n",
        "  print(f\"A taxa de juros trimestral aplicada é de R$ {J:,.1f} %\")\n",
        "\n",
        "\n",
        "else: \n",
        "  print(\"Número digita não corresponde a nenhuma operação, tente novamente!!\")\n"
      ],
      "metadata": {
        "colab": {
          "base_uri": "https://localhost:8080/"
        },
        "id": "rtHb9RvoEsKn",
        "outputId": "1b47809b-3825-418c-be57-df9c29330c86"
      },
      "execution_count": 9,
      "outputs": [
        {
          "output_type": "stream",
          "name": "stdout",
          "text": [
            "Digite o número da operação desejada:\n",
            " 0 = juros diário \n",
            " 1 = juros mensal \n",
            " 2 = juros bimestral \n",
            " 3 = juros trimestral \n",
            " 4 = semestral \n",
            " 5 = juros anual\n",
            "3\n",
            "Qual a taxa de juros aplicada? 16\n",
            "Qual o total de semestres aplicado pela taxa de juros? 4\n",
            "Total de semestre de aplicação = 4\n",
            "Taxa de juros aplicada = 16.0%\n",
            "A taxa de juros trimestral aplicada é de R$ 4.0 %\n",
            "Número digita não corresponde a nenhuma operação, tente novamente!!\n"
          ]
        }
      ]
    }
  ]
}