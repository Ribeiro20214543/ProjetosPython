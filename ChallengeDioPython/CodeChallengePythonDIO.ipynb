{
 "cells": [
  {
   "cell_type": "markdown",
   "id": "c9e41ac8",
   "metadata": {},
   "source": [
    "# Code Challenge Python Dio"
   ]
  },
  {
   "cell_type": "markdown",
   "id": "c0e41598",
   "metadata": {},
   "source": [
    "### 1. Tempo Estimado de Entrega"
   ]
  },
  {
   "cell_type": "code",
   "execution_count": 1,
   "id": "06f4a4b9",
   "metadata": {},
   "outputs": [
    {
     "name": "stdout",
     "output_type": "stream",
     "text": [
      "Digite o nome do restaurante: McDonalds\n",
      "Digite o tempo estimado de entrega em minutos: 10\n",
      "O restaurante McDonalds entrega em 10 minutos.\n"
     ]
    }
   ],
   "source": [
    "nomeRestaurante = input()\n",
    "tempoEstimadoEntrega = int(input())\n",
    "\n",
    "\n",
    "print(f\"O restaurante {nomeRestaurante} entrega em {tempoEstimadoEntrega} minutos.\")\n",
    "\n",
    "#//TODO: Imprimir a saída no padrão definido no enunciado deste desafio.\n",
    "#//Dica: Para simplificar a formatação, utilize o conceito de interpolação de strings."
   ]
  },
  {
   "cell_type": "markdown",
   "id": "f677ed7f",
   "metadata": {},
   "source": [
    "### 2. Calcular o Preço Final de um Pedido"
   ]
  },
  {
   "cell_type": "code",
   "execution_count": 6,
   "id": "185c49b0",
   "metadata": {},
   "outputs": [
    {
     "name": "stdout",
     "output_type": "stream",
     "text": [
      "8.00\n",
      "1\n",
      "4.00\n",
      "4\n",
      "50.00\n",
      "O preço final do pedido é R$ 24.00. Seu troco é R$ 26.00.\n"
     ]
    }
   ],
   "source": [
    "valorHamburguer = float(input())\n",
    "quantidadeHamburguer = int(input())\n",
    "valorBebida = float(input())\n",
    "quantidadeBebida = int(input())\n",
    "valorPago = float(input())\n",
    "\n",
    "totalHamburguer = valorHamburguer * quantidadeHamburguer\n",
    "totalBebida = valorBebida * quantidadeBebida\n",
    "precoTotal = totalHamburguer + totalBebida\n",
    "troco = valorPago - precoTotal\n",
    "\n",
    "print(f\"O preço final do pedido é R$ {precoTotal:.2f}. Seu troco é R$ {troco:.2f}.\")"
   ]
  },
  {
   "cell_type": "markdown",
   "id": "a7f16d8c",
   "metadata": {},
   "source": [
    "### 3.Ganhe uma Sobremesa Especial!"
   ]
  },
  {
   "cell_type": "code",
   "execution_count": 8,
   "id": "966ce400",
   "metadata": {},
   "outputs": [
    {
     "name": "stdout",
     "output_type": "stream",
     "text": [
      "30\n",
      "Que pena, você nao ganhou nenhum brinde especial.\n"
     ]
    }
   ],
   "source": [
    "valorPedido = float(input())\n",
    "\n",
    "if valorPedido >= 50.00:\n",
    "    print(\"Parabens, você ganhou uma sobremesa gratis!\")\n",
    "else:\n",
    "    print(\"Que pena, você nao ganhou nenhum brinde especial.\")\n"
   ]
  },
  {
   "cell_type": "markdown",
   "id": "1506f539",
   "metadata": {},
   "source": [
    "### 4. Gerenciamento de Pedidos de Comida Online"
   ]
  },
  {
   "cell_type": "code",
   "execution_count": 9,
   "id": "e3b95f2d",
   "metadata": {},
   "outputs": [
    {
     "name": "stdout",
     "output_type": "stream",
     "text": [
      "3\n",
      "Pizza 29.90\n",
      "Hambúrguer 15.50\n",
      "Refrigerante 7.00\n",
      "10%\n",
      "Valor total: 47.16\n"
     ]
    }
   ],
   "source": [
    "def main():\n",
    "    n = int(input())\n",
    "\n",
    "    total = 0\n",
    "\n",
    "    for i in range(1, n + 1):\n",
    "        pedido = input().split(\" \")\n",
    "        nome = pedido[0]\n",
    "        valor = float(pedido[1])\n",
    "        total += valor\n",
    "\n",
    "    cupom_desconto = input()\n",
    "\n",
    "    if cupom_desconto == \"10%\":\n",
    "        total = total * 0.9\n",
    "    elif cupom_desconto == \"20%\":\n",
    "        total = total * 0.8\n",
    "\n",
    "    print(f\"Valor total: {total:.2f}\")\n",
    "\n",
    "\n",
    "if __name__ == \"__main__\":\n",
    "    main()\n"
   ]
  },
  {
   "cell_type": "markdown",
   "id": "535b36ae",
   "metadata": {},
   "source": [
    "### 5. Identificando Pedidos Veganos"
   ]
  },
  {
   "cell_type": "code",
   "execution_count": 10,
   "id": "c5e4bcb0",
   "metadata": {},
   "outputs": [
    {
     "name": "stdout",
     "output_type": "stream",
     "text": [
      "1\n",
      "Hamburguer de lentilha\n",
      "300\n",
      "s\n",
      "Pedido 1: Hamburguer de lentilha (Vegano) - 300 calorias\n"
     ]
    }
   ],
   "source": [
    "numPedidos = int(input())\n",
    "\n",
    "for i in range(1, numPedidos + 1):\n",
    "    prato = input()\n",
    "    calorias = int(input())\n",
    "    ehVegano = input()\n",
    "\n",
    "    if ehVegano == \"s\":\n",
    "        ehVegano = True\n",
    "    else:\n",
    "        ehVegano = False\n",
    "\n",
    "    descricaoVegano = \"Vegano\" if ehVegano else \"Não-vegano\"\n",
    "\n",
    "    print(f\"Pedido {i}: {prato} ({descricaoVegano}) - {calorias} calorias\")\n"
   ]
  },
  {
   "cell_type": "code",
   "execution_count": null,
   "id": "bd1e5524",
   "metadata": {},
   "outputs": [],
   "source": []
  }
 ],
 "metadata": {
  "kernelspec": {
   "display_name": "Python 3 (ipykernel)",
   "language": "python",
   "name": "python3"
  },
  "language_info": {
   "codemirror_mode": {
    "name": "ipython",
    "version": 3
   },
   "file_extension": ".py",
   "mimetype": "text/x-python",
   "name": "python",
   "nbconvert_exporter": "python",
   "pygments_lexer": "ipython3",
   "version": "3.9.16"
  }
 },
 "nbformat": 4,
 "nbformat_minor": 5
}
