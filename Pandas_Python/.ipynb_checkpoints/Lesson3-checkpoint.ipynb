{
 "cells": [
  {
   "cell_type": "markdown",
   "id": "a55bb83d",
   "metadata": {},
   "source": [
    "# Summary Functions and Maps"
   ]
  },
  {
   "cell_type": "code",
   "execution_count": 1,
   "id": "33595c55",
   "metadata": {},
   "outputs": [],
   "source": [
    "import pandas as pd"
   ]
  },
  {
   "cell_type": "code",
   "execution_count": 2,
   "id": "2749b0a5",
   "metadata": {},
   "outputs": [],
   "source": [
    "reviews = pd.read_csv(\"winemag-data-130k-v2.csv\", index_col=0)"
   ]
  },
  {
   "cell_type": "code",
   "execution_count": 3,
   "id": "defb3df7",
   "metadata": {},
   "outputs": [
    {
     "data": {
      "text/html": [
       "<div>\n",
       "<style scoped>\n",
       "    .dataframe tbody tr th:only-of-type {\n",
       "        vertical-align: middle;\n",
       "    }\n",
       "\n",
       "    .dataframe tbody tr th {\n",
       "        vertical-align: top;\n",
       "    }\n",
       "\n",
       "    .dataframe thead th {\n",
       "        text-align: right;\n",
       "    }\n",
       "</style>\n",
       "<table border=\"1\" class=\"dataframe\">\n",
       "  <thead>\n",
       "    <tr style=\"text-align: right;\">\n",
       "      <th></th>\n",
       "      <th>country</th>\n",
       "      <th>description</th>\n",
       "      <th>designation</th>\n",
       "      <th>points</th>\n",
       "      <th>price</th>\n",
       "      <th>province</th>\n",
       "      <th>region_1</th>\n",
       "      <th>region_2</th>\n",
       "      <th>taster_name</th>\n",
       "      <th>taster_twitter_handle</th>\n",
       "      <th>title</th>\n",
       "      <th>variety</th>\n",
       "      <th>winery</th>\n",
       "    </tr>\n",
       "  </thead>\n",
       "  <tbody>\n",
       "    <tr>\n",
       "      <th>0</th>\n",
       "      <td>Italy</td>\n",
       "      <td>Aromas include tropical fruit, broom, brimston...</td>\n",
       "      <td>Vulkà Bianco</td>\n",
       "      <td>87</td>\n",
       "      <td>NaN</td>\n",
       "      <td>Sicily &amp; Sardinia</td>\n",
       "      <td>Etna</td>\n",
       "      <td>NaN</td>\n",
       "      <td>Kerin O’Keefe</td>\n",
       "      <td>@kerinokeefe</td>\n",
       "      <td>Nicosia 2013 Vulkà Bianco  (Etna)</td>\n",
       "      <td>White Blend</td>\n",
       "      <td>Nicosia</td>\n",
       "    </tr>\n",
       "    <tr>\n",
       "      <th>1</th>\n",
       "      <td>Portugal</td>\n",
       "      <td>This is ripe and fruity, a wine that is smooth...</td>\n",
       "      <td>Avidagos</td>\n",
       "      <td>87</td>\n",
       "      <td>15.0</td>\n",
       "      <td>Douro</td>\n",
       "      <td>NaN</td>\n",
       "      <td>NaN</td>\n",
       "      <td>Roger Voss</td>\n",
       "      <td>@vossroger</td>\n",
       "      <td>Quinta dos Avidagos 2011 Avidagos Red (Douro)</td>\n",
       "      <td>Portuguese Red</td>\n",
       "      <td>Quinta dos Avidagos</td>\n",
       "    </tr>\n",
       "    <tr>\n",
       "      <th>2</th>\n",
       "      <td>US</td>\n",
       "      <td>Tart and snappy, the flavors of lime flesh and...</td>\n",
       "      <td>NaN</td>\n",
       "      <td>87</td>\n",
       "      <td>14.0</td>\n",
       "      <td>Oregon</td>\n",
       "      <td>Willamette Valley</td>\n",
       "      <td>Willamette Valley</td>\n",
       "      <td>Paul Gregutt</td>\n",
       "      <td>@paulgwine</td>\n",
       "      <td>Rainstorm 2013 Pinot Gris (Willamette Valley)</td>\n",
       "      <td>Pinot Gris</td>\n",
       "      <td>Rainstorm</td>\n",
       "    </tr>\n",
       "    <tr>\n",
       "      <th>3</th>\n",
       "      <td>US</td>\n",
       "      <td>Pineapple rind, lemon pith and orange blossom ...</td>\n",
       "      <td>Reserve Late Harvest</td>\n",
       "      <td>87</td>\n",
       "      <td>13.0</td>\n",
       "      <td>Michigan</td>\n",
       "      <td>Lake Michigan Shore</td>\n",
       "      <td>NaN</td>\n",
       "      <td>Alexander Peartree</td>\n",
       "      <td>NaN</td>\n",
       "      <td>St. Julian 2013 Reserve Late Harvest Riesling ...</td>\n",
       "      <td>Riesling</td>\n",
       "      <td>St. Julian</td>\n",
       "    </tr>\n",
       "    <tr>\n",
       "      <th>4</th>\n",
       "      <td>US</td>\n",
       "      <td>Much like the regular bottling from 2012, this...</td>\n",
       "      <td>Vintner's Reserve Wild Child Block</td>\n",
       "      <td>87</td>\n",
       "      <td>65.0</td>\n",
       "      <td>Oregon</td>\n",
       "      <td>Willamette Valley</td>\n",
       "      <td>Willamette Valley</td>\n",
       "      <td>Paul Gregutt</td>\n",
       "      <td>@paulgwine</td>\n",
       "      <td>Sweet Cheeks 2012 Vintner's Reserve Wild Child...</td>\n",
       "      <td>Pinot Noir</td>\n",
       "      <td>Sweet Cheeks</td>\n",
       "    </tr>\n",
       "  </tbody>\n",
       "</table>\n",
       "</div>"
      ],
      "text/plain": [
       "    country                                        description  \\\n",
       "0     Italy  Aromas include tropical fruit, broom, brimston...   \n",
       "1  Portugal  This is ripe and fruity, a wine that is smooth...   \n",
       "2        US  Tart and snappy, the flavors of lime flesh and...   \n",
       "3        US  Pineapple rind, lemon pith and orange blossom ...   \n",
       "4        US  Much like the regular bottling from 2012, this...   \n",
       "\n",
       "                          designation  points  price           province  \\\n",
       "0                        Vulkà Bianco      87    NaN  Sicily & Sardinia   \n",
       "1                            Avidagos      87   15.0              Douro   \n",
       "2                                 NaN      87   14.0             Oregon   \n",
       "3                Reserve Late Harvest      87   13.0           Michigan   \n",
       "4  Vintner's Reserve Wild Child Block      87   65.0             Oregon   \n",
       "\n",
       "              region_1           region_2         taster_name  \\\n",
       "0                 Etna                NaN       Kerin O’Keefe   \n",
       "1                  NaN                NaN          Roger Voss   \n",
       "2    Willamette Valley  Willamette Valley        Paul Gregutt   \n",
       "3  Lake Michigan Shore                NaN  Alexander Peartree   \n",
       "4    Willamette Valley  Willamette Valley        Paul Gregutt   \n",
       "\n",
       "  taster_twitter_handle                                              title  \\\n",
       "0          @kerinokeefe                  Nicosia 2013 Vulkà Bianco  (Etna)   \n",
       "1            @vossroger      Quinta dos Avidagos 2011 Avidagos Red (Douro)   \n",
       "2           @paulgwine       Rainstorm 2013 Pinot Gris (Willamette Valley)   \n",
       "3                   NaN  St. Julian 2013 Reserve Late Harvest Riesling ...   \n",
       "4           @paulgwine   Sweet Cheeks 2012 Vintner's Reserve Wild Child...   \n",
       "\n",
       "          variety               winery  \n",
       "0     White Blend              Nicosia  \n",
       "1  Portuguese Red  Quinta dos Avidagos  \n",
       "2      Pinot Gris            Rainstorm  \n",
       "3        Riesling           St. Julian  \n",
       "4      Pinot Noir         Sweet Cheeks  "
      ]
     },
     "execution_count": 3,
     "metadata": {},
     "output_type": "execute_result"
    }
   ],
   "source": [
    "reviews.head()"
   ]
  },
  {
   "cell_type": "markdown",
   "id": "1df3d0d7",
   "metadata": {},
   "source": [
    "## Summary functions"
   ]
  },
  {
   "cell_type": "code",
   "execution_count": 4,
   "id": "333590a2",
   "metadata": {},
   "outputs": [
    {
     "data": {
      "text/plain": [
       "count    65499.000000\n",
       "mean        88.434037\n",
       "std          3.030310\n",
       "min         80.000000\n",
       "25%         86.000000\n",
       "50%         88.000000\n",
       "75%         91.000000\n",
       "max        100.000000\n",
       "Name: points, dtype: float64"
      ]
     },
     "execution_count": 4,
     "metadata": {},
     "output_type": "execute_result"
    }
   ],
   "source": [
    "# Metodo .describe()\n",
    "reviews.points.describe()"
   ]
  },
  {
   "cell_type": "code",
   "execution_count": 5,
   "id": "61c88eb2",
   "metadata": {},
   "outputs": [
    {
     "data": {
      "text/plain": [
       "count          51856\n",
       "unique            19\n",
       "top       Roger Voss\n",
       "freq           13045\n",
       "Name: taster_name, dtype: object"
      ]
     },
     "execution_count": 5,
     "metadata": {},
     "output_type": "execute_result"
    }
   ],
   "source": [
    "reviews.taster_name.describe()"
   ]
  },
  {
   "cell_type": "code",
   "execution_count": 6,
   "id": "c218d1bc",
   "metadata": {},
   "outputs": [
    {
     "data": {
      "text/plain": [
       "88.43403716087269"
      ]
     },
     "execution_count": 6,
     "metadata": {},
     "output_type": "execute_result"
    }
   ],
   "source": [
    "# Usando a function mean() \n",
    "reviews.points.mean()"
   ]
  },
  {
   "cell_type": "code",
   "execution_count": 7,
   "id": "f79ffef8",
   "metadata": {},
   "outputs": [
    {
     "data": {
      "text/plain": [
       "array(['Kerin O’Keefe', 'Roger Voss', 'Paul Gregutt',\n",
       "       'Alexander Peartree', 'Michael Schachner', 'Anna Lee C. Iijima',\n",
       "       'Virginie Boone', 'Matt Kettmann', nan, 'Sean P. Sullivan',\n",
       "       'Jim Gordon', 'Joe Czerwinski', 'Anne Krebiehl\\xa0MW',\n",
       "       'Lauren Buzzeo', 'Mike DeSimone', 'Jeff Jenssen',\n",
       "       'Susan Kostrzewa', 'Carrie Dykes', 'Fiona Adams',\n",
       "       'Christina Pickard'], dtype=object)"
      ]
     },
     "execution_count": 7,
     "metadata": {},
     "output_type": "execute_result"
    }
   ],
   "source": [
    "# Usando a function unique() retorna valores sem duplicar\n",
    "reviews.taster_name.unique()"
   ]
  },
  {
   "cell_type": "code",
   "execution_count": 8,
   "id": "4c7ca3a1",
   "metadata": {},
   "outputs": [
    {
     "data": {
      "text/plain": [
       "Roger Voss            13045\n",
       "Michael Schachner      7752\n",
       "Kerin O’Keefe          5313\n",
       "Paul Gregutt           4851\n",
       "Virginie Boone         4696\n",
       "Matt Kettmann          3035\n",
       "Joe Czerwinski         2605\n",
       "Sean P. Sullivan       2358\n",
       "Anna Lee C. Iijima     2134\n",
       "Jim Gordon             2032\n",
       "Anne Krebiehl MW       1769\n",
       "Lauren Buzzeo           938\n",
       "Susan Kostrzewa         593\n",
       "Jeff Jenssen            234\n",
       "Mike DeSimone           231\n",
       "Alexander Peartree      210\n",
       "Carrie Dykes             45\n",
       "Fiona Adams              11\n",
       "Christina Pickard         4\n",
       "Name: taster_name, dtype: int64"
      ]
     },
     "execution_count": 8,
     "metadata": {},
     "output_type": "execute_result"
    }
   ],
   "source": [
    "# Usando o metodo value_counts()\n",
    "reviews.taster_name.value_counts()"
   ]
  },
  {
   "cell_type": "markdown",
   "id": "d52cadf1",
   "metadata": {},
   "source": [
    "## Maps"
   ]
  },
  {
   "cell_type": "code",
   "execution_count": 9,
   "id": "4956b4b7",
   "metadata": {},
   "outputs": [
    {
     "data": {
      "text/plain": [
       "0       -1.434037\n",
       "1       -1.434037\n",
       "2       -1.434037\n",
       "3       -1.434037\n",
       "4       -1.434037\n",
       "           ...   \n",
       "65494    1.565963\n",
       "65495    1.565963\n",
       "65496    1.565963\n",
       "65497    1.565963\n",
       "65498    1.565963\n",
       "Name: points, Length: 65499, dtype: float64"
      ]
     },
     "execution_count": 9,
     "metadata": {},
     "output_type": "execute_result"
    }
   ],
   "source": [
    "# Usando o metodo map() para mapear um conjunto de valores\n",
    "review_points_mean = reviews.points.mean()\n",
    "reviews.points.map(lambda p: p - review_points_mean)"
   ]
  },
  {
   "cell_type": "code",
   "execution_count": 10,
   "id": "b5afa848",
   "metadata": {},
   "outputs": [
    {
     "data": {
      "text/html": [
       "<div>\n",
       "<style scoped>\n",
       "    .dataframe tbody tr th:only-of-type {\n",
       "        vertical-align: middle;\n",
       "    }\n",
       "\n",
       "    .dataframe tbody tr th {\n",
       "        vertical-align: top;\n",
       "    }\n",
       "\n",
       "    .dataframe thead th {\n",
       "        text-align: right;\n",
       "    }\n",
       "</style>\n",
       "<table border=\"1\" class=\"dataframe\">\n",
       "  <thead>\n",
       "    <tr style=\"text-align: right;\">\n",
       "      <th></th>\n",
       "      <th>country</th>\n",
       "      <th>description</th>\n",
       "      <th>designation</th>\n",
       "      <th>points</th>\n",
       "      <th>price</th>\n",
       "      <th>province</th>\n",
       "      <th>region_1</th>\n",
       "      <th>region_2</th>\n",
       "      <th>taster_name</th>\n",
       "      <th>taster_twitter_handle</th>\n",
       "      <th>title</th>\n",
       "      <th>variety</th>\n",
       "      <th>winery</th>\n",
       "    </tr>\n",
       "  </thead>\n",
       "  <tbody>\n",
       "    <tr>\n",
       "      <th>0</th>\n",
       "      <td>Italy</td>\n",
       "      <td>Aromas include tropical fruit, broom, brimston...</td>\n",
       "      <td>Vulkà Bianco</td>\n",
       "      <td>-1.434037</td>\n",
       "      <td>NaN</td>\n",
       "      <td>Sicily &amp; Sardinia</td>\n",
       "      <td>Etna</td>\n",
       "      <td>NaN</td>\n",
       "      <td>Kerin O’Keefe</td>\n",
       "      <td>@kerinokeefe</td>\n",
       "      <td>Nicosia 2013 Vulkà Bianco  (Etna)</td>\n",
       "      <td>White Blend</td>\n",
       "      <td>Nicosia</td>\n",
       "    </tr>\n",
       "    <tr>\n",
       "      <th>1</th>\n",
       "      <td>Portugal</td>\n",
       "      <td>This is ripe and fruity, a wine that is smooth...</td>\n",
       "      <td>Avidagos</td>\n",
       "      <td>-1.434037</td>\n",
       "      <td>15.0</td>\n",
       "      <td>Douro</td>\n",
       "      <td>NaN</td>\n",
       "      <td>NaN</td>\n",
       "      <td>Roger Voss</td>\n",
       "      <td>@vossroger</td>\n",
       "      <td>Quinta dos Avidagos 2011 Avidagos Red (Douro)</td>\n",
       "      <td>Portuguese Red</td>\n",
       "      <td>Quinta dos Avidagos</td>\n",
       "    </tr>\n",
       "    <tr>\n",
       "      <th>2</th>\n",
       "      <td>US</td>\n",
       "      <td>Tart and snappy, the flavors of lime flesh and...</td>\n",
       "      <td>NaN</td>\n",
       "      <td>-1.434037</td>\n",
       "      <td>14.0</td>\n",
       "      <td>Oregon</td>\n",
       "      <td>Willamette Valley</td>\n",
       "      <td>Willamette Valley</td>\n",
       "      <td>Paul Gregutt</td>\n",
       "      <td>@paulgwine</td>\n",
       "      <td>Rainstorm 2013 Pinot Gris (Willamette Valley)</td>\n",
       "      <td>Pinot Gris</td>\n",
       "      <td>Rainstorm</td>\n",
       "    </tr>\n",
       "    <tr>\n",
       "      <th>3</th>\n",
       "      <td>US</td>\n",
       "      <td>Pineapple rind, lemon pith and orange blossom ...</td>\n",
       "      <td>Reserve Late Harvest</td>\n",
       "      <td>-1.434037</td>\n",
       "      <td>13.0</td>\n",
       "      <td>Michigan</td>\n",
       "      <td>Lake Michigan Shore</td>\n",
       "      <td>NaN</td>\n",
       "      <td>Alexander Peartree</td>\n",
       "      <td>NaN</td>\n",
       "      <td>St. Julian 2013 Reserve Late Harvest Riesling ...</td>\n",
       "      <td>Riesling</td>\n",
       "      <td>St. Julian</td>\n",
       "    </tr>\n",
       "    <tr>\n",
       "      <th>4</th>\n",
       "      <td>US</td>\n",
       "      <td>Much like the regular bottling from 2012, this...</td>\n",
       "      <td>Vintner's Reserve Wild Child Block</td>\n",
       "      <td>-1.434037</td>\n",
       "      <td>65.0</td>\n",
       "      <td>Oregon</td>\n",
       "      <td>Willamette Valley</td>\n",
       "      <td>Willamette Valley</td>\n",
       "      <td>Paul Gregutt</td>\n",
       "      <td>@paulgwine</td>\n",
       "      <td>Sweet Cheeks 2012 Vintner's Reserve Wild Child...</td>\n",
       "      <td>Pinot Noir</td>\n",
       "      <td>Sweet Cheeks</td>\n",
       "    </tr>\n",
       "    <tr>\n",
       "      <th>...</th>\n",
       "      <td>...</td>\n",
       "      <td>...</td>\n",
       "      <td>...</td>\n",
       "      <td>...</td>\n",
       "      <td>...</td>\n",
       "      <td>...</td>\n",
       "      <td>...</td>\n",
       "      <td>...</td>\n",
       "      <td>...</td>\n",
       "      <td>...</td>\n",
       "      <td>...</td>\n",
       "      <td>...</td>\n",
       "      <td>...</td>\n",
       "    </tr>\n",
       "    <tr>\n",
       "      <th>65494</th>\n",
       "      <td>France</td>\n",
       "      <td>Made from young vines from the Vaulorent porti...</td>\n",
       "      <td>Fourchaume Premier Cru</td>\n",
       "      <td>1.565963</td>\n",
       "      <td>45.0</td>\n",
       "      <td>Burgundy</td>\n",
       "      <td>Chablis</td>\n",
       "      <td>NaN</td>\n",
       "      <td>Roger Voss</td>\n",
       "      <td>@vossroger</td>\n",
       "      <td>William Fèvre 2005 Fourchaume Premier Cru  (Ch...</td>\n",
       "      <td>Chardonnay</td>\n",
       "      <td>William Fèvre</td>\n",
       "    </tr>\n",
       "    <tr>\n",
       "      <th>65495</th>\n",
       "      <td>Australia</td>\n",
       "      <td>This is a big, fat, almost sweet-tasting Caber...</td>\n",
       "      <td>NaN</td>\n",
       "      <td>1.565963</td>\n",
       "      <td>22.0</td>\n",
       "      <td>South Australia</td>\n",
       "      <td>McLaren Vale</td>\n",
       "      <td>NaN</td>\n",
       "      <td>Joe Czerwinski</td>\n",
       "      <td>@JoeCz</td>\n",
       "      <td>Tapestry 2005 Cabernet Sauvignon (McLaren Vale)</td>\n",
       "      <td>Cabernet Sauvignon</td>\n",
       "      <td>Tapestry</td>\n",
       "    </tr>\n",
       "    <tr>\n",
       "      <th>65496</th>\n",
       "      <td>US</td>\n",
       "      <td>Much improved over the unripe 2005, Fritz's 20...</td>\n",
       "      <td>Estate</td>\n",
       "      <td>1.565963</td>\n",
       "      <td>20.0</td>\n",
       "      <td>California</td>\n",
       "      <td>Dry Creek Valley</td>\n",
       "      <td>Sonoma</td>\n",
       "      <td>NaN</td>\n",
       "      <td>NaN</td>\n",
       "      <td>Fritz 2006 Estate Sauvignon Blanc (Dry Creek V...</td>\n",
       "      <td>Sauvignon Blanc</td>\n",
       "      <td>Fritz</td>\n",
       "    </tr>\n",
       "    <tr>\n",
       "      <th>65497</th>\n",
       "      <td>US</td>\n",
       "      <td>This wine wears its 15.8% alcohol better than ...</td>\n",
       "      <td>Block 24</td>\n",
       "      <td>1.565963</td>\n",
       "      <td>31.0</td>\n",
       "      <td>California</td>\n",
       "      <td>Napa Valley</td>\n",
       "      <td>Napa</td>\n",
       "      <td>NaN</td>\n",
       "      <td>NaN</td>\n",
       "      <td>Hendry 2004 Block 24 Primitivo (Napa Valley)</td>\n",
       "      <td>Primitivo</td>\n",
       "      <td>Hendry</td>\n",
       "    </tr>\n",
       "    <tr>\n",
       "      <th>65498</th>\n",
       "      <td>Spain</td>\n",
       "      <td>A unique take on Manzanilla Sherry, which is o...</td>\n",
       "      <td>Manzanilla</td>\n",
       "      <td>1.565963</td>\n",
       "      <td>10.0</td>\n",
       "      <td>Andalucia</td>\n",
       "      <td>Jerez</td>\n",
       "      <td>NaN</td>\n",
       "      <td>Michael Schachner</td>\n",
       "      <td>@wineschach</td>\n",
       "      <td>Bodegas Dios Baco S.L. NV Manzanilla Sherry (J...</td>\n",
       "      <td>Sherry</td>\n",
       "      <td>Bodegas Dios Baco S.L.</td>\n",
       "    </tr>\n",
       "  </tbody>\n",
       "</table>\n",
       "<p>65499 rows × 13 columns</p>\n",
       "</div>"
      ],
      "text/plain": [
       "         country                                        description  \\\n",
       "0          Italy  Aromas include tropical fruit, broom, brimston...   \n",
       "1       Portugal  This is ripe and fruity, a wine that is smooth...   \n",
       "2             US  Tart and snappy, the flavors of lime flesh and...   \n",
       "3             US  Pineapple rind, lemon pith and orange blossom ...   \n",
       "4             US  Much like the regular bottling from 2012, this...   \n",
       "...          ...                                                ...   \n",
       "65494     France  Made from young vines from the Vaulorent porti...   \n",
       "65495  Australia  This is a big, fat, almost sweet-tasting Caber...   \n",
       "65496         US  Much improved over the unripe 2005, Fritz's 20...   \n",
       "65497         US  This wine wears its 15.8% alcohol better than ...   \n",
       "65498      Spain  A unique take on Manzanilla Sherry, which is o...   \n",
       "\n",
       "                              designation    points  price           province  \\\n",
       "0                            Vulkà Bianco -1.434037    NaN  Sicily & Sardinia   \n",
       "1                                Avidagos -1.434037   15.0              Douro   \n",
       "2                                     NaN -1.434037   14.0             Oregon   \n",
       "3                    Reserve Late Harvest -1.434037   13.0           Michigan   \n",
       "4      Vintner's Reserve Wild Child Block -1.434037   65.0             Oregon   \n",
       "...                                   ...       ...    ...                ...   \n",
       "65494              Fourchaume Premier Cru  1.565963   45.0           Burgundy   \n",
       "65495                                 NaN  1.565963   22.0    South Australia   \n",
       "65496                              Estate  1.565963   20.0         California   \n",
       "65497                            Block 24  1.565963   31.0         California   \n",
       "65498                          Manzanilla  1.565963   10.0          Andalucia   \n",
       "\n",
       "                  region_1           region_2         taster_name  \\\n",
       "0                     Etna                NaN       Kerin O’Keefe   \n",
       "1                      NaN                NaN          Roger Voss   \n",
       "2        Willamette Valley  Willamette Valley        Paul Gregutt   \n",
       "3      Lake Michigan Shore                NaN  Alexander Peartree   \n",
       "4        Willamette Valley  Willamette Valley        Paul Gregutt   \n",
       "...                    ...                ...                 ...   \n",
       "65494              Chablis                NaN          Roger Voss   \n",
       "65495         McLaren Vale                NaN      Joe Czerwinski   \n",
       "65496     Dry Creek Valley             Sonoma                 NaN   \n",
       "65497          Napa Valley               Napa                 NaN   \n",
       "65498                Jerez                NaN   Michael Schachner   \n",
       "\n",
       "      taster_twitter_handle  \\\n",
       "0              @kerinokeefe   \n",
       "1                @vossroger   \n",
       "2               @paulgwine    \n",
       "3                       NaN   \n",
       "4               @paulgwine    \n",
       "...                     ...   \n",
       "65494            @vossroger   \n",
       "65495                @JoeCz   \n",
       "65496                   NaN   \n",
       "65497                   NaN   \n",
       "65498           @wineschach   \n",
       "\n",
       "                                                   title             variety  \\\n",
       "0                      Nicosia 2013 Vulkà Bianco  (Etna)         White Blend   \n",
       "1          Quinta dos Avidagos 2011 Avidagos Red (Douro)      Portuguese Red   \n",
       "2          Rainstorm 2013 Pinot Gris (Willamette Valley)          Pinot Gris   \n",
       "3      St. Julian 2013 Reserve Late Harvest Riesling ...            Riesling   \n",
       "4      Sweet Cheeks 2012 Vintner's Reserve Wild Child...          Pinot Noir   \n",
       "...                                                  ...                 ...   \n",
       "65494  William Fèvre 2005 Fourchaume Premier Cru  (Ch...          Chardonnay   \n",
       "65495    Tapestry 2005 Cabernet Sauvignon (McLaren Vale)  Cabernet Sauvignon   \n",
       "65496  Fritz 2006 Estate Sauvignon Blanc (Dry Creek V...     Sauvignon Blanc   \n",
       "65497       Hendry 2004 Block 24 Primitivo (Napa Valley)           Primitivo   \n",
       "65498  Bodegas Dios Baco S.L. NV Manzanilla Sherry (J...              Sherry   \n",
       "\n",
       "                       winery  \n",
       "0                     Nicosia  \n",
       "1         Quinta dos Avidagos  \n",
       "2                   Rainstorm  \n",
       "3                  St. Julian  \n",
       "4                Sweet Cheeks  \n",
       "...                       ...  \n",
       "65494           William Fèvre  \n",
       "65495                Tapestry  \n",
       "65496                   Fritz  \n",
       "65497                  Hendry  \n",
       "65498  Bodegas Dios Baco S.L.  \n",
       "\n",
       "[65499 rows x 13 columns]"
      ]
     },
     "execution_count": 10,
     "metadata": {},
     "output_type": "execute_result"
    }
   ],
   "source": [
    "# Usando a function apply() para chamar o DataFrame por linhas\n",
    "def remean_points(row):\n",
    "    row.points = row.points - review_points_mean\n",
    "    return row\n",
    "\n",
    "reviews.apply(remean_points, axis='columns')"
   ]
  },
  {
   "cell_type": "code",
   "execution_count": 11,
   "id": "51425dbb",
   "metadata": {},
   "outputs": [
    {
     "data": {
      "text/html": [
       "<div>\n",
       "<style scoped>\n",
       "    .dataframe tbody tr th:only-of-type {\n",
       "        vertical-align: middle;\n",
       "    }\n",
       "\n",
       "    .dataframe tbody tr th {\n",
       "        vertical-align: top;\n",
       "    }\n",
       "\n",
       "    .dataframe thead th {\n",
       "        text-align: right;\n",
       "    }\n",
       "</style>\n",
       "<table border=\"1\" class=\"dataframe\">\n",
       "  <thead>\n",
       "    <tr style=\"text-align: right;\">\n",
       "      <th></th>\n",
       "      <th>country</th>\n",
       "      <th>description</th>\n",
       "      <th>designation</th>\n",
       "      <th>points</th>\n",
       "      <th>price</th>\n",
       "      <th>province</th>\n",
       "      <th>region_1</th>\n",
       "      <th>region_2</th>\n",
       "      <th>taster_name</th>\n",
       "      <th>taster_twitter_handle</th>\n",
       "      <th>title</th>\n",
       "      <th>variety</th>\n",
       "      <th>winery</th>\n",
       "    </tr>\n",
       "  </thead>\n",
       "  <tbody>\n",
       "    <tr>\n",
       "      <th>0</th>\n",
       "      <td>Italy</td>\n",
       "      <td>Aromas include tropical fruit, broom, brimston...</td>\n",
       "      <td>Vulkà Bianco</td>\n",
       "      <td>87</td>\n",
       "      <td>NaN</td>\n",
       "      <td>Sicily &amp; Sardinia</td>\n",
       "      <td>Etna</td>\n",
       "      <td>NaN</td>\n",
       "      <td>Kerin O’Keefe</td>\n",
       "      <td>@kerinokeefe</td>\n",
       "      <td>Nicosia 2013 Vulkà Bianco  (Etna)</td>\n",
       "      <td>White Blend</td>\n",
       "      <td>Nicosia</td>\n",
       "    </tr>\n",
       "  </tbody>\n",
       "</table>\n",
       "</div>"
      ],
      "text/plain": [
       "  country                                        description   designation  \\\n",
       "0   Italy  Aromas include tropical fruit, broom, brimston...  Vulkà Bianco   \n",
       "\n",
       "   points  price           province region_1 region_2    taster_name  \\\n",
       "0      87    NaN  Sicily & Sardinia     Etna      NaN  Kerin O’Keefe   \n",
       "\n",
       "  taster_twitter_handle                              title      variety  \\\n",
       "0          @kerinokeefe  Nicosia 2013 Vulkà Bianco  (Etna)  White Blend   \n",
       "\n",
       "    winery  \n",
       "0  Nicosia  "
      ]
     },
     "execution_count": 11,
     "metadata": {},
     "output_type": "execute_result"
    }
   ],
   "source": [
    "# Agora conseguimos chamar o DataFrame por linhas\n",
    "reviews.head(1)"
   ]
  },
  {
   "cell_type": "code",
   "execution_count": 12,
   "id": "65ea69e0",
   "metadata": {},
   "outputs": [
    {
     "data": {
      "text/plain": [
       "0       -1.434037\n",
       "1       -1.434037\n",
       "2       -1.434037\n",
       "3       -1.434037\n",
       "4       -1.434037\n",
       "           ...   \n",
       "65494    1.565963\n",
       "65495    1.565963\n",
       "65496    1.565963\n",
       "65497    1.565963\n",
       "65498    1.565963\n",
       "Name: points, Length: 65499, dtype: float64"
      ]
     },
     "execution_count": 12,
     "metadata": {},
     "output_type": "execute_result"
    }
   ],
   "source": [
    "# Outras operacoes\n",
    "review_points_mean = reviews.points.mean()\n",
    "reviews.points - review_points_mean"
   ]
  },
  {
   "cell_type": "code",
   "execution_count": 13,
   "id": "26b0d647",
   "metadata": {},
   "outputs": [
    {
     "data": {
      "text/plain": [
       "0                    Italy - Etna\n",
       "1                             NaN\n",
       "2          US - Willamette Valley\n",
       "3        US - Lake Michigan Shore\n",
       "4          US - Willamette Valley\n",
       "                   ...           \n",
       "65494            France - Chablis\n",
       "65495    Australia - McLaren Vale\n",
       "65496       US - Dry Creek Valley\n",
       "65497            US - Napa Valley\n",
       "65498               Spain - Jerez\n",
       "Length: 65499, dtype: object"
      ]
     },
     "execution_count": 13,
     "metadata": {},
     "output_type": "execute_result"
    }
   ],
   "source": [
    "reviews.country + \" - \" + reviews.region_1"
   ]
  },
  {
   "cell_type": "markdown",
   "id": "fb3fb31c",
   "metadata": {},
   "source": [
    "## Exercise: Summary Functions and Maps"
   ]
  },
  {
   "cell_type": "markdown",
   "id": "86caa526",
   "metadata": {},
   "source": [
    "### 1"
   ]
  },
  {
   "cell_type": "code",
   "execution_count": 19,
   "id": "0c08011c",
   "metadata": {},
   "outputs": [
    {
     "data": {
      "text/plain": [
       "88.0"
      ]
     },
     "execution_count": 19,
     "metadata": {},
     "output_type": "execute_result"
    }
   ],
   "source": [
    "# Qual é a mediana da coluna de pontos nos comentários DataFrame?\n",
    "median_points = reviews.points.median()\n",
    "median_points"
   ]
  },
  {
   "cell_type": "markdown",
   "id": "fa3fd74d",
   "metadata": {},
   "source": [
    "### 2"
   ]
  },
  {
   "cell_type": "code",
   "execution_count": 20,
   "id": "6b076f78",
   "metadata": {},
   "outputs": [
    {
     "data": {
      "text/plain": [
       "array(['Italy', 'Portugal', 'US', 'Spain', 'France', 'Germany',\n",
       "       'Argentina', 'Chile', 'Australia', 'Austria', 'South Africa',\n",
       "       'New Zealand', 'Israel', 'Hungary', 'Greece', 'Romania', 'Mexico',\n",
       "       'Canada', nan, 'Turkey', 'Czech Republic', 'Slovenia',\n",
       "       'Luxembourg', 'Croatia', 'Georgia', 'Uruguay', 'England',\n",
       "       'Lebanon', 'Serbia', 'Brazil', 'Moldova', 'Morocco', 'Peru',\n",
       "       'India', 'Bulgaria', 'Cyprus', 'Armenia', 'Switzerland',\n",
       "       'Bosnia and Herzegovina', 'Ukraine', 'Slovakia', 'Macedonia'],\n",
       "      dtype=object)"
      ]
     },
     "execution_count": 20,
     "metadata": {},
     "output_type": "execute_result"
    }
   ],
   "source": [
    "# Quais países estão representados no conjunto de dados? (Sua resposta não deve incluir duplicatas.)\n",
    "country = reviews.country.unique()\n",
    "country"
   ]
  },
  {
   "cell_type": "markdown",
   "id": "01649f7b",
   "metadata": {},
   "source": [
    "### 3"
   ]
  },
  {
   "cell_type": "code",
   "execution_count": 21,
   "id": "60c9f1e7",
   "metadata": {},
   "outputs": [
    {
     "data": {
      "text/plain": [
       "US                        27177\n",
       "France                    11174\n",
       "Italy                     10005\n",
       "Spain                      3409\n",
       "Portugal                   2963\n",
       "Chile                      2258\n",
       "Argentina                  1907\n",
       "Austria                    1635\n",
       "Australia                  1177\n",
       "Germany                    1051\n",
       "South Africa                737\n",
       "New Zealand                 733\n",
       "Israel                      259\n",
       "Greece                      242\n",
       "Canada                      108\n",
       "Bulgaria                     68\n",
       "Romania                      67\n",
       "Hungary                      61\n",
       "Uruguay                      61\n",
       "Croatia                      44\n",
       "Turkey                       43\n",
       "Slovenia                     39\n",
       "Georgia                      37\n",
       "England                      36\n",
       "Mexico                       31\n",
       "Brazil                       31\n",
       "Moldova                      30\n",
       "Lebanon                      20\n",
       "Morocco                      11\n",
       "Peru                          8\n",
       "Serbia                        7\n",
       "Cyprus                        6\n",
       "Macedonia                     6\n",
       "Czech Republic                6\n",
       "Ukraine                       5\n",
       "India                         4\n",
       "Switzerland                   4\n",
       "Luxembourg                    4\n",
       "Armenia                       1\n",
       "Bosnia and Herzegovina        1\n",
       "Slovakia                      1\n",
       "Name: country, dtype: int64"
      ]
     },
     "execution_count": 21,
     "metadata": {},
     "output_type": "execute_result"
    }
   ],
   "source": [
    "# Com que frequência cada país aparece no conjunto de dados? \n",
    "# Crie uma série reviews_per_country mapeando países para a contagem de avaliações de vinhos daquele país.\n",
    "reviews_per_country = reviews.country.value_counts()\n",
    "reviews_per_country"
   ]
  },
  {
   "cell_type": "markdown",
   "id": "ef01b0c6",
   "metadata": {},
   "source": [
    "### 4"
   ]
  },
  {
   "cell_type": "code",
   "execution_count": 22,
   "id": "a2ab232e",
   "metadata": {},
   "outputs": [
    {
     "data": {
      "text/plain": [
       "0              NaN\n",
       "1       -20.232932\n",
       "2       -21.232932\n",
       "3       -22.232932\n",
       "4        29.767068\n",
       "           ...    \n",
       "65494     9.767068\n",
       "65495   -13.232932\n",
       "65496   -15.232932\n",
       "65497    -4.232932\n",
       "65498   -25.232932\n",
       "Name: price, Length: 65499, dtype: float64"
      ]
     },
     "execution_count": 22,
     "metadata": {},
     "output_type": "execute_result"
    }
   ],
   "source": [
    "# Crie a variável centered_price contendo uma versão da coluna de preço com o preço médio subtraído.\n",
    "# (Obs: essa transformação de 'centralização' é uma etapa comum de pré-processamento \n",
    "# antes de aplicar vários algoritmos de aprendizado de máquina.)\n",
    "centered_price = reviews.price - reviews.price.mean()\n",
    "centered_price"
   ]
  },
  {
   "cell_type": "markdown",
   "id": "8787720a",
   "metadata": {},
   "source": [
    "### 5"
   ]
  },
  {
   "cell_type": "code",
   "execution_count": 24,
   "id": "fe7e376d",
   "metadata": {},
   "outputs": [
    {
     "data": {
      "text/plain": [
       "'Bandit NV Merlot (California)'"
      ]
     },
     "execution_count": 24,
     "metadata": {},
     "output_type": "execute_result"
    }
   ],
   "source": [
    "# Crie uma variável bargain_wine com o título do vinho com a maior relação pontos-preço no conjunto de dados.\n",
    "bargain_idx = (reviews.points / reviews.price).idxmax()\n",
    "bargain_wine = reviews.loc[bargain_idx, 'title']\n",
    "bargain_wine"
   ]
  },
  {
   "cell_type": "markdown",
   "id": "698c2a4a",
   "metadata": {},
   "source": [
    "### 6"
   ]
  },
  {
   "cell_type": "code",
   "execution_count": 25,
   "id": "ca6d11a2",
   "metadata": {},
   "outputs": [
    {
     "data": {
      "text/plain": [
       "tropical    1813\n",
       "fruity      4632\n",
       "dtype: int64"
      ]
     },
     "execution_count": 25,
     "metadata": {},
     "output_type": "execute_result"
    }
   ],
   "source": [
    "# Crie uma série descriptor_counts contando quantas vezes cada uma dessas duas palavras \n",
    "# aparece na coluna de descrição no conjunto de dados. \n",
    "# (Para simplificar, vamos ignorar as versões em maiúsculas dessas palavras.)\n",
    "n_trop = reviews.description.map(lambda desc: \"tropical\" in desc).sum()\n",
    "n_fruity = reviews.description.map(lambda desc: \"fruity\" in desc).sum()\n",
    "descriptor_counts = pd.Series([n_trop, n_fruity], index=['tropical', 'fruity'])\n",
    "descriptor_counts"
   ]
  },
  {
   "cell_type": "markdown",
   "id": "f6e557e1",
   "metadata": {},
   "source": [
    "### 7"
   ]
  },
  {
   "cell_type": "code",
   "execution_count": 27,
   "id": "42e9fdd2",
   "metadata": {},
   "outputs": [
    {
     "data": {
      "text/plain": [
       "0        2\n",
       "1        2\n",
       "2        2\n",
       "3        2\n",
       "4        2\n",
       "        ..\n",
       "65494    2\n",
       "65495    2\n",
       "65496    2\n",
       "65497    2\n",
       "65498    2\n",
       "Length: 65499, dtype: int64"
      ]
     },
     "execution_count": 27,
     "metadata": {},
     "output_type": "execute_result"
    }
   ],
   "source": [
    "# Gostaríamos de hospedar essas avaliações de vinhos em nosso site,\n",
    "# mas um sistema de classificação que varia de 80 a 100 pontos é muito difícil de entender - \n",
    "# gostaríamos de traduzi-las em classificações de estrelas simples. \n",
    "# Uma pontuação de 95 ou mais conta como 3 estrelas, uma pontuação de pelo menos 85, mas inferior a 95 é 2 estrelas. \n",
    "# Qualquer outra pontuação é 1 estrela.\n",
    "# Além disso, a Canadian Vintners Association comprou muitos anúncios no site, portanto, \n",
    "# qualquer vinho do Canadá deve receber automaticamente 3 estrelas, independentemente dos pontos.\n",
    "\n",
    "# Crie uma série star_ratings com o número de estrelas correspondente a cada avaliação no conjunto de dados.\n",
    "\n",
    "def stars(row):\n",
    "    if row.country == 'Canada':\n",
    "        return 3\n",
    "    elif row.points >= 95:\n",
    "        return 3\n",
    "    elif row.points >= 85:\n",
    "        return 2\n",
    "    else:\n",
    "        return 1\n",
    "\n",
    "star_ratings = reviews.apply(stars, axis='columns')\n",
    "star_ratings"
   ]
  }
 ],
 "metadata": {
  "kernelspec": {
   "display_name": "Python 3 (ipykernel)",
   "language": "python",
   "name": "python3"
  },
  "language_info": {
   "codemirror_mode": {
    "name": "ipython",
    "version": 3
   },
   "file_extension": ".py",
   "mimetype": "text/x-python",
   "name": "python",
   "nbconvert_exporter": "python",
   "pygments_lexer": "ipython3",
   "version": "3.9.12"
  }
 },
 "nbformat": 4,
 "nbformat_minor": 5
}
